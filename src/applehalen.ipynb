{
 "cells": [
  {
   "cell_type": "code",
   "execution_count": null,
   "metadata": {},
   "outputs": [],
   "source": [
    "import torch\n",
    "from glob import glob\n",
    "import sys\n",
    "import os\n",
    "import shutil\n",
    "\n",
    "img_root = r\"C:\\Users\\jiyoo\\workspace\\MakeAIWork3\\project3\\apple_disease_classification\"\n",
    "\n",
    "img_folders = [\n",
    "    \"Test/Rot_Apple\",\n",
    "    \"Test/Scab_Apple\",\n",
    "    \"Test/Blotch_Apple\",\n",
    "    \"Test/Normal_Apple\",\n",
    "    \"Train/Rot_Apple\",\n",
    "    \"Train/Scab_Apple\",\n",
    "    \"Train/Blotch_Apple\",\n",
    "    \"Train/Normal_Apple\",\n",
    "    \n",
    "]"
   ]
  },
  {
   "cell_type": "code",
   "execution_count": null,
   "metadata": {},
   "outputs": [],
   "source": [
    "output_folder = os.path.join(img_root, \"image_control\")\n",
    "os.makedirs(output_folder, exist_ok=True)  # Create the output folder if it doesn't exist\n"
   ]
  },
  {
   "cell_type": "code",
   "execution_count": null,
   "metadata": {},
   "outputs": [],
   "source": [
    "sys.path.insert(0, r\"C:\\Users\\jiyoo\\workspace\\MakeAIWork3\\yolov5\\models\")\n",
    "from yolov5.models.experimental import attempt_load"
   ]
  },
  {
   "cell_type": "code",
   "execution_count": null,
   "metadata": {},
   "outputs": [],
   "source": [
    "model = attempt_load(weights=r\"C:\\Users\\jiyoo\\workspace\\MakeAIWork3\\yolov5s.pt\")"
   ]
  },
  {
   "cell_type": "code",
   "execution_count": null,
   "metadata": {},
   "outputs": [],
   "source": [
    "for img_folder in img_folders:\n",
    "    img_path = os.path.join(img_root, img_folder)\n",
    "    img_list = glob(img_path + '/*.jpg')\n",
    "    img_list.extend(glob(img_path + '/*.png'))\n",
    "\n",
    "    for img_path in img_list:\n",
    "        results = model(img_path)\n",
    "        print(img_path)\n",
    "\n",
    "        # Apple herkennen met YOLOv5\n",
    "        apple_results = results.pred[0][results.pred[0][:, -1] == 0]  # Filter resultaten voor appel (klasse 0)\n",
    "\n",
    "        # Masker toepassen op de appelvorm\n",
    "        masks = apple_results[:, 4:].argmax(dim=1).unsqueeze(1).float()\n",
    "        masked_results = torch.cat((apple_results[:, :4], masks), dim=1)\n",
    "\n",
    "        # Create the corresponding subfolder structure in the output folder\n",
    "        rel_path = os.path.relpath(img_path, img_root)\n",
    "        output_subfolder = os.path.join(output_folder, os.path.dirname(rel_path))\n",
    "        os.makedirs(output_subfolder, exist_ok=True)\n",
    "\n",
    "        # Save the result to the corresponding location in the output folder\n",
    "        output_file = os.path.join(output_subfolder, os.path.basename(img_path))\n",
    "        try:\n",
    "            masked_results.save(output_file)\n",
    "            print(\"Saved result to:\", output_file)\n",
    "        except Exception as e:\n",
    "            print(\"Error saving result:\", str(e))\n",
    "\n",
    "        for pred in apple_results:\n",
    "            tag = results.names[int(pred[-1])]\n",
    "            print(tag)\n"
   ]
  }
 ],
 "metadata": {
  "language_info": {
   "name": "python"
  },
  "orig_nbformat": 4
 },
 "nbformat": 4,
 "nbformat_minor": 2
}

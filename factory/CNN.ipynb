{
 "cells": [
  {
   "attachments": {},
   "cell_type": "markdown",
   "metadata": {},
   "source": [
    "# Convolution Neural Net (CNN)\n",
    "to detect apples"
   ]
  },
  {
   "attachments": {},
   "cell_type": "markdown",
   "metadata": {},
   "source": [
    "# Imports"
   ]
  },
  {
   "cell_type": "code",
   "execution_count": 1,
   "metadata": {},
   "outputs": [],
   "source": [
    "import matplotlib.pyplot as plt\n",
    "import numpy as np\n",
    "import modules.cosmos_functions as cf\n",
    "\n",
    "import pprint\n",
    "import random\n",
    "import torch\n",
    "import torchvision\n",
    "import torch.nn.functional as FF\n",
    "import torchvision.transforms.functional as F\n",
    "import torchvision.transforms as T\n",
    "import wandb\n",
    "\n",
    "from datetime import datetime\n",
    "from os import listdir, path\n",
    "from torch import nn\n",
    "from torch.utils.data import Dataset, DataLoader, random_split\n",
    "from torchvision.datasets import ImageFolder\n",
    "from torch.utils.data import random_split\n",
    "from torchvision.io import ImageReadMode\n",
    "from torchvision.io import read_image\n",
    "from tqdm import tqdm"
   ]
  },
  {
   "cell_type": "code",
   "execution_count": 2,
   "metadata": {},
   "outputs": [
    {
     "name": "stdout",
     "output_type": "stream",
     "text": [
      "Device is 'mps' Thus a tensor will look like this: tensor([1.], device='mps:0')\n"
     ]
    }
   ],
   "source": [
    "# set the device\n",
    "\n",
    "device = (\n",
    "    \"cuda\"\n",
    "    if torch.cuda.is_available()\n",
    "    else \"mps\"\n",
    "    if torch.backends.mps.is_available()\n",
    "    else \"cpu\"\n",
    ")\n",
    "x = torch.ones(1, device=device)\n",
    "\n",
    "print(f\"Device is '{device}' Thus a tensor will look like this: {x}\")"
   ]
  },
  {
   "cell_type": "code",
   "execution_count": 3,
   "metadata": {},
   "outputs": [],
   "source": [
    "# function to show an image from the dataloader with its label\n",
    "def show_batch(train_d,test_d,val_d):\n",
    "    # Get a batch of data from the DataLoader\n",
    "    data_train = next(iter(train_d))\n",
    "    data_test = next(iter(test_d))\n",
    "    data_val = next(iter(val_d))\n",
    "\n",
    "    # Set the savefig.bbox parameter to 'tight'\n",
    "    plt.rcParams[\"savefig.bbox\"] = 'tight'\n",
    "\n",
    "    # Retrieve the first tensor and its corresponding label\n",
    "    image_train = data_train[0][0]\n",
    "    image_test = data_test[0][0]\n",
    "    image_val = data_val[0][0]\n",
    "    label_train = data_train[1][0]\n",
    "    label_test = data_test[1][0]\n",
    "    label_val = data_val[1][0]\n",
    "  \n",
    "\n",
    "    # Create a figure with two subplots\n",
    "    fig, axes = plt.subplots(1, 3)\n",
    "\n",
    "\n",
    "    # Convert the image tensor to a NumPy array and transpose the dimensions\n",
    "    np_image_train = image_train.permute(1, 2, 0).numpy()\n",
    "    np_image_test = image_test.permute(1, 2, 0).numpy()\n",
    "    np_image_val = image_val.permute(1, 2, 0).numpy()\n",
    "    \n",
    "\n",
    "        # Display the original image in the first subplot\n",
    "    axes[0].imshow(np_image_train)  # ,cmap='gray' after the image name to create a greyscale image.\n",
    "    axes[0].set_title(f'{label_train}, {image_train.shape}')\n",
    "\n",
    "    # Display the pooled image in the second subplot\n",
    "    axes[1].imshow(np_image_test)  # ,cmap='gray' after the image name to create a greyscale image.\n",
    "    axes[1].set_title(f'{label_test}, {image_test.shape}')\n",
    "\n",
    "    # Display the pooled image in the third subplot\n",
    "    axes[2].imshow(np_image_val)  # ,cmap='gray' after the image name to create a greyscale image.\n",
    "    axes[2].set_title(f'{label_val}, {image_val.shape}')\n",
    "\n",
    "    # Adjust spacing between subplots to prevent overlap\n",
    "    fig.tight_layout()\n",
    "\n",
    "    # Show the plot\n",
    "    plt.show()"
   ]
  },
  {
   "cell_type": "code",
   "execution_count": 4,
   "metadata": {},
   "outputs": [],
   "source": [
    "# function to determine accuracy \n",
    "\n",
    "def evaluate_accuracy(logits, y_true):\n",
    "    # get index with the largest logit value PER OBSERVATION\n",
    "    _, y_pred = torch.max(logits, dim=1)\n",
    "\n",
    "    # calculate proportion of correct prediction\n",
    "    correct_pred = (y_pred == y_true).float()  # PyCharm error Unresolved attribute reference 'float' for class 'bool'\n",
    "    acc = correct_pred.sum() / len(correct_pred)\n",
    "\n",
    "    return acc * 100"
   ]
  },
  {
   "cell_type": "code",
   "execution_count": 5,
   "metadata": {},
   "outputs": [],
   "source": [
    "# function to train the model\n",
    "\n",
    "def train(model, train_loader, val_loader, criterion, optimizer, n_epochs, model_file_name='model.pt'):\n",
    "    # initialize container variable for model performance results per epoch\n",
    "    history = {\n",
    "        'n_epochs': n_epochs,\n",
    "        'train_loss': [],\n",
    "        'val_loss': [],\n",
    "        'train_acc': [],\n",
    "        'val_acc': []\n",
    "    }   \n",
    "\n",
    "    # initialize tracker for minimum validation loss\n",
    "    val_loss_min = np.Inf\n",
    "    val_acc_min = 0.0\n",
    "\n",
    "    # loop per epoch\n",
    "    for epoch in tqdm(range(n_epochs)):\n",
    "        # initialize tracker for training performance\n",
    "        train_acc = 0\n",
    "        train_loss = 0\n",
    "\n",
    "        ###################\n",
    "        # train the model #\n",
    "        ###################\n",
    "\n",
    "        # prepare model for training\n",
    "        model.train()\n",
    "\n",
    "        # loop for each batch\n",
    "        for data, target in tqdm(train_loader):\n",
    "            # move data to device\n",
    "            data, target = data.to(device), target.to(device)\n",
    "            \n",
    "            # STEP 1: clear gradients\n",
    "            optimizer.zero_grad()\n",
    "            # STEP 2: forward pass\n",
    "            output = model(data)\n",
    "            # STEP 3: calculate the loss\n",
    "            loss = criterion(output, target)\n",
    "            # STEP 4: backward pass\n",
    "            loss.backward()\n",
    "            # STEP 5: perform parameter update\n",
    "            optimizer.step()\n",
    "            # STEP 6: accumulate training loss and accuracy\n",
    "            train_loss += loss.item() * data.size(0)\n",
    "            acc = evaluate_accuracy(output, target)\n",
    "            train_acc += acc.item() * data.size(0)\n",
    "\n",
    "        ######################\n",
    "        # validate the model #\n",
    "        ######################\n",
    "\n",
    "        # disable gradient calculation\n",
    "        with torch.no_grad():\n",
    "            # initialize tracker for validation performance\n",
    "            val_acc = 0\n",
    "            val_loss = 0\n",
    "\n",
    "            # prepare model for evaluation\n",
    "            model.eval()\n",
    "\n",
    "            # loop for each batch\n",
    "            for data, target in tqdm(val_loader):\n",
    "                # move data to device\n",
    "                data, target = data.to(device), target.to(device)\n",
    "                # STEP 1: forward pass\n",
    "                output = model(data)\n",
    "                # STEP 2: calculate the loss\n",
    "                loss = criterion(output, target)\n",
    "                # STEP 3: accumulate validation loss and accuracy\n",
    "                val_loss += loss.item() * data.size(0)\n",
    "                acc = evaluate_accuracy(output, target)\n",
    "                val_acc += acc.item() * data.size(0)\n",
    "\n",
    "        ####################\n",
    "        # model evaluation #\n",
    "        ####################\n",
    "\n",
    "        # calculate average loss over an epoch\n",
    "        train_loss /= len(train_loader.sampler)\n",
    "        val_loss /= len(val_loader.sampler)\n",
    "        history['train_loss'].append(train_loss)\n",
    "        history['val_loss'].append(val_loss)\n",
    "\n",
    "        # calculate average accuracy over an epoch\n",
    "        train_acc /= len(train_loader.sampler)\n",
    "        val_acc /= len(val_loader.sampler)\n",
    "        history['train_acc'].append(train_acc)\n",
    "        history['val_acc'].append(val_acc)\n",
    "\n",
    "        # print training progress per epoch\n",
    "        print(f'Epoch {epoch+1:03} | Train Loss: {train_loss:.5f} | Val Loss: {val_loss:.5f} | Train Acc: {train_acc:.2f} | Val Acc: {val_acc:.2f}')\n",
    "\n",
    "        # save model if validation loss has decreased\n",
    "        if val_loss <= val_loss_min:\n",
    "            print(\n",
    "                f'Validation loss decreased ({val_loss_min:.5f} --> {val_loss:.5f})  Saving model to {model_file_name}...')\n",
    "            model_file_name_loss = model_file_name[:-3] + '_loss.pt'\n",
    "            torch.save(model.state_dict(), model_file_name_loss)\n",
    "            val_loss_min = val_loss\n",
    "        \n",
    "        # save model if validation accuracy has decreased\n",
    "        if val_acc >= val_acc_min:\n",
    "            print(\n",
    "                f'Validation accuracy increased ({val_acc_min:.5f} --> {val_loss:.5f})  Saving model to {model_file_name}...')\n",
    "            model_file_name_acc = model_file_name[:-3] + '_acc.pt'  \n",
    "            torch.save(model.state_dict(), model_file_name_acc)\n",
    "            val_acc_min = val_acc\n",
    "\n",
    "        print()\n",
    "\n",
    "    # return model performance history\n",
    "    return history"
   ]
  },
  {
   "cell_type": "code",
   "execution_count": 6,
   "metadata": {},
   "outputs": [],
   "source": [
    "# resize all the images in folder and subfolders ../storage/images/apple_disease_classification\n",
    "\n",
    "import os\n",
    "\n",
    "from PIL import Image, ImageOps\n",
    "\n",
    "resizeshape = 64\n",
    "\n",
    "for subdir, dirs, files in os.walk(\"../storage/images/apple_disease_classification\"):\n",
    "    for file in files:\n",
    "        filepath = subdir + os.sep + file\n",
    "\n",
    "        # to-do pre-check for all image filetypes\n",
    "        if filepath.endswith(\".jpg\") or filepath.endswith(\".jpeg\"):\n",
    "            img = Image.open(filepath)\n",
    "            if img.size != (resizeshape,resizeshape):\n",
    "                # had to delete one because the jpg was not parseable somehow, blotch #17 is png ipv jpg look into it later\n",
    "                rgb_im = img.convert('RGB')\n",
    "                rgb_im_resized = rgb_im.resize(\n",
    "                    (resizeshape, resizeshape))  # lets try 128x128\n",
    "                rgb_im_resized.save(filepath)\n",
    "\n",
    "                ## Quick way to augment dataset by flipping and mirroring\n",
    "                rgb_im_flipped = ImageOps.flip(rgb_im_resized)\n",
    "                rgb_im_mirrored = ImageOps.mirror(rgb_im_resized)\n",
    "\n",
    "                # Modify the file path to include 'flipped' before the extension\n",
    "                name, extension = os.path.splitext(filepath)\n",
    "                flipped_filepath = name + '_flipped' + extension\n",
    "                mirrored_filepath = name + '_mirrored' + extension"
   ]
  },
  {
   "cell_type": "code",
   "execution_count": 7,
   "metadata": {},
   "outputs": [
    {
     "name": "stdout",
     "output_type": "stream",
     "text": [
      "{'Blotch_Apple': 0, 'Normal_Apple': 1, 'Rot_Apple': 2, 'Scab_Apple': 3}\n"
     ]
    }
   ],
   "source": [
    "# load the dataset\n",
    "dataset_path = \"../storage/images/apple_disease_classification/Train\"\n",
    "transform = T.ToTensor()\n",
    "dataset = ImageFolder(dataset_path, transform=transform)\n",
    "\n",
    "\n",
    "\n",
    "dataset.class_to_idx\n",
    "pp = pprint.PrettyPrinter(indent=1)  # Create a PrettyPrinter instance with an indentation of 1 space\n",
    "pp.pprint(dataset.class_to_idx)  # Use the pprint method to print the dictionary"
   ]
  },
  {
   "cell_type": "code",
   "execution_count": 8,
   "metadata": {},
   "outputs": [
    {
     "name": "stdout",
     "output_type": "stream",
     "text": [
      "torch.Size([3, 64, 64])\n"
     ]
    },
    {
     "data": {
      "image/png": "[encoded data removed]",
      "text/plain": [
       "<Figure size 640x480 with 3 Axes>"
      ]
     },
     "metadata": {},
     "output_type": "display_data"
    },
    {
     "name": "stdout",
     "output_type": "stream",
     "text": [
      "tensor([[[0.8627, 0.7216, 0.5686,  ..., 0.6824, 0.6196, 0.5725],\n",
      "         [0.6039, 0.5961, 0.5569,  ..., 0.6510, 0.6000, 0.5882],\n",
      "         [0.4706, 0.5176, 0.5176,  ..., 0.6392, 0.5961, 0.6039],\n",
      "         ...,\n",
      "         [0.7216, 0.6980, 0.6824,  ..., 0.2235, 0.2157, 0.2118],\n",
      "         [0.6941, 0.6667, 0.6588,  ..., 0.2353, 0.2510, 0.2549],\n",
      "         [0.6941, 0.6667, 0.6667,  ..., 0.2784, 0.2471, 0.2431]],\n",
      "\n",
      "        [[0.7725, 0.6314, 0.4784,  ..., 0.6863, 0.6314, 0.5843],\n",
      "         [0.5294, 0.5216, 0.4824,  ..., 0.6471, 0.5961, 0.5843],\n",
      "         [0.4314, 0.4784, 0.4784,  ..., 0.6235, 0.5765, 0.5843],\n",
      "         ...,\n",
      "         [0.6431, 0.6196, 0.5961,  ..., 0.1882, 0.1804, 0.1765],\n",
      "         [0.6196, 0.5922, 0.5765,  ..., 0.1882, 0.2157, 0.2196],\n",
      "         [0.6196, 0.5922, 0.5843,  ..., 0.2314, 0.2118, 0.2078]],\n",
      "\n",
      "        [[0.4588, 0.3176, 0.1725,  ..., 0.7647, 0.7059, 0.6588],\n",
      "         [0.2314, 0.2235, 0.1843,  ..., 0.7020, 0.6510, 0.6392],\n",
      "         [0.1608, 0.2078, 0.2078,  ..., 0.6275, 0.5922, 0.6000],\n",
      "         ...,\n",
      "         [0.3569, 0.3333, 0.3020,  ..., 0.0196, 0.0118, 0.0078],\n",
      "         [0.3176, 0.2902, 0.2667,  ..., 0.0314, 0.0549, 0.0588],\n",
      "         [0.3098, 0.2824, 0.2667,  ..., 0.0745, 0.0588, 0.0549]]])\n"
     ]
    }
   ],
   "source": [
    "# create the test, train and validation set and the dataloader\n",
    "\n",
    "# setup split data \n",
    "dataset_size = len(dataset)\n",
    "train_ratio = 0.7\n",
    "val_ratio = 0.15\n",
    "test_ratio = 0.15\n",
    "\n",
    "\n",
    "# Set the seed for the generator\n",
    "seed = 42\n",
    "generator = torch.Generator().manual_seed(seed)\n",
    "\n",
    "# Calculate the number of samples for each split\n",
    "train_size = int(train_ratio * dataset_size)\n",
    "val_size = int(val_ratio * dataset_size)\n",
    "test_size = dataset_size - train_size - val_size\n",
    "\n",
    "# Split the dataset into train, validation, and test sets\n",
    "train_dataset, val_dataset, test_dataset = random_split(dataset, [train_size, val_size, test_size], generator=generator)\n",
    "\n",
    "\n",
    "# Define the batch size for the DataLoader\n",
    "batch_size = 64\n",
    "\n",
    "# Create the DataLoader to load the dataset in batches\n",
    "train_d = DataLoader(train_dataset, batch_size=batch_size, shuffle=True, num_workers=2)\n",
    "test_d = DataLoader(test_dataset, batch_size=batch_size, shuffle=True, num_workers=2)\n",
    "val_d = DataLoader(val_dataset, batch_size=batch_size, shuffle=True, num_workers=2)\n",
    "\n",
    "# print the shape of the 1st image in the dataset\n",
    "print(train_dataset[0][0].shape)\n",
    "\n",
    "# Show the 1st img in the dataset\n",
    "show_batch(train_d, test_d,val_d)\n",
    "print(train_dataset[0][0])"
   ]
  },
  {
   "cell_type": "code",
   "execution_count": 9,
   "metadata": {},
   "outputs": [],
   "source": [
    "# define the CNN model\n",
    "\n",
    "class CNN(nn.Module):\n",
    "    \n",
    "    #-------------------------------------------------------\n",
    "    \n",
    "    def __init__(self, dropout=0):\n",
    "        self.dropout = dropout\n",
    "        \n",
    "\n",
    "        # Because we inherit from Module base class\n",
    "        super().__init__()\n",
    "        \n",
    "        # RGB input, 6 filters, kernel of 5 x 5\n",
    "        self.conv1 = nn.Conv2d(3, 6, 5)\n",
    "        \n",
    "        # Filter is 2 x 2 with a stride of 2 (defined once, used two times)\n",
    "        self.pool = nn.MaxPool2d(2, 2)\n",
    "        \n",
    "        # in_channels = 6 because self.conv1 output has 6 channels\n",
    "        self.conv2 = nn.Conv2d(6, 16, 5)\n",
    "        \n",
    "        # Fully connected layer matched on output of conv2 layer\n",
    "        self.fc1 = nn.Linear(16 * 13 * 13, 120)\n",
    "        \n",
    "        # Dropout layer1\n",
    "        self.dropout1 = nn.Dropout(self.dropout)    \n",
    "\n",
    "        # Dropout layer2\n",
    "        self.dropout2 = nn.Dropout(self.dropout)\n",
    "\n",
    "        # Fully connected layer\n",
    "        self.fc2 = nn.Linear(120, 84)\n",
    "        \n",
    "        # We only have 2 labels\n",
    "        self.fc3 = nn.Linear(84, 10)\n",
    "        \n",
    "    #-------------------------------------------------------\n",
    "        \n",
    "    def forward(self, x):\n",
    "        \n",
    "        # Convolution with relu layers\n",
    "        x = self.pool(FF.relu(self.conv1(x)))\n",
    "        x = self.pool(FF.relu(self.conv2(x)))\n",
    "        \n",
    "        # To match the output of the conv2 layer onto the first fully connected layer\n",
    "        # Like reshape() but makes no copy (reuses underlaying data)\n",
    "        x = x.view(-1, 16 * 13 * 13)\n",
    "        \n",
    "        # Fully connected layers\n",
    "        x = FF.relu(self.fc1(x))\n",
    "        x = self.dropout1(x)\n",
    "        x = FF.relu(self.fc2(x))\n",
    "        x = self.dropout2(x)\n",
    "        \n",
    "        # No activation on final layer \n",
    "        return self.fc3(x)\n"
   ]
  },
  {
   "cell_type": "code",
   "execution_count": 10,
   "metadata": {},
   "outputs": [],
   "source": [
    "# set the hyperparameters and the model\n",
    "\n",
    "# hyperparameters\n",
    "learning_rate = 0.01\n",
    "epochs = 35\n",
    "momentum = 0.9\n",
    "total_epochs =0\n",
    "dropout = 0.2\n",
    "\n",
    "\n",
    "# model parameters\n",
    "\n",
    "model = CNN(dropout=dropout) # Create the model\n",
    "model.to(device) # set model to device\n",
    "model.train() # set model to train mode\n",
    "\n",
    "# optimizer\n",
    "optimizer = torch.optim.SGD(model.parameters(), lr=learning_rate, momentum=momentum)\n",
    "\n",
    "# loss function\n",
    "criterion = nn.CrossEntropyLoss()   # Define the loss function  \n",
    " \n",
    " # set the loaders to the correct names for the training loop\n",
    "train_loader = train_d\n",
    "val_loader = val_d\n",
    "\n",
    "# set epochloss to empty list\n",
    "epoch_loss = []"
   ]
  },
  {
   "cell_type": "code",
   "execution_count": 11,
   "metadata": {},
   "outputs": [
    {
     "name": "stdout",
     "output_type": "stream",
     "text": [
      "(\"hyperparameters: {'learning_rate': 0.01, 'epochs': 35, 'momentum': 0.9, \"\n",
      " \"'dropout': 0.2}\")\n",
      "\n",
      "(\"model_parameters: {'model': 'cnn', 'optimizer': 'SGD', 'criterion': \"\n",
      " \"'CrossEntropyLoss'}\")\n",
      "\n",
      "(\"parameters: {'learning_rate': 0.01, 'epochs': 35, 'momentum': 0.9, \"\n",
      " \"'dropout': 0.2, 'model': 'cnn', 'optimizer': 'SGD', 'criterion': \"\n",
      " \"'CrossEntropyLoss'}\")\n"
     ]
    }
   ],
   "source": [
    "# create dictionairies for the hyperparameters and model parameters\n",
    "hyperparameters = { 'learning_rate' : learning_rate, 'epochs' : epochs, 'momentum' : momentum, 'dropout' : dropout}\n",
    "model_parameters = { 'model' : 'cnn', 'optimizer' : 'SGD', 'criterion' : 'CrossEntropyLoss'}  # 'model' : model, 'optimizer' : optimizer, 'criterion' : criterion\n",
    "parameters = {**hyperparameters, **model_parameters}    # merge the two dictionairies\n",
    "pp = pprint.PrettyPrinter(indent=1)  \n",
    "\n",
    "pp.pprint(f'hyperparameters: {hyperparameters}')\n",
    "print()\n",
    "pp.pprint(f'model_parameters: {model_parameters}')\n",
    "print()\n",
    "pp.pprint(f'parameters: {parameters}')"
   ]
  },
  {
   "cell_type": "code",
   "execution_count": 12,
   "metadata": {},
   "outputs": [
    {
     "name": "stderr",
     "output_type": "stream",
     "text": [
      "100%|██████████| 5/5 [00:11<00:00,  2.28s/it]\n",
      "100%|██████████| 1/1 [00:06<00:00,  6.12s/it]\n",
      "  3%|▎         | 1/35 [00:17<09:56, 17.56s/it]"
     ]
    },
    {
     "name": "stdout",
     "output_type": "stream",
     "text": [
      "Epoch 001 | Train Loss: 2.28312 | Val Loss: 2.27100 | Train Acc: 1.12 | Val Acc: 10.53\n",
      "Validation loss decreased (inf --> 2.27100)  Saving model to 20230605-004646_pinky.pt...\n",
      "Validation accuracy increased (0.00000 --> 2.27100)  Saving model to 20230605-004646_pinky.pt...\n",
      "\n"
     ]
    },
    {
     "name": "stderr",
     "output_type": "stream",
     "text": [
      "100%|██████████| 5/5 [00:11<00:00,  2.23s/it]\n",
      "100%|██████████| 1/1 [00:06<00:00,  6.08s/it]\n",
      "  6%|▌         | 2/35 [00:34<09:33, 17.39s/it]"
     ]
    },
    {
     "name": "stdout",
     "output_type": "stream",
     "text": [
      "Epoch 002 | Train Loss: 2.24548 | Val Loss: 2.21969 | Train Acc: 23.97 | Val Acc: 17.54\n",
      "Validation loss decreased (2.27100 --> 2.21969)  Saving model to 20230605-004646_pinky.pt...\n",
      "Validation accuracy increased (10.52632 --> 2.21969)  Saving model to 20230605-004646_pinky.pt...\n",
      "\n"
     ]
    },
    {
     "name": "stderr",
     "output_type": "stream",
     "text": [
      "100%|██████████| 5/5 [00:11<00:00,  2.22s/it]\n",
      "100%|██████████| 1/1 [00:06<00:00,  6.08s/it]\n",
      "  9%|▊         | 3/35 [00:52<09:14, 17.32s/it]"
     ]
    },
    {
     "name": "stdout",
     "output_type": "stream",
     "text": [
      "Epoch 003 | Train Loss: 2.18605 | Val Loss: 2.15482 | Train Acc: 25.47 | Val Acc: 28.07\n",
      "Validation loss decreased (2.21969 --> 2.15482)  Saving model to 20230605-004646_pinky.pt...\n",
      "Validation accuracy increased (17.54386 --> 2.15482)  Saving model to 20230605-004646_pinky.pt...\n",
      "\n"
     ]
    },
    {
     "name": "stderr",
     "output_type": "stream",
     "text": [
      "100%|██████████| 5/5 [00:11<00:00,  2.23s/it]\n",
      "100%|██████████| 1/1 [00:06<00:00,  6.08s/it]\n",
      " 11%|█▏        | 4/35 [01:09<08:56, 17.29s/it]"
     ]
    },
    {
     "name": "stdout",
     "output_type": "stream",
     "text": [
      "Epoch 004 | Train Loss: 2.11412 | Val Loss: 2.08612 | Train Acc: 29.21 | Val Acc: 28.07\n",
      "Validation loss decreased (2.15482 --> 2.08612)  Saving model to 20230605-004646_pinky.pt...\n",
      "Validation accuracy increased (28.07018 --> 2.08612)  Saving model to 20230605-004646_pinky.pt...\n",
      "\n"
     ]
    },
    {
     "name": "stderr",
     "output_type": "stream",
     "text": [
      "100%|██████████| 5/5 [00:11<00:00,  2.23s/it]\n",
      "100%|██████████| 1/1 [00:06<00:00,  6.07s/it]\n",
      " 14%|█▍        | 5/35 [01:26<08:38, 17.28s/it]"
     ]
    },
    {
     "name": "stdout",
     "output_type": "stream",
     "text": [
      "Epoch 005 | Train Loss: 2.03931 | Val Loss: 2.01596 | Train Acc: 29.21 | Val Acc: 28.07\n",
      "Validation loss decreased (2.08612 --> 2.01596)  Saving model to 20230605-004646_pinky.pt...\n",
      "Validation accuracy increased (28.07018 --> 2.01596)  Saving model to 20230605-004646_pinky.pt...\n",
      "\n"
     ]
    },
    {
     "name": "stderr",
     "output_type": "stream",
     "text": [
      "100%|██████████| 5/5 [00:11<00:00,  2.23s/it]\n",
      "100%|██████████| 1/1 [00:06<00:00,  6.10s/it]\n",
      " 17%|█▋        | 6/35 [01:43<08:20, 17.27s/it]"
     ]
    },
    {
     "name": "stdout",
     "output_type": "stream",
     "text": [
      "Epoch 006 | Train Loss: 1.95904 | Val Loss: 1.93938 | Train Acc: 28.46 | Val Acc: 28.07\n",
      "Validation loss decreased (2.01596 --> 1.93938)  Saving model to 20230605-004646_pinky.pt...\n",
      "Validation accuracy increased (28.07018 --> 1.93938)  Saving model to 20230605-004646_pinky.pt...\n",
      "\n"
     ]
    },
    {
     "name": "stderr",
     "output_type": "stream",
     "text": [
      "100%|██████████| 5/5 [00:11<00:00,  2.23s/it]\n",
      "100%|██████████| 1/1 [00:06<00:00,  6.08s/it]\n",
      " 20%|██        | 7/35 [02:01<08:03, 17.27s/it]"
     ]
    },
    {
     "name": "stdout",
     "output_type": "stream",
     "text": [
      "Epoch 007 | Train Loss: 1.86840 | Val Loss: 1.82526 | Train Acc: 26.59 | Val Acc: 28.07\n",
      "Validation loss decreased (1.93938 --> 1.82526)  Saving model to 20230605-004646_pinky.pt...\n",
      "Validation accuracy increased (28.07018 --> 1.82526)  Saving model to 20230605-004646_pinky.pt...\n",
      "\n"
     ]
    },
    {
     "name": "stderr",
     "output_type": "stream",
     "text": [
      "100%|██████████| 5/5 [00:11<00:00,  2.23s/it]\n",
      "100%|██████████| 1/1 [00:06<00:00,  6.12s/it]\n",
      " 23%|██▎       | 8/35 [02:18<07:46, 17.27s/it]"
     ]
    },
    {
     "name": "stdout",
     "output_type": "stream",
     "text": [
      "Epoch 008 | Train Loss: 1.70578 | Val Loss: 1.52883 | Train Acc: 29.59 | Val Acc: 28.07\n",
      "Validation loss decreased (1.82526 --> 1.52883)  Saving model to 20230605-004646_pinky.pt...\n",
      "Validation accuracy increased (28.07018 --> 1.52883)  Saving model to 20230605-004646_pinky.pt...\n",
      "\n"
     ]
    },
    {
     "name": "stderr",
     "output_type": "stream",
     "text": [
      "100%|██████████| 5/5 [00:11<00:00,  2.22s/it]\n",
      "100%|██████████| 1/1 [00:06<00:00,  6.08s/it]\n",
      " 26%|██▌       | 9/35 [02:35<07:28, 17.26s/it]"
     ]
    },
    {
     "name": "stdout",
     "output_type": "stream",
     "text": [
      "Epoch 009 | Train Loss: 1.47443 | Val Loss: 1.49260 | Train Acc: 25.09 | Val Acc: 28.07\n",
      "Validation loss decreased (1.52883 --> 1.49260)  Saving model to 20230605-004646_pinky.pt...\n",
      "Validation accuracy increased (28.07018 --> 1.49260)  Saving model to 20230605-004646_pinky.pt...\n",
      "\n"
     ]
    },
    {
     "name": "stderr",
     "output_type": "stream",
     "text": [
      "100%|██████████| 5/5 [00:11<00:00,  2.23s/it]\n",
      "100%|██████████| 1/1 [00:06<00:00,  6.10s/it]\n",
      " 29%|██▊       | 10/35 [02:52<07:11, 17.27s/it]"
     ]
    },
    {
     "name": "stdout",
     "output_type": "stream",
     "text": [
      "Epoch 010 | Train Loss: 1.50952 | Val Loss: 1.37738 | Train Acc: 23.60 | Val Acc: 31.58\n",
      "Validation loss decreased (1.49260 --> 1.37738)  Saving model to 20230605-004646_pinky.pt...\n",
      "Validation accuracy increased (28.07018 --> 1.37738)  Saving model to 20230605-004646_pinky.pt...\n",
      "\n"
     ]
    },
    {
     "name": "stderr",
     "output_type": "stream",
     "text": [
      "100%|██████████| 5/5 [00:11<00:00,  2.23s/it]\n",
      "100%|██████████| 1/1 [00:06<00:00,  6.09s/it]\n",
      " 31%|███▏      | 11/35 [03:10<06:54, 17.26s/it]"
     ]
    },
    {
     "name": "stdout",
     "output_type": "stream",
     "text": [
      "Epoch 011 | Train Loss: 1.45724 | Val Loss: 1.45498 | Train Acc: 29.21 | Val Acc: 28.07\n",
      "\n"
     ]
    },
    {
     "name": "stderr",
     "output_type": "stream",
     "text": [
      "100%|██████████| 5/5 [00:11<00:00,  2.23s/it]\n",
      "100%|██████████| 1/1 [00:06<00:00,  6.09s/it]\n",
      " 34%|███▍      | 12/35 [03:27<06:36, 17.26s/it]"
     ]
    },
    {
     "name": "stdout",
     "output_type": "stream",
     "text": [
      "Epoch 012 | Train Loss: 1.44109 | Val Loss: 1.58599 | Train Acc: 27.72 | Val Acc: 10.53\n",
      "\n"
     ]
    },
    {
     "name": "stderr",
     "output_type": "stream",
     "text": [
      "100%|██████████| 5/5 [00:11<00:00,  2.23s/it]\n",
      "100%|██████████| 1/1 [00:06<00:00,  6.08s/it]\n",
      " 37%|███▋      | 13/35 [03:44<06:19, 17.25s/it]"
     ]
    },
    {
     "name": "stdout",
     "output_type": "stream",
     "text": [
      "Epoch 013 | Train Loss: 1.41057 | Val Loss: 1.43963 | Train Acc: 29.21 | Val Acc: 29.82\n",
      "\n"
     ]
    },
    {
     "name": "stderr",
     "output_type": "stream",
     "text": [
      "100%|██████████| 5/5 [00:11<00:00,  2.24s/it]\n",
      "100%|██████████| 1/1 [00:06<00:00,  6.08s/it]\n",
      " 40%|████      | 14/35 [04:01<06:02, 17.26s/it]"
     ]
    },
    {
     "name": "stdout",
     "output_type": "stream",
     "text": [
      "Epoch 014 | Train Loss: 1.35135 | Val Loss: 1.31272 | Train Acc: 31.84 | Val Acc: 43.86\n",
      "Validation loss decreased (1.37738 --> 1.31272)  Saving model to 20230605-004646_pinky.pt...\n",
      "Validation accuracy increased (31.57895 --> 1.31272)  Saving model to 20230605-004646_pinky.pt...\n",
      "\n"
     ]
    },
    {
     "name": "stderr",
     "output_type": "stream",
     "text": [
      "100%|██████████| 5/5 [00:11<00:00,  2.23s/it]\n",
      "100%|██████████| 1/1 [00:06<00:00,  6.07s/it]\n",
      " 43%|████▎     | 15/35 [04:19<05:44, 17.25s/it]"
     ]
    },
    {
     "name": "stdout",
     "output_type": "stream",
     "text": [
      "Epoch 015 | Train Loss: 1.31368 | Val Loss: 1.33742 | Train Acc: 40.45 | Val Acc: 50.88\n",
      "Validation accuracy increased (43.85965 --> 1.33742)  Saving model to 20230605-004646_pinky.pt...\n",
      "\n"
     ]
    },
    {
     "name": "stderr",
     "output_type": "stream",
     "text": [
      "100%|██████████| 5/5 [00:11<00:00,  2.23s/it]\n",
      "100%|██████████| 1/1 [00:06<00:00,  6.13s/it]\n",
      " 46%|████▌     | 16/35 [04:36<05:28, 17.26s/it]"
     ]
    },
    {
     "name": "stdout",
     "output_type": "stream",
     "text": [
      "Epoch 016 | Train Loss: 1.32080 | Val Loss: 1.25905 | Train Acc: 36.33 | Val Acc: 45.61\n",
      "Validation loss decreased (1.31272 --> 1.25905)  Saving model to 20230605-004646_pinky.pt...\n",
      "\n"
     ]
    },
    {
     "name": "stderr",
     "output_type": "stream",
     "text": [
      "100%|██████████| 5/5 [00:11<00:00,  2.23s/it]\n",
      "100%|██████████| 1/1 [00:06<00:00,  6.09s/it]\n",
      " 49%|████▊     | 17/35 [04:53<05:10, 17.26s/it]"
     ]
    },
    {
     "name": "stdout",
     "output_type": "stream",
     "text": [
      "Epoch 017 | Train Loss: 1.26748 | Val Loss: 1.22875 | Train Acc: 41.57 | Val Acc: 38.60\n",
      "Validation loss decreased (1.25905 --> 1.22875)  Saving model to 20230605-004646_pinky.pt...\n",
      "\n"
     ]
    },
    {
     "name": "stderr",
     "output_type": "stream",
     "text": [
      "100%|██████████| 5/5 [00:11<00:00,  2.23s/it]\n",
      "100%|██████████| 1/1 [00:06<00:00,  6.09s/it]\n",
      " 51%|█████▏    | 18/35 [05:10<04:53, 17.26s/it]"
     ]
    },
    {
     "name": "stdout",
     "output_type": "stream",
     "text": [
      "Epoch 018 | Train Loss: 1.27095 | Val Loss: 1.30880 | Train Acc: 36.70 | Val Acc: 29.82\n",
      "\n"
     ]
    },
    {
     "name": "stderr",
     "output_type": "stream",
     "text": [
      "100%|██████████| 5/5 [00:11<00:00,  2.23s/it]\n",
      "100%|██████████| 1/1 [00:06<00:00,  6.09s/it]\n",
      " 54%|█████▍    | 19/35 [05:28<04:36, 17.25s/it]"
     ]
    },
    {
     "name": "stdout",
     "output_type": "stream",
     "text": [
      "Epoch 019 | Train Loss: 1.25103 | Val Loss: 1.29273 | Train Acc: 41.95 | Val Acc: 47.37\n",
      "\n"
     ]
    },
    {
     "name": "stderr",
     "output_type": "stream",
     "text": [
      "100%|██████████| 5/5 [00:11<00:00,  2.23s/it]\n",
      "100%|██████████| 1/1 [00:06<00:00,  6.12s/it]\n",
      " 57%|█████▋    | 20/35 [05:45<04:18, 17.26s/it]"
     ]
    },
    {
     "name": "stdout",
     "output_type": "stream",
     "text": [
      "Epoch 020 | Train Loss: 1.21431 | Val Loss: 1.26428 | Train Acc: 45.69 | Val Acc: 49.12\n",
      "\n"
     ]
    },
    {
     "name": "stderr",
     "output_type": "stream",
     "text": [
      "100%|██████████| 5/5 [00:11<00:00,  2.24s/it]\n",
      "100%|██████████| 1/1 [00:06<00:00,  6.12s/it]\n",
      " 60%|██████    | 21/35 [06:02<04:01, 17.28s/it]"
     ]
    },
    {
     "name": "stdout",
     "output_type": "stream",
     "text": [
      "Epoch 021 | Train Loss: 1.19284 | Val Loss: 1.25865 | Train Acc: 46.07 | Val Acc: 36.84\n",
      "\n"
     ]
    },
    {
     "name": "stderr",
     "output_type": "stream",
     "text": [
      "100%|██████████| 5/5 [00:11<00:00,  2.23s/it]\n",
      "100%|██████████| 1/1 [00:06<00:00,  6.10s/it]\n",
      " 63%|██████▎   | 22/35 [06:20<03:44, 17.28s/it]"
     ]
    },
    {
     "name": "stdout",
     "output_type": "stream",
     "text": [
      "Epoch 022 | Train Loss: 1.24334 | Val Loss: 1.31117 | Train Acc: 40.82 | Val Acc: 45.61\n",
      "\n"
     ]
    },
    {
     "name": "stderr",
     "output_type": "stream",
     "text": [
      "100%|██████████| 5/5 [00:11<00:00,  2.23s/it]\n",
      "100%|██████████| 1/1 [00:06<00:00,  6.07s/it]\n",
      " 66%|██████▌   | 23/35 [06:37<03:27, 17.27s/it]"
     ]
    },
    {
     "name": "stdout",
     "output_type": "stream",
     "text": [
      "Epoch 023 | Train Loss: 1.22035 | Val Loss: 1.21178 | Train Acc: 44.94 | Val Acc: 52.63\n",
      "Validation loss decreased (1.22875 --> 1.21178)  Saving model to 20230605-004646_pinky.pt...\n",
      "Validation accuracy increased (50.87720 --> 1.21178)  Saving model to 20230605-004646_pinky.pt...\n",
      "\n"
     ]
    },
    {
     "name": "stderr",
     "output_type": "stream",
     "text": [
      "100%|██████████| 5/5 [00:11<00:00,  2.23s/it]\n",
      "100%|██████████| 1/1 [00:06<00:00,  6.09s/it]\n",
      " 69%|██████▊   | 24/35 [06:54<03:09, 17.27s/it]"
     ]
    },
    {
     "name": "stdout",
     "output_type": "stream",
     "text": [
      "Epoch 024 | Train Loss: 1.15475 | Val Loss: 1.12726 | Train Acc: 50.19 | Val Acc: 50.88\n",
      "Validation loss decreased (1.21178 --> 1.12726)  Saving model to 20230605-004646_pinky.pt...\n",
      "\n"
     ]
    },
    {
     "name": "stderr",
     "output_type": "stream",
     "text": [
      "100%|██████████| 5/5 [00:11<00:00,  2.23s/it]\n",
      "100%|██████████| 1/1 [00:06<00:00,  6.09s/it]\n",
      " 71%|███████▏  | 25/35 [07:11<02:52, 17.27s/it]"
     ]
    },
    {
     "name": "stdout",
     "output_type": "stream",
     "text": [
      "Epoch 025 | Train Loss: 1.12232 | Val Loss: 1.24010 | Train Acc: 48.69 | Val Acc: 45.61\n",
      "\n"
     ]
    },
    {
     "name": "stderr",
     "output_type": "stream",
     "text": [
      "100%|██████████| 5/5 [00:11<00:00,  2.25s/it]\n",
      "100%|██████████| 1/1 [00:06<00:00,  6.09s/it]\n",
      " 74%|███████▍  | 26/35 [07:29<02:35, 17.30s/it]"
     ]
    },
    {
     "name": "stdout",
     "output_type": "stream",
     "text": [
      "Epoch 026 | Train Loss: 1.14094 | Val Loss: 1.11839 | Train Acc: 50.94 | Val Acc: 47.37\n",
      "Validation loss decreased (1.12726 --> 1.11839)  Saving model to 20230605-004646_pinky.pt...\n",
      "\n"
     ]
    },
    {
     "name": "stderr",
     "output_type": "stream",
     "text": [
      "100%|██████████| 5/5 [00:11<00:00,  2.23s/it]\n",
      "100%|██████████| 1/1 [00:06<00:00,  6.10s/it]\n",
      " 77%|███████▋  | 27/35 [07:46<02:18, 17.30s/it]"
     ]
    },
    {
     "name": "stdout",
     "output_type": "stream",
     "text": [
      "Epoch 027 | Train Loss: 1.11389 | Val Loss: 1.04968 | Train Acc: 50.19 | Val Acc: 49.12\n",
      "Validation loss decreased (1.11839 --> 1.04968)  Saving model to 20230605-004646_pinky.pt...\n",
      "\n"
     ]
    },
    {
     "name": "stderr",
     "output_type": "stream",
     "text": [
      "100%|██████████| 5/5 [00:11<00:00,  2.23s/it]\n",
      "100%|██████████| 1/1 [00:06<00:00,  6.21s/it]\n",
      " 80%|████████  | 28/35 [08:03<02:01, 17.32s/it]"
     ]
    },
    {
     "name": "stdout",
     "output_type": "stream",
     "text": [
      "Epoch 028 | Train Loss: 1.09363 | Val Loss: 1.05355 | Train Acc: 55.06 | Val Acc: 47.37\n",
      "\n"
     ]
    },
    {
     "name": "stderr",
     "output_type": "stream",
     "text": [
      "100%|██████████| 5/5 [00:11<00:00,  2.23s/it]\n",
      "100%|██████████| 1/1 [00:06<00:00,  6.22s/it]\n",
      " 83%|████████▎ | 29/35 [08:21<01:44, 17.34s/it]"
     ]
    },
    {
     "name": "stdout",
     "output_type": "stream",
     "text": [
      "Epoch 029 | Train Loss: 1.07441 | Val Loss: 1.07595 | Train Acc: 52.43 | Val Acc: 47.37\n",
      "\n"
     ]
    },
    {
     "name": "stderr",
     "output_type": "stream",
     "text": [
      "100%|██████████| 5/5 [00:11<00:00,  2.24s/it]\n",
      "100%|██████████| 1/1 [00:06<00:00,  6.09s/it]\n",
      " 86%|████████▌ | 30/35 [08:38<01:26, 17.33s/it]"
     ]
    },
    {
     "name": "stdout",
     "output_type": "stream",
     "text": [
      "Epoch 030 | Train Loss: 1.01798 | Val Loss: 1.14602 | Train Acc: 57.30 | Val Acc: 50.88\n",
      "\n"
     ]
    },
    {
     "name": "stderr",
     "output_type": "stream",
     "text": [
      "100%|██████████| 5/5 [00:11<00:00,  2.23s/it]\n",
      "100%|██████████| 1/1 [00:06<00:00,  6.11s/it]\n",
      " 89%|████████▊ | 31/35 [08:55<01:09, 17.32s/it]"
     ]
    },
    {
     "name": "stdout",
     "output_type": "stream",
     "text": [
      "Epoch 031 | Train Loss: 1.02228 | Val Loss: 0.99613 | Train Acc: 55.81 | Val Acc: 52.63\n",
      "Validation loss decreased (1.04968 --> 0.99613)  Saving model to 20230605-004646_pinky.pt...\n",
      "Validation accuracy increased (52.63158 --> 0.99613)  Saving model to 20230605-004646_pinky.pt...\n",
      "\n"
     ]
    },
    {
     "name": "stderr",
     "output_type": "stream",
     "text": [
      "100%|██████████| 5/5 [00:11<00:00,  2.23s/it]\n",
      "100%|██████████| 1/1 [00:06<00:00,  6.08s/it]\n",
      " 91%|█████████▏| 32/35 [09:13<00:51, 17.30s/it]"
     ]
    },
    {
     "name": "stdout",
     "output_type": "stream",
     "text": [
      "Epoch 032 | Train Loss: 1.02589 | Val Loss: 1.16245 | Train Acc: 59.18 | Val Acc: 49.12\n",
      "\n"
     ]
    },
    {
     "name": "stderr",
     "output_type": "stream",
     "text": [
      "100%|██████████| 5/5 [00:11<00:00,  2.23s/it]\n",
      "100%|██████████| 1/1 [00:06<00:00,  6.09s/it]\n",
      " 94%|█████████▍| 33/35 [09:30<00:34, 17.29s/it]"
     ]
    },
    {
     "name": "stdout",
     "output_type": "stream",
     "text": [
      "Epoch 033 | Train Loss: 1.00099 | Val Loss: 1.02902 | Train Acc: 57.30 | Val Acc: 47.37\n",
      "\n"
     ]
    },
    {
     "name": "stderr",
     "output_type": "stream",
     "text": [
      "100%|██████████| 5/5 [00:11<00:00,  2.23s/it]\n",
      "100%|██████████| 1/1 [00:06<00:00,  6.20s/it]\n",
      " 97%|█████████▋| 34/35 [09:47<00:17, 17.32s/it]"
     ]
    },
    {
     "name": "stdout",
     "output_type": "stream",
     "text": [
      "Epoch 034 | Train Loss: 0.97601 | Val Loss: 1.15451 | Train Acc: 60.67 | Val Acc: 49.12\n",
      "\n"
     ]
    },
    {
     "name": "stderr",
     "output_type": "stream",
     "text": [
      "100%|██████████| 5/5 [00:11<00:00,  2.24s/it]\n",
      "100%|██████████| 1/1 [00:06<00:00,  6.09s/it]\n",
      "100%|██████████| 35/35 [10:05<00:00, 17.29s/it]"
     ]
    },
    {
     "name": "stdout",
     "output_type": "stream",
     "text": [
      "Epoch 035 | Train Loss: 0.97174 | Val Loss: 0.96090 | Train Acc: 58.80 | Val Acc: 54.39\n",
      "Validation loss decreased (0.99613 --> 0.96090)  Saving model to 20230605-004646_pinky.pt...\n",
      "Validation accuracy increased (52.63158 --> 0.96090)  Saving model to 20230605-004646_pinky.pt...\n",
      "\n"
     ]
    },
    {
     "name": "stderr",
     "output_type": "stream",
     "text": [
      "\n"
     ]
    }
   ],
   "source": [
    "# the training loop\n",
    "timestamp = datetime.now().strftime(\"%Y%m%d-%H%M%S\")\n",
    "userAccountID = cf.settings['userAccountID']\n",
    "saveFileName = f'{timestamp}_{userAccountID}.pt'\n",
    "\n",
    "history = train(\n",
    "    model, train_loader, val_loader, criterion, optimizer, n_epochs=epochs,\n",
    "    model_file_name=saveFileName\n",
    ")"
   ]
  },
  {
   "cell_type": "code",
   "execution_count": 13,
   "metadata": {},
   "outputs": [
    {
     "name": "stdout",
     "output_type": "stream",
     "text": [
      "history: {'n_epochs': 35, 'train_loss': [2.2831246076005227, 2.2454754377572277, 2.186045182331671, 2.114124068606659, 2.0393088243427346, 1.9590409659267811, 1.8683977569087167, 1.7057786054825514, 1.4744322148155184, 1.5095162266649111, 1.4572397202588199, 1.4410911320747062, 1.4105737535248088, 1.3513492899441093, 1.313683032989502, 1.3207969884300945, 1.2674761064043651, 1.2709502499648249, 1.251034042808447, 1.214309497718954, 1.192839287193527, 1.2433387576864008, 1.2203502029961861, 1.1547465601217435, 1.1223229587301333, 1.140944263015347, 1.113893939761187, 1.0936285391282499, 1.0744143005613978, 1.0179828767026409, 1.0222781318403809, 1.025889710094152, 1.0009946582022677, 0.9760119401560294, 0.9717422670192932], 'val_loss': [2.2710013389587402, 2.2196948528289795, 2.154815435409546, 2.086116075515747, 2.015962839126587, 1.939375638961792, 1.8252589702606201, 1.5288254022598267, 1.4925979375839233, 1.3773846626281738, 1.4549767971038818, 1.585986614227295, 1.439629077911377, 1.3127200603485107, 1.3374162912368774, 1.2590495347976685, 1.2287533283233643, 1.3087996244430542, 1.2927325963974, 1.2642806768417358, 1.2586458921432495, 1.3111742734909058, 1.2117762565612793, 1.1272553205490112, 1.2400952577590942, 1.118394136428833, 1.049678921699524, 1.053548812866211, 1.0759527683258057, 1.1460211277008057, 0.9961302876472473, 1.162447452545166, 1.02902352809906, 1.1545089483261108, 0.9609010815620422], 'train_acc': [1.1235955020461637, 23.970037453183522, 25.468164786863863, 29.21348313178016, 29.21348313178016, 28.46441957566622, 26.591760296053653, 29.58801497412978, 25.093633058812287, 23.595505646552038, 29.213483138923788, 27.715355798099818, 29.21348313178016, 31.83520598893755, 40.449438198675374, 36.32958804355579, 41.57303370072154, 36.70411990733629, 41.947565557358416, 45.692883952280106, 46.06741571604982, 40.823970137463974, 44.943820253293616, 50.18726590331574, 48.689138633928046, 50.93632955944047, 50.18726601761379, 55.05617983242992, 52.43445694312621, 57.30337080080411, 55.805243531416416, 59.1760299339723, 57.30337081509136, 60.67415727479627, 58.801498184489844], 'val_acc': [10.526315689086914, 17.543859481811523, 28.070175170898438, 28.070175170898438, 28.070175170898438, 28.070175170898438, 28.070175170898438, 28.070175170898438, 28.070175170898438, 31.57894515991211, 28.070175170898438, 10.526315689086914, 29.824560165405273, 43.859649658203125, 50.877197265625, 45.61403274536133, 38.59648895263672, 29.824560165405273, 47.36842346191406, 49.122806549072266, 36.842105865478516, 45.61403274536133, 52.6315803527832, 50.877197265625, 45.61403274536133, 47.36842346191406, 49.122806549072266, 47.36842346191406, 47.36842346191406, 50.877197265625, 52.6315803527832, 49.122806549072266, 47.36842346191406, 49.122806549072266, 54.38596725463867]}\n"
     ]
    }
   ],
   "source": [
    "print(f'history: {history}')"
   ]
  },
  {
   "cell_type": "code",
   "execution_count": 17,
   "metadata": {},
   "outputs": [
    {
     "data": {
      "image/png": "[encoded data removed]",
      "text/plain": [
       "<Figure size 640x480 with 1 Axes>"
      ]
     },
     "metadata": {},
     "output_type": "display_data"
    }
   ],
   "source": [
    "# plot the history bothe the loss as the accuracy side by side\n",
    "\n",
    "# Plot the training and validation loss\n",
    "plt.plot(history['train_loss'], label='train_loss')\n",
    "plt.plot(history['val_loss'], label='val_loss')\n",
    "plt.legend()\n",
    "plt.show()\n"
   ]
  },
  {
   "cell_type": "code",
   "execution_count": 18,
   "metadata": {},
   "outputs": [
    {
     "data": {
      "image/png": "[encoded data removed]",
      "text/plain": [
       "<Figure size 640x480 with 1 Axes>"
      ]
     },
     "metadata": {},
     "output_type": "display_data"
    }
   ],
   "source": [
    "\n",
    "# Plot the training and validation accuracy\n",
    "plt.plot(history['train_acc'], label='train_acc')\n",
    "plt.plot(history['val_acc'], label='val_acc')\n",
    "plt.legend()\n",
    "plt.show()\n",
    "\n",
    "# Create a figure with two subplots\n",
    "# fig, axes = plt.subpl\n"
   ]
  },
  {
   "cell_type": "code",
   "execution_count": null,
   "metadata": {},
   "outputs": [],
   "source": []
  },
  {
   "attachments": {},
   "cell_type": "markdown",
   "metadata": {},
   "source": [
    "save the data to azure cosmos NoSQL database\n"
   ]
  },
  {
   "cell_type": "code",
   "execution_count": 21,
   "metadata": {},
   "outputs": [
    {
     "ename": "FileNotFoundError",
     "evalue": "[Errno 2] No such file or directory: '../../storage/data/saved/module_test_files/saved/20230602_1600_pinky.pth'",
     "output_type": "error",
     "traceback": [
      "\u001b[0;31m---------------------------------------------------------------------------\u001b[0m",
      "\u001b[0;31mFileNotFoundError\u001b[0m                         Traceback (most recent call last)",
      "Cell \u001b[0;32mIn[21], line 1\u001b[0m\n\u001b[0;32m----> 1\u001b[0m cf\u001b[39m.\u001b[39;49msave_data(saveFileName, parameters, history)\n",
      "File \u001b[0;32m~/workspace/pink_lady/factory/modules/cosmos_functions.py:90\u001b[0m, in \u001b[0;36msave_data\u001b[0;34m(pth_data, parameters, run_result, settings)\u001b[0m\n\u001b[1;32m     88\u001b[0m \u001b[39mif\u001b[39;00m pth_data \u001b[39m!=\u001b[39m \u001b[39mNone\u001b[39;00m:\n\u001b[1;32m     89\u001b[0m     pth_file_path \u001b[39m=\u001b[39m \u001b[39m'\u001b[39m\u001b[39m../../storage/data/saved/module_test_files/saved/20230602_1600_pinky.pth\u001b[39m\u001b[39m'\u001b[39m\n\u001b[0;32m---> 90\u001b[0m     \u001b[39mwith\u001b[39;00m \u001b[39mopen\u001b[39;49m(pth_file_path, \u001b[39m'\u001b[39;49m\u001b[39mrb\u001b[39;49m\u001b[39m'\u001b[39;49m) \u001b[39mas\u001b[39;00m file:\n\u001b[1;32m     91\u001b[0m         pth_data \u001b[39m=\u001b[39m file\u001b[39m.\u001b[39mread()\n\u001b[1;32m     92\u001b[0m     pth_bytes \u001b[39m=\u001b[39m base64\u001b[39m.\u001b[39mb64encode(pth_data)\u001b[39m.\u001b[39mdecode(\u001b[39m'\u001b[39m\u001b[39mutf-8\u001b[39m\u001b[39m'\u001b[39m)\n",
      "\u001b[0;31mFileNotFoundError\u001b[0m: [Errno 2] No such file or directory: '../../storage/data/saved/module_test_files/saved/20230602_1600_pinky.pth'"
     ]
    }
   ],
   "source": [
    "\n",
    "\n",
    "cf.save_data(saveFileName, parameters, history)\n",
    "\n"
   ]
  },
  {
   "cell_type": "code",
   "execution_count": null,
   "metadata": {},
   "outputs": [],
   "source": [
    "saveFileName"
   ]
  },
  {
   "attachments": {},
   "cell_type": "markdown",
   "metadata": {},
   "source": [
    "test\n"
   ]
  },
  {
   "cell_type": "code",
   "execution_count": null,
   "metadata": {},
   "outputs": [],
   "source": [
    "# loading has broken..\n",
    "x=cf.load_pth('20230602_1637_pinky')\n",
    "x"
   ]
  },
  {
   "cell_type": "code",
   "execution_count": null,
   "metadata": {},
   "outputs": [],
   "source": [
    "test_loader = test_d\n",
    "len(test_loader)"
   ]
  },
  {
   "cell_type": "code",
   "execution_count": null,
   "metadata": {},
   "outputs": [],
   "source": [
    "%%timeit\n",
    "y_test = []\n",
    "y_pred = []\n",
    "counter = 0\n",
    "# disable gradient calculation\n",
    "with torch.no_grad():\n",
    "    # prepare model for evaluation\n",
    "    model.eval()\n",
    "\n",
    "    # loop for each data\n",
    "    for data, target in tqdm(test_loader):\n",
    "        # move data to device\n",
    "        data, target = data.to(device), target.to(device)\n",
    "\n",
    "        counter += 1\n",
    "        # STEP 1: forward pass\n",
    "        output = model(data)\n",
    "        # STEP 2: get predicted label\n",
    "        _, label = torch.max(output, dim=1)\n",
    "        # STEP 3: append actual and predicted label\n",
    "        y_test += target.cpu().numpy().tolist()  # set to cpu and convert to list for old visualisation\n",
    "        y_pred += label.cpu().numpy().tolist()\n",
    "        print(counter)\n",
    "\n",
    "print(f'End{counter}')"
   ]
  },
  {
   "cell_type": "code",
   "execution_count": null,
   "metadata": {},
   "outputs": [],
   "source": [
    "# collapse-hide\n",
    "plt.subplots(figsize=(10, 8))\n",
    "ax = sns.heatmap(confusion_matrix(y_test, y_pred), annot=True, fmt=\"d\")\n",
    "ax.set_xlabel(\"Predicted Label\")\n",
    "ax.set_ylabel(\"Actual Label\")\n",
    "plt.show()"
   ]
  },
  {
   "cell_type": "code",
   "execution_count": null,
   "metadata": {},
   "outputs": [],
   "source": [
    "print(classification_report(y_test, y_pred))"
   ]
  }
 ],
 "metadata": {
  "kernelspec": {
   "display_name": "pink_lady-bMzUwwsu",
   "language": "python",
   "name": "python3"
  },
  "language_info": {
   "codemirror_mode": {
    "name": "ipython",
    "version": 3
   },
   "file_extension": ".py",
   "mimetype": "text/x-python",
   "name": "python",
   "nbconvert_exporter": "python",
   "pygments_lexer": "ipython3",
   "version": "3.11.3"
  },
  "orig_nbformat": 4
 },
 "nbformat": 4,
 "nbformat_minor": 2
}

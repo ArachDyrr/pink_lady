{
 "cells": [
  {
   "attachments": {},
   "cell_type": "markdown",
   "metadata": {},
   "source": [
    "# Convolution Neural Net (CNN)\n",
    "to detect apples"
   ]
  },
  {
   "attachments": {},
   "cell_type": "markdown",
   "metadata": {},
   "source": [
    "# Imports"
   ]
  },
  {
   "cell_type": "code",
   "execution_count": 1,
   "metadata": {},
   "outputs": [],
   "source": [
    "import matplotlib.pyplot as plt\n",
    "import numpy as np\n",
    "import modules.cosmos_functions as cf\n",
    "\n",
    "import pprint\n",
    "import random\n",
    "import torch\n",
    "import torchvision\n",
    "import torch.nn.functional as F\n",
    "\n",
    "import torchvision.transforms as T\n",
    "import wandb\n",
    "import torch.optim as optim\n",
    "from datetime import datetime\n",
    "from os import listdir, path\n",
    "from torch import nn\n",
    "from torch.utils.data import Dataset, DataLoader, random_split\n",
    "from torchvision.datasets import ImageFolder\n",
    "from torch.utils.data import random_split\n",
    "from torchvision.io import ImageReadMode\n",
    "from torchvision.io import read_image\n",
    "from tqdm import tqdm\n",
    "\n",
    "from torchvision import models\n",
    "from torchvision.models import resnet18, ResNet18_Weights"
   ]
  },
  {
   "cell_type": "code",
   "execution_count": 2,
   "metadata": {},
   "outputs": [
    {
     "name": "stdout",
     "output_type": "stream",
     "text": [
      "Device is 'mps' Thus a tensor will look like this: tensor([1.], device='mps:0')\n"
     ]
    }
   ],
   "source": [
    "# set the device\n",
    "\n",
    "device = (\n",
    "    \"cuda\"\n",
    "    if torch.cuda.is_available()\n",
    "    else \"mps\"\n",
    "    if torch.backends.mps.is_available()\n",
    "    else \"cpu\"\n",
    ")\n",
    "x = torch.ones(1, device=device)\n",
    "\n",
    "print(f\"Device is '{device}' Thus a tensor will look like this: {x}\")"
   ]
  },
  {
   "cell_type": "code",
   "execution_count": 3,
   "metadata": {},
   "outputs": [],
   "source": [
    "# function to show the images\n",
    "\n",
    "\n",
    "\n",
    "\n",
    "def show_batch(train_d, val_d):\n",
    "    # Get a batch of data from the DataLoader\n",
    "    data_train = next(iter(train_d))\n",
    "    data_val = next(iter(val_d))\n",
    "\n",
    "    # Set the savefig.bbox parameter to 'tight'\n",
    "    plt.rcParams[\"savefig.bbox\"] = 'tight'\n",
    "\n",
    "    # Retrieve the first tensor and its corresponding label\n",
    "    image_train = data_train[0][0]\n",
    "    # image_test = data_test[0][0]\n",
    "    image_val = data_val[0][0]\n",
    "    label_train = data_train[1][0]\n",
    "    # label_test = data_test[1][0]\n",
    "    label_val = data_val[1][0]\n",
    "\n",
    "\n",
    "    # Convert the image tensors to NumPy arrays and transpose the dimensions\n",
    "    np_image_train = image_train.permute(1, 2, 0).numpy()\n",
    "    # np_image_test = image_test.permute(1, 2, 0).numpy()\n",
    "    np_image_val = image_val.permute(1, 2, 0).numpy()\n",
    "\n",
    "    # Create a figure with three subplots\n",
    "    fig, axes = plt.subplots(1, 2)\n",
    "\n",
    "    # Display the image in the first subplot\n",
    "    axes[0].imshow(np_image_train)\n",
    "    axes[0].set_title(f'{label_train}, {image_train.shape}')\n",
    "\n",
    "    # Display the image in the third subplot\n",
    "    axes[1].imshow(np_image_val)\n",
    "    axes[1].set_title(f'{label_val}, {image_val.shape}')\n",
    "\n",
    "    # # Display the image in the second subplot\n",
    "    # axes[2].imshow(np_image_test)\n",
    "    # axes[2].set_title(f'{label_test}, {image_test.shape}')\n",
    "\n",
    "    # Adjust spacing between subplots to prevent overlap\n",
    "    fig.tight_layout()\n",
    "\n",
    "    # Show the plot\n",
    "    plt.show()\n"
   ]
  },
  {
   "cell_type": "code",
   "execution_count": 4,
   "metadata": {},
   "outputs": [],
   "source": [
    "# function to determine accuracy \n",
    "\n",
    "def evaluate_accuracy(logits, y_true):\n",
    "    # get index with the largest logit value PER OBSERVATION\n",
    "    _, y_pred = torch.max(logits, dim=1)\n",
    "\n",
    "    # calculate proportion of correct prediction\n",
    "    correct_pred = (y_pred == y_true).float()  # PyCharm error Unresolved attribute reference 'float' for class 'bool'\n",
    "    acc = correct_pred.sum() / len(correct_pred)\n",
    "\n",
    "    return acc * 100"
   ]
  },
  {
   "cell_type": "code",
   "execution_count": 5,
   "metadata": {},
   "outputs": [],
   "source": [
    "# function to train the model\n",
    "\n",
    "def train(model, train_loader, val_loader, criterion, optimizer, n_epochs, model_file_name='model.pt',local_save_path='storage/data/generated'):\n",
    "    # initialize container variable for model performance results per epoch\n",
    "    history = {\n",
    "        'n_epochs': n_epochs,\n",
    "        'train_loss': [],\n",
    "        'val_loss': [],\n",
    "        'train_acc': [],\n",
    "        'val_acc': []\n",
    "    }   \n",
    "\n",
    "    # initialize tracker for minimum validation loss and maxiumum validation accuracy\n",
    "    val_loss_min = np.Inf\n",
    "    val_loss_epoch = 0\n",
    "    val_acc_max = 0.0\n",
    "    val_acc_epoch = 0\n",
    "    best_results = {\n",
    "        'val_loss_min': val_loss_min,\n",
    "        'val_loss_epoch': val_loss_epoch,\n",
    "        'val_acc_max': val_acc_max,\n",
    "        'val_acc_epoch': val_acc_epoch\n",
    "        }    \n",
    "\n",
    "    model_file_name_loss = f'{str(model_file_name[:-3])}_loss.pt'\n",
    "    model_file_name_acc = f'{str(model_file_name[:-3])}_acc.pt'\n",
    "    final_model_file_name = f'{str(model_file_name[:-3])}_final.pt'\n",
    "    locally_saved_path = local_save_path   \n",
    "\n",
    "    file_data = { \n",
    "                'local_save_path' : locally_saved_path,\n",
    "                'min_loss_file' : model_file_name_loss,\n",
    "                'max_acc_file' : model_file_name_acc,\n",
    "                'final_epoch_file' : final_model_file_name\n",
    "                  }\n",
    "    \n",
    "    early_stopping_counter = 0\n",
    "\n",
    "    model_safe_loss = f'../{locally_saved_path}/{model_file_name_loss}'\n",
    "    model_safe_acc = f'../{locally_saved_path}/{model_file_name_acc}'\n",
    "    model_safe_final = f'../{locally_saved_path}/{final_model_file_name}'\n",
    "\n",
    "    # loop per epoch\n",
    "    for epoch in tqdm(range(n_epochs)):\n",
    "        \n",
    "        # initialize tracker for training performance\n",
    "        train_acc = 0\n",
    "        train_loss = 0\n",
    "\n",
    "        ###################\n",
    "        # train the model #\n",
    "        ###################\n",
    "\n",
    "        # prepare model for training\n",
    "        model.train()\n",
    "\n",
    "        # loop for each batch\n",
    "        for data, target in train_loader:\n",
    "            # move data to device\n",
    "            data, target = data.to(device), target.to(device)\n",
    "            \n",
    "            # STEP 1: clear gradients\n",
    "            optimizer.zero_grad()\n",
    "            # STEP 2: forward pass\n",
    "            output = model(data)\n",
    "            # STEP 3: calculate the loss\n",
    "            loss = criterion(output, target)\n",
    "            # STEP 4: backward pass\n",
    "            loss.backward()\n",
    "            # STEP 5: perform parameter update\n",
    "            optimizer.step()\n",
    "            # STEP 6: accumulate training loss and accuracy\n",
    "            train_loss += loss.item() * data.size(0)\n",
    "            acc = evaluate_accuracy(output, target)\n",
    "            train_acc += acc.item() * data.size(0)\n",
    "\n",
    "        ######################\n",
    "        # validate the model #\n",
    "        ######################\n",
    "\n",
    "        # disable gradient calculation\n",
    "        with torch.no_grad():\n",
    "            # initialize tracker for validation performance\n",
    "            val_acc = 0\n",
    "            val_loss = 0\n",
    "\n",
    "            # prepare model for evaluation\n",
    "            model.eval()\n",
    "\n",
    "            # loop for each batch\n",
    "            for data, target in val_loader:\n",
    "                # move data to device\n",
    "                data, target = data.to(device), target.to(device)\n",
    "                # STEP 1: forward pass\n",
    "                output = model(data)\n",
    "                # STEP 2: calculate the loss\n",
    "                loss = criterion(output, target)\n",
    "                # STEP 3: accumulate validation loss and accuracy\n",
    "                val_loss += loss.item() * data.size(0)\n",
    "                acc = evaluate_accuracy(output, target)\n",
    "                val_acc += acc.item() * data.size(0)\n",
    "\n",
    "\n",
    "        ####################\n",
    "        # model evaluation #\n",
    "        ####################\n",
    "\n",
    "        # calculate average loss over an epoch\n",
    "        train_loss /= len(train_loader.sampler)\n",
    "        val_loss /= len(val_loader.sampler)\n",
    "        history['train_loss'].append(train_loss)\n",
    "        history['val_loss'].append(val_loss)\n",
    "\n",
    "        # calculate average accuracy over an epoch\n",
    "        train_acc /= len(train_loader.sampler)\n",
    "        val_acc /= len(val_loader.sampler)\n",
    "        history['train_acc'].append(train_acc)\n",
    "        history['val_acc'].append(val_acc)\n",
    "\n",
    "        # print training progress per epoch\n",
    "        print(f'Epoch {epoch+1:03} | Train Loss: {train_loss:.5f} | Val Loss: {val_loss:.5f} | Train Acc: {train_acc:.2f} | Val Acc: {val_acc:.2f}')\n",
    "\n",
    "        # save model if validation loss has decreased\n",
    "        if val_loss <= val_loss_min:\n",
    "            print(\n",
    "                f'Validation loss decreased ({val_loss_min:.5f} --> {val_loss:.5f})  Saving model to {model_file_name}...')\n",
    "            \n",
    "\n",
    "            torch.save(model.state_dict(), model_safe_loss)\n",
    "            val_loss_min = val_loss\n",
    "            best_results['val_loss_min'] = val_loss_min\n",
    "            best_results['val_loss_epoch'] = epoch+1\n",
    "        \n",
    "        # save model if validation accuracy has decreased\n",
    "        if val_acc >= val_acc_max:\n",
    "            print(\n",
    "                f'Validation accuracy increased ({val_acc_max:.5f} --> {val_acc:.5f})  Saving model to {model_file_name}...')\n",
    "            \n",
    "            torch.save(model.state_dict(), model_safe_acc)\n",
    "            val_acc_max = val_acc\n",
    "            best_results['val_acc_max'] = val_acc_max\n",
    "            best_results['val_acc_epoch'] = epoch+1\n",
    "        \n",
    "\n",
    "        # log metrics to wandb\n",
    "        wandb.log({\"train_loss\": train_loss, \"val_loss\": val_loss, \"train_acc\": train_acc, \"val_acc\": val_acc})\n",
    "\n",
    "    # save model at the end of training    \n",
    "    torch.save(model.state_dict(), model_safe_final)\n",
    "\n",
    "    results = best_results, history, file_data\n",
    "    \n",
    "    # return model performance history\n",
    "    return results"
   ]
  },
  {
   "cell_type": "code",
   "execution_count": 6,
   "metadata": {},
   "outputs": [
    {
     "name": "stdout",
     "output_type": "stream",
     "text": [
      "{'Blotch_Apple': 0, 'Normal_Apple': 1, 'Rot_Apple': 2, 'Scab_Apple': 3}\n"
     ]
    }
   ],
   "source": [
    "# load the dataset\n",
    "dataset_path = \"../storage/images/apple_resized_128/Train/\"\n",
    "# transform and normalize the data\n",
    "transform = T.Compose([\n",
    "    T.ToTensor(),\n",
    "    # # T.transforms.Resize((256, 256)),\n",
    "    # # T.transforms.RandomCrop((224, 224)),\n",
    "    # T.transforms.RandomHorizontalFlip(),\n",
    "    # T.transforms.RandomVerticalFlip(),\n",
    "    # T.transforms.RandomRotation(25),  # Randomly rotate the image by a maximum of 30 degrees\n",
    "    # T.transforms.ColorJitter(brightness=0.2, contrast=0.2, saturation=0.2, hue=0.1),  # Slightly change the image color\n",
    "    # T.transforms.RandomGrayscale(p=0.1),  # Randomly convert the image to grayscale with a probability of 10%\n",
    "    # T.transforms.RandomErasing(p=0.1, scale=(0.02, 0.33), ratio=(0.3, 3.3), value=0, inplace=False),  # Randomly erase rectangular patches of the image with a probability of 10%\n",
    "    # # T.transforms.RandomPerspective(distortion_scale=0.2, p=0.1, interpolation=3),  # Randomly apply a perspective transformation to the image with a probability of 10%\n",
    "    # T.Normalize(mean=[0.485, 0.456, 0.406], std=[0.229, 0.224, 0.225])\n",
    "])\n",
    "\n",
    "dataset = ImageFolder(dataset_path, transform=transform)\n",
    "\n",
    "\n",
    "dataset.class_to_idx\n",
    "pp = pprint.PrettyPrinter(indent=1)  # Create a PrettyPrinter instance with an indentation of 1 space\n",
    "pp.pprint(dataset.class_to_idx)  # Use the pprint method to print the dictionary\n",
    "\n"
   ]
  },
  {
   "cell_type": "code",
   "execution_count": 7,
   "metadata": {},
   "outputs": [
    {
     "name": "stdout",
     "output_type": "stream",
     "text": [
      "torch.Size([3, 128, 128])\n",
      "266\n",
      "115\n",
      "tensor([[[0.4588, 0.4627, 0.5647,  ..., 0.4784, 0.5176, 0.5804],\n",
      "         [0.4784, 0.5059, 0.6078,  ..., 0.4824, 0.5804, 0.6980],\n",
      "         [0.4706, 0.5216, 0.6157,  ..., 0.5255, 0.6902, 0.8471],\n",
      "         ...,\n",
      "         [0.9961, 0.9961, 0.9961,  ..., 1.0000, 1.0000, 1.0000],\n",
      "         [0.9804, 0.9804, 0.9804,  ..., 0.9922, 0.9922, 0.9922],\n",
      "         [0.9882, 0.9882, 0.9882,  ..., 1.0000, 1.0000, 1.0000]],\n",
      "\n",
      "        [[0.4275, 0.4353, 0.5294,  ..., 0.5137, 0.5451, 0.5961],\n",
      "         [0.4431, 0.4784, 0.5725,  ..., 0.5216, 0.6039, 0.7216],\n",
      "         [0.4353, 0.4902, 0.5804,  ..., 0.5647, 0.7137, 0.8745],\n",
      "         ...,\n",
      "         [0.9961, 0.9961, 0.9961,  ..., 0.9961, 0.9961, 0.9961],\n",
      "         [0.9922, 0.9922, 0.9922,  ..., 0.9922, 0.9922, 0.9922],\n",
      "         [1.0000, 1.0000, 1.0000,  ..., 1.0000, 1.0000, 1.0000]],\n",
      "\n",
      "        [[0.1843, 0.2196, 0.3608,  ..., 0.1490, 0.3843, 0.5373],\n",
      "         [0.2118, 0.2667, 0.4118,  ..., 0.1843, 0.4627, 0.6667],\n",
      "         [0.2196, 0.2980, 0.4275,  ..., 0.2941, 0.6039, 0.8431],\n",
      "         ...,\n",
      "         [1.0000, 1.0000, 1.0000,  ..., 1.0000, 1.0000, 1.0000],\n",
      "         [1.0000, 1.0000, 1.0000,  ..., 0.9922, 1.0000, 1.0000],\n",
      "         [1.0000, 1.0000, 1.0000,  ..., 0.9922, 1.0000, 1.0000]]])\n",
      "tensor([[[0.6078, 0.5961, 0.5804, 0.5686],\n",
      "         [0.6275, 0.6392, 0.6314, 0.6039],\n",
      "         [0.6196, 0.6471, 0.6510, 0.6196],\n",
      "         [0.6471, 0.6667, 0.6549, 0.6196]],\n",
      "\n",
      "        [[0.6510, 0.6392, 0.6157, 0.6000],\n",
      "         [0.6745, 0.6706, 0.6627, 0.6353],\n",
      "         [0.6627, 0.6824, 0.6863, 0.6549],\n",
      "         [0.6863, 0.6980, 0.6863, 0.6510]],\n",
      "\n",
      "        [[0.4157, 0.3412, 0.2980, 0.2667],\n",
      "         [0.3922, 0.3373, 0.3294, 0.3020],\n",
      "         [0.3961, 0.3647, 0.3608, 0.3294],\n",
      "         [0.4471, 0.4039, 0.3843, 0.3490]]])\n"
     ]
    }
   ],
   "source": [
    "# create the test, train and validation set and the dataloader\n",
    "\n",
    "# setup split data \n",
    "dataset_size = len(dataset)\n",
    "train_ratio = 0.7\n",
    "val_ratio = 0.3\n",
    "\n",
    "\n",
    "\n",
    "# Set the seed for the generator\n",
    "seed = 42\n",
    "generator = torch.Generator().manual_seed(seed)\n",
    "\n",
    "\n",
    "\n",
    "# Calculate the number of samples for each split\n",
    "train_size = int(train_ratio * dataset_size)\n",
    "val_size = dataset_size - train_size \n",
    "\n",
    "\n",
    "# Split the dataset into train, validation, and test sets\n",
    "train_dataset, val_dataset = random_split(dataset, [train_size, val_size], generator=generator)\n",
    "\n",
    "\n",
    "# Define the batch size for the DataLoader\n",
    "batch_size = 32\n",
    "\n",
    "# Create the DataLoader to load the dataset in batches\n",
    "train_d= DataLoader(train_dataset, batch_size=batch_size, shuffle=True, num_workers=2, generator=generator)\n",
    "\n",
    "val_d = DataLoader(val_dataset, batch_size=batch_size, shuffle=True, num_workers=2, generator=generator)\n",
    "\n",
    "# print the shape of the 1st image in the dataset\n",
    "print(train_dataset[0][0].shape)\n",
    "print(len(train_dataset))\n",
    "print(len(val_dataset))\n",
    "# Show the 1st img in the dataset\n",
    "# show_batch(train_d, val_d)\n",
    "print(train_dataset[0][0])\n",
    "# Get the values of the middle 4x4 pixels of the 1st image in the dataset\n",
    "print(train_dataset[0][0][:, 112:116, 112:116])"
   ]
  },
  {
   "cell_type": "code",
   "execution_count": 8,
   "metadata": {},
   "outputs": [
    {
     "name": "stderr",
     "output_type": "stream",
     "text": [
      "Using cache found in /Users/stephandekker/.cache/torch/hub/pytorch_vision_main\n"
     ]
    },
    {
     "data": {
      "text/plain": [
       "ResNet(\n",
       "  (conv1): Conv2d(3, 64, kernel_size=(7, 7), stride=(2, 2), padding=(3, 3), bias=False)\n",
       "  (bn1): BatchNorm2d(64, eps=1e-05, momentum=0.1, affine=True, track_running_stats=True)\n",
       "  (relu): ReLU(inplace=True)\n",
       "  (maxpool): MaxPool2d(kernel_size=3, stride=2, padding=1, dilation=1, ceil_mode=False)\n",
       "  (layer1): Sequential(\n",
       "    (0): BasicBlock(\n",
       "      (conv1): Conv2d(64, 64, kernel_size=(3, 3), stride=(1, 1), padding=(1, 1), bias=False)\n",
       "      (bn1): BatchNorm2d(64, eps=1e-05, momentum=0.1, affine=True, track_running_stats=True)\n",
       "      (relu): ReLU(inplace=True)\n",
       "      (conv2): Conv2d(64, 64, kernel_size=(3, 3), stride=(1, 1), padding=(1, 1), bias=False)\n",
       "      (bn2): BatchNorm2d(64, eps=1e-05, momentum=0.1, affine=True, track_running_stats=True)\n",
       "    )\n",
       "    (1): BasicBlock(\n",
       "      (conv1): Conv2d(64, 64, kernel_size=(3, 3), stride=(1, 1), padding=(1, 1), bias=False)\n",
       "      (bn1): BatchNorm2d(64, eps=1e-05, momentum=0.1, affine=True, track_running_stats=True)\n",
       "      (relu): ReLU(inplace=True)\n",
       "      (conv2): Conv2d(64, 64, kernel_size=(3, 3), stride=(1, 1), padding=(1, 1), bias=False)\n",
       "      (bn2): BatchNorm2d(64, eps=1e-05, momentum=0.1, affine=True, track_running_stats=True)\n",
       "    )\n",
       "  )\n",
       "  (layer2): Sequential(\n",
       "    (0): BasicBlock(\n",
       "      (conv1): Conv2d(64, 128, kernel_size=(3, 3), stride=(2, 2), padding=(1, 1), bias=False)\n",
       "      (bn1): BatchNorm2d(128, eps=1e-05, momentum=0.1, affine=True, track_running_stats=True)\n",
       "      (relu): ReLU(inplace=True)\n",
       "      (conv2): Conv2d(128, 128, kernel_size=(3, 3), stride=(1, 1), padding=(1, 1), bias=False)\n",
       "      (bn2): BatchNorm2d(128, eps=1e-05, momentum=0.1, affine=True, track_running_stats=True)\n",
       "      (downsample): Sequential(\n",
       "        (0): Conv2d(64, 128, kernel_size=(1, 1), stride=(2, 2), bias=False)\n",
       "        (1): BatchNorm2d(128, eps=1e-05, momentum=0.1, affine=True, track_running_stats=True)\n",
       "      )\n",
       "    )\n",
       "    (1): BasicBlock(\n",
       "      (conv1): Conv2d(128, 128, kernel_size=(3, 3), stride=(1, 1), padding=(1, 1), bias=False)\n",
       "      (bn1): BatchNorm2d(128, eps=1e-05, momentum=0.1, affine=True, track_running_stats=True)\n",
       "      (relu): ReLU(inplace=True)\n",
       "      (conv2): Conv2d(128, 128, kernel_size=(3, 3), stride=(1, 1), padding=(1, 1), bias=False)\n",
       "      (bn2): BatchNorm2d(128, eps=1e-05, momentum=0.1, affine=True, track_running_stats=True)\n",
       "    )\n",
       "  )\n",
       "  (layer3): Sequential(\n",
       "    (0): BasicBlock(\n",
       "      (conv1): Conv2d(128, 256, kernel_size=(3, 3), stride=(2, 2), padding=(1, 1), bias=False)\n",
       "      (bn1): BatchNorm2d(256, eps=1e-05, momentum=0.1, affine=True, track_running_stats=True)\n",
       "      (relu): ReLU(inplace=True)\n",
       "      (conv2): Conv2d(256, 256, kernel_size=(3, 3), stride=(1, 1), padding=(1, 1), bias=False)\n",
       "      (bn2): BatchNorm2d(256, eps=1e-05, momentum=0.1, affine=True, track_running_stats=True)\n",
       "      (downsample): Sequential(\n",
       "        (0): Conv2d(128, 256, kernel_size=(1, 1), stride=(2, 2), bias=False)\n",
       "        (1): BatchNorm2d(256, eps=1e-05, momentum=0.1, affine=True, track_running_stats=True)\n",
       "      )\n",
       "    )\n",
       "    (1): BasicBlock(\n",
       "      (conv1): Conv2d(256, 256, kernel_size=(3, 3), stride=(1, 1), padding=(1, 1), bias=False)\n",
       "      (bn1): BatchNorm2d(256, eps=1e-05, momentum=0.1, affine=True, track_running_stats=True)\n",
       "      (relu): ReLU(inplace=True)\n",
       "      (conv2): Conv2d(256, 256, kernel_size=(3, 3), stride=(1, 1), padding=(1, 1), bias=False)\n",
       "      (bn2): BatchNorm2d(256, eps=1e-05, momentum=0.1, affine=True, track_running_stats=True)\n",
       "    )\n",
       "  )\n",
       "  (layer4): Sequential(\n",
       "    (0): BasicBlock(\n",
       "      (conv1): Conv2d(256, 512, kernel_size=(3, 3), stride=(2, 2), padding=(1, 1), bias=False)\n",
       "      (bn1): BatchNorm2d(512, eps=1e-05, momentum=0.1, affine=True, track_running_stats=True)\n",
       "      (relu): ReLU(inplace=True)\n",
       "      (conv2): Conv2d(512, 512, kernel_size=(3, 3), stride=(1, 1), padding=(1, 1), bias=False)\n",
       "      (bn2): BatchNorm2d(512, eps=1e-05, momentum=0.1, affine=True, track_running_stats=True)\n",
       "      (downsample): Sequential(\n",
       "        (0): Conv2d(256, 512, kernel_size=(1, 1), stride=(2, 2), bias=False)\n",
       "        (1): BatchNorm2d(512, eps=1e-05, momentum=0.1, affine=True, track_running_stats=True)\n",
       "      )\n",
       "    )\n",
       "    (1): BasicBlock(\n",
       "      (conv1): Conv2d(512, 512, kernel_size=(3, 3), stride=(1, 1), padding=(1, 1), bias=False)\n",
       "      (bn1): BatchNorm2d(512, eps=1e-05, momentum=0.1, affine=True, track_running_stats=True)\n",
       "      (relu): ReLU(inplace=True)\n",
       "      (conv2): Conv2d(512, 512, kernel_size=(3, 3), stride=(1, 1), padding=(1, 1), bias=False)\n",
       "      (bn2): BatchNorm2d(512, eps=1e-05, momentum=0.1, affine=True, track_running_stats=True)\n",
       "    )\n",
       "  )\n",
       "  (avgpool): AdaptiveAvgPool2d(output_size=(1, 1))\n",
       "  (fc): Linear(in_features=512, out_features=4, bias=True)\n",
       ")"
      ]
     },
     "execution_count": 8,
     "metadata": {},
     "output_type": "execute_result"
    }
   ],
   "source": [
    "# import the resnet18 model\n",
    "\n",
    "model = torch.hub.load(\n",
    "    \"pytorch/vision\", \"resnet18\", weights=\"IMAGENET1K_V1\")\n",
    "num_ftrs = model.fc.in_features\n",
    "\n",
    "# Here the size of each output sample is set to 4\n",
    "model.fc = nn.Linear(num_ftrs, 4)\n",
    "\n",
    "# Check if output size is correct\n",
    "model.eval()\n"
   ]
  },
  {
   "cell_type": "code",
   "execution_count": 9,
   "metadata": {},
   "outputs": [
    {
     "name": "stderr",
     "output_type": "stream",
     "text": [
      "Failed to detect the name of this notebook, you can set it manually with the WANDB_NOTEBOOK_NAME environment variable to enable code saving.\n"
     ]
    },
    {
     "name": "stdout",
     "output_type": "stream",
     "text": [
      "optimizer = Adam\n",
      "(\"parameters: {'saveFileName': '20230612-161428_pinky.pt', 'learning_rate': \"\n",
      " \"0.0001, 'epochs': 12, 'momentum': 0.1, 'betas': None, 'dropout': 0.1, \"\n",
      " \"'model': 'resnet18', 'optimizer': 'adam', 'criterion': 'CrossEntropyLoss'}\")\n"
     ]
    },
    {
     "name": "stderr",
     "output_type": "stream",
     "text": [
      "\u001b[34m\u001b[1mwandb\u001b[0m: Currently logged in as: \u001b[33m1021548\u001b[0m (\u001b[33mteamnan\u001b[0m). Use \u001b[1m`wandb login --relogin`\u001b[0m to force relogin\n"
     ]
    },
    {
     "data": {
      "text/html": [
       "Tracking run with wandb version 0.15.4"
      ],
      "text/plain": [
       "<IPython.core.display.HTML object>"
      ]
     },
     "metadata": {},
     "output_type": "display_data"
    },
    {
     "data": {
      "text/html": [
       "Run data is saved locally in <code>/Users/stephandekker/workspace/pink_lady/factory/wandb/run-20230612_161429-loc5cfv4</code>"
      ],
      "text/plain": [
       "<IPython.core.display.HTML object>"
      ]
     },
     "metadata": {},
     "output_type": "display_data"
    },
    {
     "data": {
      "text/html": [
       "Syncing run <strong><a href='https://wandb.ai/teamnan/resnet18_128_seed%3D42/runs/loc5cfv4' target=\"_blank\">summer-violet-3</a></strong> to <a href='https://wandb.ai/teamnan/resnet18_128_seed%3D42' target=\"_blank\">Weights & Biases</a> (<a href='https://wandb.me/run' target=\"_blank\">docs</a>)<br/>"
      ],
      "text/plain": [
       "<IPython.core.display.HTML object>"
      ]
     },
     "metadata": {},
     "output_type": "display_data"
    },
    {
     "data": {
      "text/html": [
       " View project at <a href='https://wandb.ai/teamnan/resnet18_128_seed%3D42' target=\"_blank\">https://wandb.ai/teamnan/resnet18_128_seed%3D42</a>"
      ],
      "text/plain": [
       "<IPython.core.display.HTML object>"
      ]
     },
     "metadata": {},
     "output_type": "display_data"
    },
    {
     "data": {
      "text/html": [
       " View run at <a href='https://wandb.ai/teamnan/resnet18_128_seed%3D42/runs/loc5cfv4' target=\"_blank\">https://wandb.ai/teamnan/resnet18_128_seed%3D42/runs/loc5cfv4</a>"
      ],
      "text/plain": [
       "<IPython.core.display.HTML object>"
      ]
     },
     "metadata": {},
     "output_type": "display_data"
    },
    {
     "name": "stderr",
     "output_type": "stream",
     "text": [
      "  0%|          | 0/12 [00:00<?, ?it/s]"
     ]
    },
    {
     "name": "stdout",
     "output_type": "stream",
     "text": [
      "Epoch 001 | Train Loss: 1.14494 | Val Loss: 0.61519 | Train Acc: 49.62 | Val Acc: 81.74\n",
      "Validation loss decreased (inf --> 0.61519)  Saving model to 20230612-161428_pinky.pt...\n",
      "Validation accuracy increased (0.00000 --> 81.73913)  Saving model to 20230612-161428_pinky.pt...\n"
     ]
    },
    {
     "name": "stderr",
     "output_type": "stream",
     "text": [
      " 17%|█▋        | 2/12 [00:48<04:00, 24.05s/it]"
     ]
    },
    {
     "name": "stdout",
     "output_type": "stream",
     "text": [
      "Epoch 002 | Train Loss: 0.19643 | Val Loss: 0.36799 | Train Acc: 98.50 | Val Acc: 88.70\n",
      "Validation loss decreased (0.61519 --> 0.36799)  Saving model to 20230612-161428_pinky.pt...\n",
      "Validation accuracy increased (81.73913 --> 88.69565)  Saving model to 20230612-161428_pinky.pt...\n"
     ]
    },
    {
     "name": "stderr",
     "output_type": "stream",
     "text": [
      " 25%|██▌       | 3/12 [01:11<03:34, 23.87s/it]"
     ]
    },
    {
     "name": "stdout",
     "output_type": "stream",
     "text": [
      "Epoch 003 | Train Loss: 0.08287 | Val Loss: 0.27362 | Train Acc: 99.25 | Val Acc: 91.30\n",
      "Validation loss decreased (0.36799 --> 0.27362)  Saving model to 20230612-161428_pinky.pt...\n",
      "Validation accuracy increased (88.69565 --> 91.30435)  Saving model to 20230612-161428_pinky.pt...\n"
     ]
    },
    {
     "name": "stderr",
     "output_type": "stream",
     "text": [
      " 33%|███▎      | 4/12 [01:35<03:10, 23.79s/it]"
     ]
    },
    {
     "name": "stdout",
     "output_type": "stream",
     "text": [
      "Epoch 004 | Train Loss: 0.03800 | Val Loss: 0.27928 | Train Acc: 99.62 | Val Acc: 91.30\n",
      "Validation accuracy increased (91.30435 --> 91.30435)  Saving model to 20230612-161428_pinky.pt...\n"
     ]
    },
    {
     "name": "stderr",
     "output_type": "stream",
     "text": [
      " 42%|████▏     | 5/12 [01:59<02:46, 23.73s/it]"
     ]
    },
    {
     "name": "stdout",
     "output_type": "stream",
     "text": [
      "Epoch 005 | Train Loss: 0.02336 | Val Loss: 0.27869 | Train Acc: 99.62 | Val Acc: 91.30\n",
      "Validation accuracy increased (91.30435 --> 91.30435)  Saving model to 20230612-161428_pinky.pt...\n"
     ]
    },
    {
     "name": "stderr",
     "output_type": "stream",
     "text": [
      " 50%|█████     | 6/12 [02:22<02:21, 23.65s/it]"
     ]
    },
    {
     "name": "stdout",
     "output_type": "stream",
     "text": [
      "Epoch 006 | Train Loss: 0.01729 | Val Loss: 0.29227 | Train Acc: 99.62 | Val Acc: 90.43\n"
     ]
    },
    {
     "name": "stderr",
     "output_type": "stream",
     "text": [
      " 58%|█████▊    | 7/12 [02:46<01:57, 23.59s/it]"
     ]
    },
    {
     "name": "stdout",
     "output_type": "stream",
     "text": [
      "Epoch 007 | Train Loss: 0.01732 | Val Loss: 0.29529 | Train Acc: 99.62 | Val Acc: 90.43\n"
     ]
    },
    {
     "name": "stderr",
     "output_type": "stream",
     "text": [
      " 67%|██████▋   | 8/12 [03:09<01:34, 23.59s/it]"
     ]
    },
    {
     "name": "stdout",
     "output_type": "stream",
     "text": [
      "Epoch 008 | Train Loss: 0.01026 | Val Loss: 0.30154 | Train Acc: 100.00 | Val Acc: 92.17\n",
      "Validation accuracy increased (91.30435 --> 92.17391)  Saving model to 20230612-161428_pinky.pt...\n"
     ]
    },
    {
     "name": "stderr",
     "output_type": "stream",
     "text": [
      " 75%|███████▌  | 9/12 [03:33<01:10, 23.57s/it]"
     ]
    },
    {
     "name": "stdout",
     "output_type": "stream",
     "text": [
      "Epoch 009 | Train Loss: 0.00933 | Val Loss: 0.30075 | Train Acc: 100.00 | Val Acc: 91.30\n"
     ]
    },
    {
     "name": "stderr",
     "output_type": "stream",
     "text": [
      " 83%|████████▎ | 10/12 [03:56<00:47, 23.58s/it]"
     ]
    },
    {
     "name": "stdout",
     "output_type": "stream",
     "text": [
      "Epoch 010 | Train Loss: 0.00973 | Val Loss: 0.29369 | Train Acc: 100.00 | Val Acc: 91.30\n"
     ]
    },
    {
     "name": "stderr",
     "output_type": "stream",
     "text": [
      " 92%|█████████▏| 11/12 [04:20<00:23, 23.62s/it]"
     ]
    },
    {
     "name": "stdout",
     "output_type": "stream",
     "text": [
      "Epoch 011 | Train Loss: 0.01278 | Val Loss: 0.29164 | Train Acc: 100.00 | Val Acc: 92.17\n",
      "Validation accuracy increased (92.17391 --> 92.17391)  Saving model to 20230612-161428_pinky.pt...\n"
     ]
    },
    {
     "name": "stderr",
     "output_type": "stream",
     "text": [
      "100%|██████████| 12/12 [04:44<00:00, 23.69s/it]"
     ]
    },
    {
     "name": "stdout",
     "output_type": "stream",
     "text": [
      "Epoch 012 | Train Loss: 0.00591 | Val Loss: 0.29840 | Train Acc: 100.00 | Val Acc: 92.17\n",
      "Validation accuracy increased (92.17391 --> 92.17391)  Saving model to 20230612-161428_pinky.pt...\n"
     ]
    },
    {
     "name": "stderr",
     "output_type": "stream",
     "text": [
      "\n"
     ]
    },
    {
     "data": {
      "text/html": [
       "Waiting for W&B process to finish... <strong style=\"color:green\">(success).</strong>"
      ],
      "text/plain": [
       "<IPython.core.display.HTML object>"
      ]
     },
     "metadata": {},
     "output_type": "display_data"
    },
    {
     "data": {
      "text/html": [
       "<style>\n",
       "    table.wandb td:nth-child(1) { padding: 0 10px; text-align: left ; width: auto;} td:nth-child(2) {text-align: left ; width: 100%}\n",
       "    .wandb-row { display: flex; flex-direction: row; flex-wrap: wrap; justify-content: flex-start; width: 100% }\n",
       "    .wandb-col { display: flex; flex-direction: column; flex-basis: 100%; flex: 1; padding: 10px; }\n",
       "    </style>\n",
       "<div class=\"wandb-row\"><div class=\"wandb-col\"><h3>Run history:</h3><br/><table class=\"wandb\"><tr><td>train_acc</td><td>▁███████████</td></tr><tr><td>train_loss</td><td>█▂▁▁▁▁▁▁▁▁▁▁</td></tr><tr><td>val_acc</td><td>▁▆▇▇▇▇▇█▇▇██</td></tr><tr><td>val_loss</td><td>█▃▁▁▁▁▁▂▂▁▁▂</td></tr></table><br/></div><div class=\"wandb-col\"><h3>Run summary:</h3><br/><table class=\"wandb\"><tr><td>train_acc</td><td>100.0</td></tr><tr><td>train_loss</td><td>0.00591</td></tr><tr><td>val_acc</td><td>92.17391</td></tr><tr><td>val_loss</td><td>0.2984</td></tr></table><br/></div></div>"
      ],
      "text/plain": [
       "<IPython.core.display.HTML object>"
      ]
     },
     "metadata": {},
     "output_type": "display_data"
    },
    {
     "data": {
      "text/html": [
       " View run <strong style=\"color:#cdcd00\">summer-violet-3</strong> at: <a href='https://wandb.ai/teamnan/resnet18_128_seed%3D42/runs/loc5cfv4' target=\"_blank\">https://wandb.ai/teamnan/resnet18_128_seed%3D42/runs/loc5cfv4</a><br/>Synced 5 W&B file(s), 0 media file(s), 0 artifact file(s) and 0 other file(s)"
      ],
      "text/plain": [
       "<IPython.core.display.HTML object>"
      ]
     },
     "metadata": {},
     "output_type": "display_data"
    },
    {
     "data": {
      "text/html": [
       "Find logs at: <code>./wandb/run-20230612_161429-loc5cfv4/logs</code>"
      ],
      "text/plain": [
       "<IPython.core.display.HTML object>"
      ]
     },
     "metadata": {},
     "output_type": "display_data"
    },
    {
     "name": "stdout",
     "output_type": "stream",
     "text": [
      "\n",
      "best results: {'val_loss_min': 0.2736206370851268, 'val_loss_epoch': 3, 'val_acc_max': 92.17391337519106, 'val_acc_epoch': 12}\n",
      "\n",
      "alot is: {'n_epochs': 12, 'train_loss': [1.144942757778598, 0.19643117593867437, 0.08287397161462254, 0.03799737541747272, 0.02335694605918755, 0.017288656163036376, 0.017315129392353214, 0.010261391734186196, 0.009329080889771756, 0.009726767085100474, 0.012776882128607957, 0.00591243656100075], 'val_loss': [0.6151865549709485, 0.3679907578489055, 0.2736206370851268, 0.2792777561623117, 0.27868782048640045, 0.2922704320886861, 0.2952861161335655, 0.30154090264569156, 0.30074927599533746, 0.29369074883668317, 0.29163984138032667, 0.2984014987945557], 'train_acc': [49.62406015037594, 98.49624060150376, 99.24812030075188, 99.62406015037594, 99.62406015037594, 99.62406015037594, 99.62406015037594, 100.0, 100.0, 100.0, 100.0, 100.0], 'val_acc': [81.73913016941236, 88.69565250562584, 91.30434815779977, 91.30434815779977, 91.3043486221977, 90.43478340480638, 90.43478294040845, 92.17391337519106, 91.30434769340184, 91.30434815779977, 92.17391337519106, 92.17391337519106]}\n",
      "\n",
      "save path = {'local_save_path': 'storage/data/generated', 'min_loss_file': '20230612-161428_pinky_loss.pt', 'max_acc_file': '20230612-161428_pinky_acc.pt', 'final_epoch_file': '20230612-161428_pinky_final.pt'}\n"
     ]
    }
   ],
   "source": [
    "# set the hyperparameters and the model\n",
    "\n",
    "# hyperparameters\n",
    "learning_rate = 0.0001\n",
    "epochs = 12\n",
    "betas = None  # (0.9, 0.999)\n",
    "momentum = 0.1\n",
    "dropout = 0.1\n",
    "total_epochs = 0  # legacy code\n",
    "optchoice = 'adam'  # 'sgd' or 'adam'\n",
    "\n",
    "# model parameters\n",
    "\n",
    "# model = CNN(dropout=dropout) # Create the model\n",
    "model.to(device) # set model to device\n",
    "\n",
    "model.train() # set model to train mode\n",
    "\n",
    "# optimizer\n",
    "import torch.optim as optim\n",
    "CrossEntropyLossCriterion = nn.CrossEntropyLoss()\n",
    "#optimizer = optim.SGD(myresnetmodel.parameters(), lr=mylearnrate, momentum=mymomentum)\n",
    "if optchoice == 'adam':\n",
    "    optimizer = optim.Adam(model.parameters(), lr=learning_rate)\n",
    "    print('optimizer = Adam')\n",
    "elif optchoice  == 'sgd':\n",
    "    optimizer = optim.SGD(model.parameters(), lr=learning_rate, momentum=momentum)\n",
    "    print('optimizer = sgd')\n",
    "\n",
    "# loss function\n",
    "criterion = nn.CrossEntropyLoss()   # Define the loss function  \n",
    " \n",
    " # set the loaders to the correct names for the training loop\n",
    "train_loader = train_d\n",
    "val_loader = val_d\n",
    "\n",
    "# set epochloss to empty list\n",
    "epoch_loss = []\n",
    "# create dictionairies for the hyperparameters and model parameters\n",
    "\n",
    "timestamp = datetime.now().strftime(\"%Y%m%d-%H%M%S\")\n",
    "userAccountID = cf.settings['userAccountID']\n",
    "saveFileName = f'{timestamp}_{userAccountID}.pt'\n",
    "\n",
    "hyperparameters = { 'saveFileName': saveFileName, 'learning_rate' : learning_rate, 'epochs' : epochs, 'momentum' : momentum, 'betas' : betas, 'dropout' : dropout}\n",
    "model_parameters = { 'model' : 'resnet18', 'optimizer' : optchoice, 'criterion' : 'CrossEntropyLoss'}  # 'model' : model, 'optimizer' : optimizer, 'criterion' : criterion\n",
    "parameters = {**hyperparameters, **model_parameters}    # merge the two dictionairies\n",
    "pp = pprint.PrettyPrinter(indent=1)  \n",
    "\n",
    "\n",
    "pp.pprint(f'parameters: {parameters}')\n",
    "# the training loop\n",
    "\n",
    "\n",
    "# start a new wandb run to track this script\n",
    "wandb.init(\n",
    "    # set the wandb project where this run will be logged\n",
    "    project=\"resnet18_128_seed=42\",\n",
    "    \n",
    "    # track hyperparameters and run metadata\n",
    "    config= parameters\n",
    ")\n",
    "\n",
    "history = train(\n",
    "    model, train_loader, val_loader, criterion, optimizer, n_epochs=epochs,\n",
    "    model_file_name=saveFileName\n",
    ")\n",
    "\n",
    "# [optional] finish the wandb run, necessary in notebooks\n",
    "wandb.finish()\n",
    "\n",
    "print()\n",
    "print(f'best results: {history[0]}')\n",
    "print()\n",
    "print(f'alot is: {history[1]}')\n",
    "print()\n",
    "print(f'save path = {history[2]}')"
   ]
  },
  {
   "cell_type": "code",
   "execution_count": 10,
   "metadata": {},
   "outputs": [
    {
     "data": {
      "image/png": "[encoded data removed]",
      "text/plain": [
       "<Figure size 1000x500 with 2 Axes>"
      ]
     },
     "metadata": {},
     "output_type": "display_data"
    }
   ],
   "source": [
    "# Create a figure with two subplots\n",
    "fig, axs = plt.subplots(1, 2, figsize=(10, 5))\n",
    "\n",
    "# Plot the training and validation loss\n",
    "axs[0].plot(history[1]['train_loss'], label='train_loss')\n",
    "axs[0].plot(history[1]['val_loss'], label='val_loss')\n",
    "axs[0].set_xlabel('Epoch')\n",
    "axs[0].set_ylabel('Loss')\n",
    "axs[0].set_title('Loss over training epochs')\n",
    "axs[0].legend()\n",
    "\n",
    "# Plot the training and validation accuracy\n",
    "axs[1].plot(history[1]['train_acc'], label='train_acc')\n",
    "axs[1].plot(history[1]['val_acc'], label='val_acc')\n",
    "axs[1].set_xlabel('Epoch')\n",
    "axs[1].set_ylabel('Accuracy')\n",
    "axs[1].set_title('Accuracy over training epochs')\n",
    "axs[1].legend()\n",
    "\n",
    "# Adjust the spacing between subplots\n",
    "plt.tight_layout()\n",
    "\n",
    "# Display the figure\n",
    "plt.show()"
   ]
  },
  {
   "cell_type": "code",
   "execution_count": 11,
   "metadata": {},
   "outputs": [
    {
     "data": {
      "text/plain": [
       "({'val_loss_min': 0.2736206370851268,\n",
       "  'val_loss_epoch': 3,\n",
       "  'val_acc_max': 92.17391337519106,\n",
       "  'val_acc_epoch': 12},\n",
       " {'n_epochs': 12,\n",
       "  'train_loss': [1.144942757778598,\n",
       "   0.19643117593867437,\n",
       "   0.08287397161462254,\n",
       "   0.03799737541747272,\n",
       "   0.02335694605918755,\n",
       "   0.017288656163036376,\n",
       "   0.017315129392353214,\n",
       "   0.010261391734186196,\n",
       "   0.009329080889771756,\n",
       "   0.009726767085100474,\n",
       "   0.012776882128607957,\n",
       "   0.00591243656100075],\n",
       "  'val_loss': [0.6151865549709485,\n",
       "   0.3679907578489055,\n",
       "   0.2736206370851268,\n",
       "   0.2792777561623117,\n",
       "   0.27868782048640045,\n",
       "   0.2922704320886861,\n",
       "   0.2952861161335655,\n",
       "   0.30154090264569156,\n",
       "   0.30074927599533746,\n",
       "   0.29369074883668317,\n",
       "   0.29163984138032667,\n",
       "   0.2984014987945557],\n",
       "  'train_acc': [49.62406015037594,\n",
       "   98.49624060150376,\n",
       "   99.24812030075188,\n",
       "   99.62406015037594,\n",
       "   99.62406015037594,\n",
       "   99.62406015037594,\n",
       "   99.62406015037594,\n",
       "   100.0,\n",
       "   100.0,\n",
       "   100.0,\n",
       "   100.0,\n",
       "   100.0],\n",
       "  'val_acc': [81.73913016941236,\n",
       "   88.69565250562584,\n",
       "   91.30434815779977,\n",
       "   91.30434815779977,\n",
       "   91.3043486221977,\n",
       "   90.43478340480638,\n",
       "   90.43478294040845,\n",
       "   92.17391337519106,\n",
       "   91.30434769340184,\n",
       "   91.30434815779977,\n",
       "   92.17391337519106,\n",
       "   92.17391337519106]},\n",
       " {'local_save_path': 'storage/data/generated',\n",
       "  'min_loss_file': '20230612-161428_pinky_loss.pt',\n",
       "  'max_acc_file': '20230612-161428_pinky_acc.pt',\n",
       "  'final_epoch_file': '20230612-161428_pinky_final.pt'})"
      ]
     },
     "execution_count": 11,
     "metadata": {},
     "output_type": "execute_result"
    }
   ],
   "source": [
    "# show the save paths from history\n",
    "history"
   ]
  },
  {
   "cell_type": "code",
   "execution_count": 12,
   "metadata": {},
   "outputs": [
    {
     "ename": "SyntaxError",
     "evalue": "closing parenthesis ')' does not match opening parenthesis '[' on line 7 (3371225434.py, line 9)",
     "output_type": "error",
     "traceback": [
      "\u001b[0;36m  Cell \u001b[0;32mIn[12], line 9\u001b[0;36m\u001b[0m\n\u001b[0;31m    )\u001b[0m\n\u001b[0m    ^\u001b[0m\n\u001b[0;31mSyntaxError\u001b[0m\u001b[0;31m:\u001b[0m closing parenthesis ')' does not match opening parenthesis '[' on line 7\n"
     ]
    }
   ],
   "source": [
    "# function to test the model\n",
    "def test_model(model, datasetPath):\n",
    "    model.eval()    \n",
    "\n",
    "    # Load the test dataset\n",
    "    dataset_path = datasetPath\n",
    "    transform = T.Compose([\n",
    "    T.ToTensor()\n",
    "                )\n",
    "])\n",
    "    dataset = ImageFolder(dataset_path, transform=transform)\n",
    "    test_dataloader = DataLoader(dataset, batch_size=32, shuffle=False)\n",
    "\n",
    "    labels_dict = dataset.class_to_idx\n",
    "\n",
    "    # Track the overall test accuracy and accuracy by each type of apple\n",
    "    overall_correct = 0\n",
    "    overall_total = 0\n",
    "    normal_correct = 0\n",
    "    normal_total = 0\n",
    "    abnormal_correct = 0\n",
    "    abnormal_total = 0\n",
    "\n",
    "    # Initialize the confusion matrix\n",
    "    num_classes = len(labels_dict)\n",
    "    confusion_matrix = np.zeros((num_classes, num_classes), dtype=int)\n",
    "\n",
    "    # Iterate over the test dataset\n",
    "    for images, labels in test_dataloader:\n",
    "        images = images.to(device)\n",
    "        labels = labels.to(device)\n",
    "\n",
    "        # Forward pass\n",
    "        outputs = model(images)\n",
    "\n",
    "        # Get predictions\n",
    "        _, predicted = torch.max(outputs.data, 1)\n",
    "\n",
    "        # Update accuracy counts\n",
    "        overall_correct += (predicted == labels).sum().item()\n",
    "        overall_total += labels.size(0)\n",
    "\n",
    "        # Calculate accuracy for normal apples vs. abnormal apples\n",
    "        normal_mask = labels == labels_dict['Normal_Apple']\n",
    "        abnormal_mask = ~normal_mask\n",
    "        normal_correct += (predicted[normal_mask] == labels[normal_mask]).sum().item()\n",
    "        normal_total += normal_mask.sum().item()\n",
    "        abnormal_correct += (predicted[abnormal_mask] == labels[abnormal_mask]).sum().item()\n",
    "        abnormal_total += abnormal_mask.sum().item()\n",
    "\n",
    "        # Update the confusion matrix\n",
    "        for true_label, predicted_label in zip(labels.cpu().numpy(), predicted.cpu().numpy()):\n",
    "            confusion_matrix[true_label][predicted_label] += 1\n",
    "\n",
    "    # Calculate overall accuracy\n",
    "    overall_accuracy = overall_correct / overall_total\n",
    "\n",
    "    # Calculate accuracy for normal apples and abnormal apples separately\n",
    "    normal_accuracy = normal_correct / normal_total if normal_total != 0 else 0.0\n",
    "    abnormal_accuracy = abnormal_correct / abnormal_total if abnormal_total != 0 else 0.0\n",
    "\n",
    "    # Print overall accuracy\n",
    "    print(f\"Overall accuracy: {overall_accuracy:.4f}\")\n",
    "\n",
    "    # Print accuracy for normal apples and abnormal apples separately\n",
    "    print(f\"Normal Apple accuracy: {normal_accuracy:.4f}\")\n",
    "    print(f\"Abnormal Apple accuracy: {abnormal_accuracy:.4f}\")\n",
    "\n",
    "    # Print the confusion matrix\n",
    "    print()\n",
    "    print(labels_dict)\n",
    "    print(\"Confusion Matrix:\")\n",
    "    print(confusion_matrix)"
   ]
  },
  {
   "attachments": {},
   "cell_type": "markdown",
   "metadata": {},
   "source": [
    "save the data to azure cosmos NoSQL database\n"
   ]
  },
  {
   "cell_type": "code",
   "execution_count": null,
   "metadata": {},
   "outputs": [],
   "source": [
    "local_saved_path= list(history[2].values())[0]\n",
    "model_file_name_loss = list(history[2].values())[1]\n",
    "print(f'{list(history[2].values())[0]}/{list(history[2].values())[1]}')\n",
    "\n",
    "model_file_name_loss= f'{list(history[2].values())[0]}/{list(history[2].values())[1]}'\n",
    "print(model_file_name_loss)"
   ]
  },
  {
   "attachments": {},
   "cell_type": "markdown",
   "metadata": {},
   "source": [
    "# Azure Cosmos NoSQL db seems to refuse the size of the model file."
   ]
  },
  {
   "cell_type": "code",
   "execution_count": null,
   "metadata": {},
   "outputs": [],
   "source": [
    "# save the model to cosmos db\n",
    "\n",
    "\n",
    "import time\n",
    "\n",
    "model_file_name_loss= f'../{list(history[2].values())[0]}/{list(history[2].values())[1]}'\n",
    "model_file_name_acc = f'../{list(history[2].values())[0]}/{list(history[2].values())[2]}'\n",
    "model_file_name_final = f'../{list(history[2].values())[0]}/{list(history[2].values())[3]}'\n",
    "# model_file_name_loss= './20230605-103225_pinky_loss.pt' \n",
    "# model_file_name_acc = './20230605-103225_pinky_acc.pt'\n",
    "# model_file_name_final = './20230605-103225_pinky_final.pt'\n",
    "print(model_file_name_loss)\n",
    "print(model_file_name_acc)\n",
    "print(model_file_name_final)\n",
    "\n",
    "\n",
    "pulled_loss = cf.save_data(parameters, history, )\n",
    "time.sleep(2)\n",
    "pulled_acc = cf.save_data(parameters, history)\n",
    "time.sleep(2)\n",
    "pulled_final = cf.save_data(parameters, history)"
   ]
  },
  {
   "attachments": {},
   "cell_type": "markdown",
   "metadata": {},
   "source": [
    "test\n"
   ]
  },
  {
   "cell_type": "code",
   "execution_count": null,
   "metadata": {},
   "outputs": [],
   "source": [
    "print(pulled_final)"
   ]
  },
  {
   "attachments": {},
   "cell_type": "markdown",
   "metadata": {},
   "source": [
    "# WIP loader loads a wrong data type."
   ]
  }
 ],
 "metadata": {
  "kernelspec": {
   "display_name": "pink_lady-bMzUwwsu",
   "language": "python",
   "name": "python3"
  },
  "language_info": {
   "codemirror_mode": {
    "name": "ipython",
    "version": 3
   },
   "file_extension": ".py",
   "mimetype": "text/x-python",
   "name": "python",
   "nbconvert_exporter": "python",
   "pygments_lexer": "ipython3",
   "version": "3.11.3"
  },
  "orig_nbformat": 4
 },
 "nbformat": 4,
 "nbformat_minor": 2
}

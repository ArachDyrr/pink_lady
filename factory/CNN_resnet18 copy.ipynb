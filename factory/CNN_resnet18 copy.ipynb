{
 "cells": [
  {
   "attachments": {},
   "cell_type": "markdown",
   "metadata": {},
   "source": [
    "# Convolution Neural Net (CNN)\n",
    "to detect apples"
   ]
  },
  {
   "attachments": {},
   "cell_type": "markdown",
   "metadata": {},
   "source": [
    "# Imports"
   ]
  },
  {
   "cell_type": "code",
   "execution_count": 1,
   "metadata": {},
   "outputs": [],
   "source": [
    "import matplotlib.pyplot as plt\n",
    "import numpy as np\n",
    "import modules.cosmos_functions as cf\n",
    "\n",
    "import pprint\n",
    "import random\n",
    "import torch\n",
    "import torchvision\n",
    "import torch.nn.functional as F\n",
    "\n",
    "import torchvision.transforms as T\n",
    "import wandb\n",
    "import torch.optim as optim\n",
    "from datetime import datetime\n",
    "from os import listdir, path\n",
    "from torch import nn\n",
    "from torch.utils.data import Dataset, DataLoader, random_split\n",
    "from torchvision.datasets import ImageFolder\n",
    "from torch.utils.data import random_split\n",
    "from torchvision.io import ImageReadMode\n",
    "from torchvision.io import read_image\n",
    "from tqdm import tqdm\n",
    "\n",
    "from torchvision import models\n",
    "from torchvision.models import resnet18, ResNet18_Weights"
   ]
  },
  {
   "cell_type": "code",
   "execution_count": 2,
   "metadata": {},
   "outputs": [
    {
     "name": "stdout",
     "output_type": "stream",
     "text": [
      "Device is 'mps' Thus a tensor will look like this: tensor([1.], device='mps:0')\n"
     ]
    }
   ],
   "source": [
    "# set the device\n",
    "\n",
    "device = (\n",
    "    \"cuda\"\n",
    "    if torch.cuda.is_available()\n",
    "    else \"mps\"\n",
    "    if torch.backends.mps.is_available()\n",
    "    else \"cpu\"\n",
    ")\n",
    "x = torch.ones(1, device=device)\n",
    "\n",
    "print(f\"Device is '{device}' Thus a tensor will look like this: {x}\")"
   ]
  },
  {
   "cell_type": "code",
   "execution_count": 3,
   "metadata": {},
   "outputs": [],
   "source": [
    "# function to show the images\n",
    "\n",
    "\n",
    "\n",
    "\n",
    "def show_batch(train_d, val_d):\n",
    "    # Get a batch of data from the DataLoader\n",
    "    data_train = next(iter(train_d))\n",
    "    data_val = next(iter(val_d))\n",
    "\n",
    "    # Set the savefig.bbox parameter to 'tight'\n",
    "    plt.rcParams[\"savefig.bbox\"] = 'tight'\n",
    "\n",
    "    # Retrieve the first tensor and its corresponding label\n",
    "    image_train = data_train[0][0]\n",
    "    # image_test = data_test[0][0]\n",
    "    image_val = data_val[0][0]\n",
    "    label_train = data_train[1][0]\n",
    "    # label_test = data_test[1][0]\n",
    "    label_val = data_val[1][0]\n",
    "\n",
    "\n",
    "    # Convert the image tensors to NumPy arrays and transpose the dimensions\n",
    "    np_image_train = image_train.permute(1, 2, 0).numpy()\n",
    "    # np_image_test = image_test.permute(1, 2, 0).numpy()\n",
    "    np_image_val = image_val.permute(1, 2, 0).numpy()\n",
    "\n",
    "    # Create a figure with three subplots\n",
    "    fig, axes = plt.subplots(1, 2)\n",
    "\n",
    "    # Display the image in the first subplot\n",
    "    axes[0].imshow(np_image_train)\n",
    "    axes[0].set_title(f'{label_train}, {image_train.shape}')\n",
    "\n",
    "    # Display the image in the third subplot\n",
    "    axes[1].imshow(np_image_val)\n",
    "    axes[1].set_title(f'{label_val}, {image_val.shape}')\n",
    "\n",
    "    # # Display the image in the second subplot\n",
    "    # axes[2].imshow(np_image_test)\n",
    "    # axes[2].set_title(f'{label_test}, {image_test.shape}')\n",
    "\n",
    "    # Adjust spacing between subplots to prevent overlap\n",
    "    fig.tight_layout()\n",
    "\n",
    "    # Show the plot\n",
    "    plt.show()\n"
   ]
  },
  {
   "cell_type": "code",
   "execution_count": 4,
   "metadata": {},
   "outputs": [],
   "source": [
    "# function to determine accuracy \n",
    "\n",
    "def evaluate_accuracy(logits, y_true):\n",
    "    # get index with the largest logit value PER OBSERVATION\n",
    "    _, y_pred = torch.max(logits, dim=1)\n",
    "\n",
    "    # calculate proportion of correct prediction\n",
    "    correct_pred = (y_pred == y_true).float()  # PyCharm error Unresolved attribute reference 'float' for class 'bool'\n",
    "    acc = correct_pred.sum() / len(correct_pred)\n",
    "\n",
    "    return acc * 100"
   ]
  },
  {
   "cell_type": "code",
   "execution_count": 5,
   "metadata": {},
   "outputs": [],
   "source": [
    "# function to train the model\n",
    "\n",
    "def train(model, train_loader, val_loader, criterion, optimizer, n_epochs, model_file_name='model.pt',local_save_path='storage/data/generated'):\n",
    "    # initialize container variable for model performance results per epoch\n",
    "    history = {\n",
    "        'n_epochs': n_epochs,\n",
    "        'train_loss': [],\n",
    "        'val_loss': [],\n",
    "        'train_acc': [],\n",
    "        'val_acc': []\n",
    "    }   \n",
    "\n",
    "    # initialize tracker for minimum validation loss and maxiumum validation accuracy\n",
    "    val_loss_min = np.Inf\n",
    "    val_loss_epoch = 0\n",
    "    val_acc_max = 0.0\n",
    "    val_acc_epoch = 0\n",
    "    best_results = {\n",
    "        'val_loss_min': val_loss_min,\n",
    "        'val_loss_epoch': val_loss_epoch,\n",
    "        'val_acc_max': val_acc_max,\n",
    "        'val_acc_epoch': val_acc_epoch\n",
    "        }    \n",
    "\n",
    "    model_file_name_loss = f'{str(model_file_name[:-3])}_loss.pt'\n",
    "    model_file_name_acc = f'{str(model_file_name[:-3])}_acc.pt'\n",
    "    final_model_file_name = f'{str(model_file_name[:-3])}_final.pt'\n",
    "    locally_saved_path = local_save_path   \n",
    "\n",
    "    file_data = { \n",
    "                'local_save_path' : locally_saved_path,\n",
    "                'min_loss_file' : model_file_name_loss,\n",
    "                'max_acc_file' : model_file_name_acc,\n",
    "                'final_epoch_file' : final_model_file_name\n",
    "                  }\n",
    "    \n",
    "    early_stopping_counter = 0\n",
    "\n",
    "    model_safe_loss = f'../{locally_saved_path}/{model_file_name_loss}'\n",
    "    model_safe_acc = f'../{locally_saved_path}/{model_file_name_acc}'\n",
    "    model_safe_final = f'../{locally_saved_path}/{final_model_file_name}'\n",
    "\n",
    "    # loop per epoch\n",
    "    for epoch in tqdm(range(n_epochs)):\n",
    "        \n",
    "        # initialize tracker for training performance\n",
    "        train_acc = 0\n",
    "        train_loss = 0\n",
    "\n",
    "        ###################\n",
    "        # train the model #\n",
    "        ###################\n",
    "\n",
    "        # prepare model for training\n",
    "        model.train()\n",
    "\n",
    "        # loop for each batch\n",
    "        for data, target in train_loader:\n",
    "            # move data to device\n",
    "            data, target = data.to(device), target.to(device)\n",
    "            \n",
    "            # STEP 1: clear gradients\n",
    "            optimizer.zero_grad()\n",
    "            # STEP 2: forward pass\n",
    "            output = model(data)\n",
    "            # STEP 3: calculate the loss\n",
    "            loss = criterion(output, target)\n",
    "            # STEP 4: backward pass\n",
    "            loss.backward()\n",
    "            # STEP 5: perform parameter update\n",
    "            optimizer.step()\n",
    "            # STEP 6: accumulate training loss and accuracy\n",
    "            train_loss += loss.item() * data.size(0)\n",
    "            acc = evaluate_accuracy(output, target)\n",
    "            train_acc += acc.item() * data.size(0)\n",
    "\n",
    "        ######################\n",
    "        # validate the model #\n",
    "        ######################\n",
    "\n",
    "        # disable gradient calculation\n",
    "        with torch.no_grad():\n",
    "            # initialize tracker for validation performance\n",
    "            val_acc = 0\n",
    "            val_loss = 0\n",
    "\n",
    "            # prepare model for evaluation\n",
    "            model.eval()\n",
    "\n",
    "            # loop for each batch\n",
    "            for data, target in val_loader:\n",
    "                # move data to device\n",
    "                data, target = data.to(device), target.to(device)\n",
    "                # STEP 1: forward pass\n",
    "                output = model(data)\n",
    "                # STEP 2: calculate the loss\n",
    "                loss = criterion(output, target)\n",
    "                # STEP 3: accumulate validation loss and accuracy\n",
    "                val_loss += loss.item() * data.size(0)\n",
    "                acc = evaluate_accuracy(output, target)\n",
    "                val_acc += acc.item() * data.size(0)\n",
    "\n",
    "\n",
    "        ####################\n",
    "        # model evaluation #\n",
    "        ####################\n",
    "\n",
    "        # calculate average loss over an epoch\n",
    "        train_loss /= len(train_loader.sampler)\n",
    "        val_loss /= len(val_loader.sampler)\n",
    "        history['train_loss'].append(train_loss)\n",
    "        history['val_loss'].append(val_loss)\n",
    "\n",
    "        # calculate average accuracy over an epoch\n",
    "        train_acc /= len(train_loader.sampler)\n",
    "        val_acc /= len(val_loader.sampler)\n",
    "        history['train_acc'].append(train_acc)\n",
    "        history['val_acc'].append(val_acc)\n",
    "\n",
    "        # print training progress per epoch\n",
    "        print(f'Epoch {epoch+1:03} | Train Loss: {train_loss:.5f} | Val Loss: {val_loss:.5f} | Train Acc: {train_acc:.2f} | Val Acc: {val_acc:.2f}')\n",
    "\n",
    "        # save model if validation loss has decreased\n",
    "        if val_loss <= val_loss_min:\n",
    "            print(\n",
    "                f'Validation loss decreased ({val_loss_min:.5f} --> {val_loss:.5f})  Saving model to {model_file_name}...')\n",
    "            \n",
    "\n",
    "            torch.save(model.state_dict(), model_safe_loss)\n",
    "            val_loss_min = val_loss\n",
    "            best_results['val_loss_min'] = val_loss_min\n",
    "            best_results['val_loss_epoch'] = epoch+1\n",
    "        \n",
    "        # save model if validation accuracy has decreased\n",
    "        if val_acc >= val_acc_max:\n",
    "            print(\n",
    "                f'Validation accuracy increased ({val_acc_max:.5f} --> {val_acc:.5f})  Saving model to {model_file_name}...')\n",
    "            \n",
    "            torch.save(model.state_dict(), model_safe_acc)\n",
    "            val_acc_max = val_acc\n",
    "            best_results['val_acc_max'] = val_acc_max\n",
    "            best_results['val_acc_epoch'] = epoch+1\n",
    "        \n",
    "\n",
    "        # log metrics to wandb\n",
    "        wandb.log({\"train_loss\": train_loss, \"val_loss\": val_loss, \"train_acc\": train_acc, \"val_acc\": val_acc})\n",
    "\n",
    "    # save model at the end of training    \n",
    "    torch.save(model.state_dict(), model_safe_final)\n",
    "\n",
    "    results = best_results, history, file_data\n",
    "    \n",
    "    # return model performance history\n",
    "    return results"
   ]
  },
  {
   "cell_type": "code",
   "execution_count": 6,
   "metadata": {},
   "outputs": [
    {
     "name": "stdout",
     "output_type": "stream",
     "text": [
      "{'Blotch_Apple': 0, 'Normal_Apple': 1, 'Rot_Apple': 2, 'Scab_Apple': 3}\n"
     ]
    }
   ],
   "source": [
    "# load the dataset\n",
    "dataset_path = \"../storage/images/apple_resized_128/Train/\"\n",
    "# transform and normalize the data\n",
    "transform = T.Compose([\n",
    "    T.ToTensor(),\n",
    "    # # T.transforms.Resize((256, 256)),\n",
    "    # # T.transforms.RandomCrop((224, 224)),\n",
    "    # T.transforms.RandomHorizontalFlip(),\n",
    "    # T.transforms.RandomVerticalFlip(),\n",
    "    # T.transforms.RandomRotation(25),  # Randomly rotate the image by a maximum of 30 degrees\n",
    "    # T.transforms.ColorJitter(brightness=0.2, contrast=0.2, saturation=0.2, hue=0.1),  # Slightly change the image color\n",
    "    # T.transforms.RandomGrayscale(p=0.1),  # Randomly convert the image to grayscale with a probability of 10%\n",
    "    # T.transforms.RandomErasing(p=0.1, scale=(0.02, 0.33), ratio=(0.3, 3.3), value=0, inplace=False),  # Randomly erase rectangular patches of the image with a probability of 10%\n",
    "    # # T.transforms.RandomPerspective(distortion_scale=0.2, p=0.1, interpolation=3),  # Randomly apply a perspective transformation to the image with a probability of 10%\n",
    "    # T.Normalize(mean=[0.485, 0.456, 0.406], std=[0.229, 0.224, 0.225])\n",
    "])\n",
    "\n",
    "dataset = ImageFolder(dataset_path, transform=transform)\n",
    "\n",
    "\n",
    "dataset.class_to_idx\n",
    "pp = pprint.PrettyPrinter(indent=1)  # Create a PrettyPrinter instance with an indentation of 1 space\n",
    "pp.pprint(dataset.class_to_idx)  # Use the pprint method to print the dictionary\n",
    "\n"
   ]
  },
  {
   "cell_type": "code",
   "execution_count": 7,
   "metadata": {},
   "outputs": [
    {
     "name": "stdout",
     "output_type": "stream",
     "text": [
      "torch.Size([3, 128, 128])\n",
      "266\n",
      "115\n"
     ]
    },
    {
     "data": {
      "image/png": "[encoded data removed]",
      "text/plain": [
       "<Figure size 640x480 with 2 Axes>"
      ]
     },
     "metadata": {},
     "output_type": "display_data"
    },
    {
     "name": "stdout",
     "output_type": "stream",
     "text": [
      "tensor([[[0.4588, 0.4627, 0.5647,  ..., 0.4784, 0.5176, 0.5804],\n",
      "         [0.4784, 0.5059, 0.6078,  ..., 0.4824, 0.5804, 0.6980],\n",
      "         [0.4706, 0.5216, 0.6157,  ..., 0.5255, 0.6902, 0.8471],\n",
      "         ...,\n",
      "         [0.9961, 0.9961, 0.9961,  ..., 1.0000, 1.0000, 1.0000],\n",
      "         [0.9804, 0.9804, 0.9804,  ..., 0.9922, 0.9922, 0.9922],\n",
      "         [0.9882, 0.9882, 0.9882,  ..., 1.0000, 1.0000, 1.0000]],\n",
      "\n",
      "        [[0.4275, 0.4353, 0.5294,  ..., 0.5137, 0.5451, 0.5961],\n",
      "         [0.4431, 0.4784, 0.5725,  ..., 0.5216, 0.6039, 0.7216],\n",
      "         [0.4353, 0.4902, 0.5804,  ..., 0.5647, 0.7137, 0.8745],\n",
      "         ...,\n",
      "         [0.9961, 0.9961, 0.9961,  ..., 0.9961, 0.9961, 0.9961],\n",
      "         [0.9922, 0.9922, 0.9922,  ..., 0.9922, 0.9922, 0.9922],\n",
      "         [1.0000, 1.0000, 1.0000,  ..., 1.0000, 1.0000, 1.0000]],\n",
      "\n",
      "        [[0.1843, 0.2196, 0.3608,  ..., 0.1490, 0.3843, 0.5373],\n",
      "         [0.2118, 0.2667, 0.4118,  ..., 0.1843, 0.4627, 0.6667],\n",
      "         [0.2196, 0.2980, 0.4275,  ..., 0.2941, 0.6039, 0.8431],\n",
      "         ...,\n",
      "         [1.0000, 1.0000, 1.0000,  ..., 1.0000, 1.0000, 1.0000],\n",
      "         [1.0000, 1.0000, 1.0000,  ..., 0.9922, 1.0000, 1.0000],\n",
      "         [1.0000, 1.0000, 1.0000,  ..., 0.9922, 1.0000, 1.0000]]])\n",
      "tensor([[[0.6078, 0.5961, 0.5804, 0.5686],\n",
      "         [0.6275, 0.6392, 0.6314, 0.6039],\n",
      "         [0.6196, 0.6471, 0.6510, 0.6196],\n",
      "         [0.6471, 0.6667, 0.6549, 0.6196]],\n",
      "\n",
      "        [[0.6510, 0.6392, 0.6157, 0.6000],\n",
      "         [0.6745, 0.6706, 0.6627, 0.6353],\n",
      "         [0.6627, 0.6824, 0.6863, 0.6549],\n",
      "         [0.6863, 0.6980, 0.6863, 0.6510]],\n",
      "\n",
      "        [[0.4157, 0.3412, 0.2980, 0.2667],\n",
      "         [0.3922, 0.3373, 0.3294, 0.3020],\n",
      "         [0.3961, 0.3647, 0.3608, 0.3294],\n",
      "         [0.4471, 0.4039, 0.3843, 0.3490]]])\n"
     ]
    }
   ],
   "source": [
    "# create the test, train and validation set and the dataloader\n",
    "\n",
    "# setup split data \n",
    "dataset_size = len(dataset)\n",
    "train_ratio = 0.7\n",
    "val_ratio = 0.3\n",
    "\n",
    "\n",
    "\n",
    "# Set the seed for the generator\n",
    "seed = 42\n",
    "generator = torch.Generator().manual_seed(seed)\n",
    "\n",
    "# Calculate the number of samples for each split\n",
    "train_size = int(train_ratio * dataset_size)\n",
    "val_size = dataset_size - train_size \n",
    "\n",
    "\n",
    "# Split the dataset into train, validation, and test sets\n",
    "train_dataset, val_dataset = random_split(dataset, [train_size, val_size], generator=generator)\n",
    "\n",
    "\n",
    "# Define the batch size for the DataLoader\n",
    "batch_size = 32\n",
    "\n",
    "# Create the DataLoader to load the dataset in batches\n",
    "train_d = DataLoader(train_dataset, batch_size=batch_size, shuffle=True, num_workers=2,)\n",
    "val_d = DataLoader(val_dataset, batch_size=batch_size, shuffle=True, num_workers=2)\n",
    "\n",
    "# print the shape of the 1st image in the dataset\n",
    "print(train_dataset[0][0].shape)\n",
    "print(len(train_dataset))\n",
    "print(len(val_dataset))\n",
    "# Show the 1st img in the dataset\n",
    "show_batch(train_d, val_d)\n",
    "print(train_dataset[0][0])\n",
    "# Get the values of the middle 4x4 pixels of the 1st image in the dataset\n",
    "print(train_dataset[0][0][:, 112:116, 112:116])"
   ]
  },
  {
   "cell_type": "code",
   "execution_count": 8,
   "metadata": {},
   "outputs": [
    {
     "name": "stderr",
     "output_type": "stream",
     "text": [
      "Using cache found in /Users/stephandekker/.cache/torch/hub/pytorch_vision_main\n"
     ]
    },
    {
     "data": {
      "text/plain": [
       "ResNet(\n",
       "  (conv1): Conv2d(3, 64, kernel_size=(7, 7), stride=(2, 2), padding=(3, 3), bias=False)\n",
       "  (bn1): BatchNorm2d(64, eps=1e-05, momentum=0.1, affine=True, track_running_stats=True)\n",
       "  (relu): ReLU(inplace=True)\n",
       "  (maxpool): MaxPool2d(kernel_size=3, stride=2, padding=1, dilation=1, ceil_mode=False)\n",
       "  (layer1): Sequential(\n",
       "    (0): BasicBlock(\n",
       "      (conv1): Conv2d(64, 64, kernel_size=(3, 3), stride=(1, 1), padding=(1, 1), bias=False)\n",
       "      (bn1): BatchNorm2d(64, eps=1e-05, momentum=0.1, affine=True, track_running_stats=True)\n",
       "      (relu): ReLU(inplace=True)\n",
       "      (conv2): Conv2d(64, 64, kernel_size=(3, 3), stride=(1, 1), padding=(1, 1), bias=False)\n",
       "      (bn2): BatchNorm2d(64, eps=1e-05, momentum=0.1, affine=True, track_running_stats=True)\n",
       "    )\n",
       "    (1): BasicBlock(\n",
       "      (conv1): Conv2d(64, 64, kernel_size=(3, 3), stride=(1, 1), padding=(1, 1), bias=False)\n",
       "      (bn1): BatchNorm2d(64, eps=1e-05, momentum=0.1, affine=True, track_running_stats=True)\n",
       "      (relu): ReLU(inplace=True)\n",
       "      (conv2): Conv2d(64, 64, kernel_size=(3, 3), stride=(1, 1), padding=(1, 1), bias=False)\n",
       "      (bn2): BatchNorm2d(64, eps=1e-05, momentum=0.1, affine=True, track_running_stats=True)\n",
       "    )\n",
       "  )\n",
       "  (layer2): Sequential(\n",
       "    (0): BasicBlock(\n",
       "      (conv1): Conv2d(64, 128, kernel_size=(3, 3), stride=(2, 2), padding=(1, 1), bias=False)\n",
       "      (bn1): BatchNorm2d(128, eps=1e-05, momentum=0.1, affine=True, track_running_stats=True)\n",
       "      (relu): ReLU(inplace=True)\n",
       "      (conv2): Conv2d(128, 128, kernel_size=(3, 3), stride=(1, 1), padding=(1, 1), bias=False)\n",
       "      (bn2): BatchNorm2d(128, eps=1e-05, momentum=0.1, affine=True, track_running_stats=True)\n",
       "      (downsample): Sequential(\n",
       "        (0): Conv2d(64, 128, kernel_size=(1, 1), stride=(2, 2), bias=False)\n",
       "        (1): BatchNorm2d(128, eps=1e-05, momentum=0.1, affine=True, track_running_stats=True)\n",
       "      )\n",
       "    )\n",
       "    (1): BasicBlock(\n",
       "      (conv1): Conv2d(128, 128, kernel_size=(3, 3), stride=(1, 1), padding=(1, 1), bias=False)\n",
       "      (bn1): BatchNorm2d(128, eps=1e-05, momentum=0.1, affine=True, track_running_stats=True)\n",
       "      (relu): ReLU(inplace=True)\n",
       "      (conv2): Conv2d(128, 128, kernel_size=(3, 3), stride=(1, 1), padding=(1, 1), bias=False)\n",
       "      (bn2): BatchNorm2d(128, eps=1e-05, momentum=0.1, affine=True, track_running_stats=True)\n",
       "    )\n",
       "  )\n",
       "  (layer3): Sequential(\n",
       "    (0): BasicBlock(\n",
       "      (conv1): Conv2d(128, 256, kernel_size=(3, 3), stride=(2, 2), padding=(1, 1), bias=False)\n",
       "      (bn1): BatchNorm2d(256, eps=1e-05, momentum=0.1, affine=True, track_running_stats=True)\n",
       "      (relu): ReLU(inplace=True)\n",
       "      (conv2): Conv2d(256, 256, kernel_size=(3, 3), stride=(1, 1), padding=(1, 1), bias=False)\n",
       "      (bn2): BatchNorm2d(256, eps=1e-05, momentum=0.1, affine=True, track_running_stats=True)\n",
       "      (downsample): Sequential(\n",
       "        (0): Conv2d(128, 256, kernel_size=(1, 1), stride=(2, 2), bias=False)\n",
       "        (1): BatchNorm2d(256, eps=1e-05, momentum=0.1, affine=True, track_running_stats=True)\n",
       "      )\n",
       "    )\n",
       "    (1): BasicBlock(\n",
       "      (conv1): Conv2d(256, 256, kernel_size=(3, 3), stride=(1, 1), padding=(1, 1), bias=False)\n",
       "      (bn1): BatchNorm2d(256, eps=1e-05, momentum=0.1, affine=True, track_running_stats=True)\n",
       "      (relu): ReLU(inplace=True)\n",
       "      (conv2): Conv2d(256, 256, kernel_size=(3, 3), stride=(1, 1), padding=(1, 1), bias=False)\n",
       "      (bn2): BatchNorm2d(256, eps=1e-05, momentum=0.1, affine=True, track_running_stats=True)\n",
       "    )\n",
       "  )\n",
       "  (layer4): Sequential(\n",
       "    (0): BasicBlock(\n",
       "      (conv1): Conv2d(256, 512, kernel_size=(3, 3), stride=(2, 2), padding=(1, 1), bias=False)\n",
       "      (bn1): BatchNorm2d(512, eps=1e-05, momentum=0.1, affine=True, track_running_stats=True)\n",
       "      (relu): ReLU(inplace=True)\n",
       "      (conv2): Conv2d(512, 512, kernel_size=(3, 3), stride=(1, 1), padding=(1, 1), bias=False)\n",
       "      (bn2): BatchNorm2d(512, eps=1e-05, momentum=0.1, affine=True, track_running_stats=True)\n",
       "      (downsample): Sequential(\n",
       "        (0): Conv2d(256, 512, kernel_size=(1, 1), stride=(2, 2), bias=False)\n",
       "        (1): BatchNorm2d(512, eps=1e-05, momentum=0.1, affine=True, track_running_stats=True)\n",
       "      )\n",
       "    )\n",
       "    (1): BasicBlock(\n",
       "      (conv1): Conv2d(512, 512, kernel_size=(3, 3), stride=(1, 1), padding=(1, 1), bias=False)\n",
       "      (bn1): BatchNorm2d(512, eps=1e-05, momentum=0.1, affine=True, track_running_stats=True)\n",
       "      (relu): ReLU(inplace=True)\n",
       "      (conv2): Conv2d(512, 512, kernel_size=(3, 3), stride=(1, 1), padding=(1, 1), bias=False)\n",
       "      (bn2): BatchNorm2d(512, eps=1e-05, momentum=0.1, affine=True, track_running_stats=True)\n",
       "    )\n",
       "  )\n",
       "  (avgpool): AdaptiveAvgPool2d(output_size=(1, 1))\n",
       "  (fc): Linear(in_features=512, out_features=4, bias=True)\n",
       ")"
      ]
     },
     "execution_count": 8,
     "metadata": {},
     "output_type": "execute_result"
    }
   ],
   "source": [
    "# import the resnet18 model\n",
    "\n",
    "model = torch.hub.load(\n",
    "    \"pytorch/vision\", \"resnet18\", weights=\"IMAGENET1K_V1\")\n",
    "num_ftrs = model.fc.in_features\n",
    "\n",
    "# Here the size of each output sample is set to 4\n",
    "model.fc = nn.Linear(num_ftrs, 4)\n",
    "\n",
    "# Check if output size is correct\n",
    "model.eval()\n"
   ]
  },
  {
   "cell_type": "code",
   "execution_count": 9,
   "metadata": {},
   "outputs": [
    {
     "name": "stderr",
     "output_type": "stream",
     "text": [
      "Failed to detect the name of this notebook, you can set it manually with the WANDB_NOTEBOOK_NAME environment variable to enable code saving.\n"
     ]
    },
    {
     "name": "stdout",
     "output_type": "stream",
     "text": [
      "optimizer = Adam\n",
      "(\"parameters: {'saveFileName': '20230608-233306_pinky.pt', 'learning_rate': \"\n",
      " \"0.001, 'epochs': 50, 'momentum': 0.1, 'betas': None, 'dropout': 0.1, \"\n",
      " \"'model': 'resnet18', 'optimizer': 'adam', 'criterion': 'CrossEntropyLoss'}\")\n"
     ]
    },
    {
     "name": "stderr",
     "output_type": "stream",
     "text": [
      "\u001b[34m\u001b[1mwandb\u001b[0m: Currently logged in as: \u001b[33m1021548\u001b[0m (\u001b[33mteamnan\u001b[0m). Use \u001b[1m`wandb login --relogin`\u001b[0m to force relogin\n"
     ]
    },
    {
     "data": {
      "text/html": [
       "Tracking run with wandb version 0.15.4"
      ],
      "text/plain": [
       "<IPython.core.display.HTML object>"
      ]
     },
     "metadata": {},
     "output_type": "display_data"
    },
    {
     "data": {
      "text/html": [
       "Run data is saved locally in <code>/Users/stephandekker/workspace/pink_lady/factory/wandb/run-20230608_233308-syidtyvh</code>"
      ],
      "text/plain": [
       "<IPython.core.display.HTML object>"
      ]
     },
     "metadata": {},
     "output_type": "display_data"
    },
    {
     "data": {
      "text/html": [
       "Syncing run <strong><a href='https://wandb.ai/teamnan/resnet18_128x128_tests/runs/syidtyvh' target=\"_blank\">visionary-lion-2</a></strong> to <a href='https://wandb.ai/teamnan/resnet18_128x128_tests' target=\"_blank\">Weights & Biases</a> (<a href='https://wandb.me/run' target=\"_blank\">docs</a>)<br/>"
      ],
      "text/plain": [
       "<IPython.core.display.HTML object>"
      ]
     },
     "metadata": {},
     "output_type": "display_data"
    },
    {
     "data": {
      "text/html": [
       " View project at <a href='https://wandb.ai/teamnan/resnet18_128x128_tests' target=\"_blank\">https://wandb.ai/teamnan/resnet18_128x128_tests</a>"
      ],
      "text/plain": [
       "<IPython.core.display.HTML object>"
      ]
     },
     "metadata": {},
     "output_type": "display_data"
    },
    {
     "data": {
      "text/html": [
       " View run at <a href='https://wandb.ai/teamnan/resnet18_128x128_tests/runs/syidtyvh' target=\"_blank\">https://wandb.ai/teamnan/resnet18_128x128_tests/runs/syidtyvh</a>"
      ],
      "text/plain": [
       "<IPython.core.display.HTML object>"
      ]
     },
     "metadata": {},
     "output_type": "display_data"
    },
    {
     "name": "stderr",
     "output_type": "stream",
     "text": [
      "  0%|          | 0/50 [00:00<?, ?it/s]"
     ]
    },
    {
     "name": "stdout",
     "output_type": "stream",
     "text": [
      "Epoch 001 | Train Loss: 1.26592 | Val Loss: 4.10450 | Train Acc: 62.78 | Val Acc: 66.96\n",
      "Validation loss decreased (inf --> 4.10450)  Saving model to 20230608-233306_pinky.pt...\n",
      "Validation accuracy increased (0.00000 --> 66.95652)  Saving model to 20230608-233306_pinky.pt...\n"
     ]
    },
    {
     "name": "stderr",
     "output_type": "stream",
     "text": [
      "  2%|▏         | 1/50 [00:24<20:05, 24.60s/it]"
     ]
    },
    {
     "name": "stdout",
     "output_type": "stream",
     "text": [
      "Epoch 002 | Train Loss: 0.55759 | Val Loss: 0.91485 | Train Acc: 83.46 | Val Acc: 74.78\n",
      "Validation loss decreased (4.10450 --> 0.91485)  Saving model to 20230608-233306_pinky.pt...\n",
      "Validation accuracy increased (66.95652 --> 74.78261)  Saving model to 20230608-233306_pinky.pt...\n"
     ]
    },
    {
     "name": "stderr",
     "output_type": "stream",
     "text": [
      "  6%|▌         | 3/50 [01:11<18:40, 23.84s/it]"
     ]
    },
    {
     "name": "stdout",
     "output_type": "stream",
     "text": [
      "Epoch 003 | Train Loss: 0.30547 | Val Loss: 1.36994 | Train Acc: 90.60 | Val Acc: 66.09\n",
      "Epoch 004 | Train Loss: 0.16148 | Val Loss: 0.67948 | Train Acc: 94.74 | Val Acc: 77.39\n",
      "Validation loss decreased (0.91485 --> 0.67948)  Saving model to 20230608-233306_pinky.pt...\n",
      "Validation accuracy increased (74.78261 --> 77.39130)  Saving model to 20230608-233306_pinky.pt...\n"
     ]
    },
    {
     "name": "stderr",
     "output_type": "stream",
     "text": [
      " 10%|█         | 5/50 [01:59<17:49, 23.76s/it]"
     ]
    },
    {
     "name": "stdout",
     "output_type": "stream",
     "text": [
      "Epoch 005 | Train Loss: 0.17439 | Val Loss: 0.72791 | Train Acc: 93.98 | Val Acc: 83.48\n",
      "Validation accuracy increased (77.39130 --> 83.47826)  Saving model to 20230608-233306_pinky.pt...\n"
     ]
    },
    {
     "name": "stderr",
     "output_type": "stream",
     "text": [
      " 12%|█▏        | 6/50 [02:22<17:23, 23.71s/it]"
     ]
    },
    {
     "name": "stdout",
     "output_type": "stream",
     "text": [
      "Epoch 006 | Train Loss: 0.10398 | Val Loss: 0.49051 | Train Acc: 95.49 | Val Acc: 83.48\n",
      "Validation loss decreased (0.67948 --> 0.49051)  Saving model to 20230608-233306_pinky.pt...\n"
     ]
    },
    {
     "name": "stderr",
     "output_type": "stream",
     "text": [
      " 14%|█▍        | 7/50 [02:46<17:02, 23.79s/it]"
     ]
    },
    {
     "name": "stdout",
     "output_type": "stream",
     "text": [
      "Epoch 007 | Train Loss: 0.08914 | Val Loss: 0.52544 | Train Acc: 97.74 | Val Acc: 83.48\n"
     ]
    },
    {
     "name": "stderr",
     "output_type": "stream",
     "text": [
      " 16%|█▌        | 8/50 [03:10<16:40, 23.81s/it]"
     ]
    },
    {
     "name": "stdout",
     "output_type": "stream",
     "text": [
      "Epoch 008 | Train Loss: 0.06321 | Val Loss: 0.53357 | Train Acc: 98.87 | Val Acc: 83.48\n"
     ]
    },
    {
     "name": "stderr",
     "output_type": "stream",
     "text": [
      " 18%|█▊        | 9/50 [03:34<16:14, 23.76s/it]"
     ]
    },
    {
     "name": "stdout",
     "output_type": "stream",
     "text": [
      "Epoch 009 | Train Loss: 0.07336 | Val Loss: 0.64324 | Train Acc: 97.37 | Val Acc: 80.87\n"
     ]
    },
    {
     "name": "stderr",
     "output_type": "stream",
     "text": [
      " 20%|██        | 10/50 [03:58<15:49, 23.75s/it]"
     ]
    },
    {
     "name": "stdout",
     "output_type": "stream",
     "text": [
      "Epoch 010 | Train Loss: 0.05419 | Val Loss: 0.67062 | Train Acc: 97.74 | Val Acc: 84.35\n",
      "Validation accuracy increased (83.47826 --> 84.34783)  Saving model to 20230608-233306_pinky.pt...\n"
     ]
    },
    {
     "name": "stderr",
     "output_type": "stream",
     "text": [
      " 22%|██▏       | 11/50 [04:21<15:23, 23.68s/it]"
     ]
    },
    {
     "name": "stdout",
     "output_type": "stream",
     "text": [
      "Epoch 011 | Train Loss: 0.16807 | Val Loss: 1.06401 | Train Acc: 96.24 | Val Acc: 68.70\n"
     ]
    },
    {
     "name": "stderr",
     "output_type": "stream",
     "text": [
      " 24%|██▍       | 12/50 [04:45<15:01, 23.72s/it]"
     ]
    },
    {
     "name": "stdout",
     "output_type": "stream",
     "text": [
      "Epoch 012 | Train Loss: 0.12154 | Val Loss: 0.52340 | Train Acc: 95.86 | Val Acc: 81.74\n"
     ]
    },
    {
     "name": "stderr",
     "output_type": "stream",
     "text": [
      " 26%|██▌       | 13/50 [05:09<14:37, 23.72s/it]"
     ]
    },
    {
     "name": "stdout",
     "output_type": "stream",
     "text": [
      "Epoch 013 | Train Loss: 0.14583 | Val Loss: 0.94265 | Train Acc: 93.61 | Val Acc: 81.74\n"
     ]
    },
    {
     "name": "stderr",
     "output_type": "stream",
     "text": [
      " 28%|██▊       | 14/50 [05:33<14:15, 23.77s/it]"
     ]
    },
    {
     "name": "stdout",
     "output_type": "stream",
     "text": [
      "Epoch 014 | Train Loss: 0.13597 | Val Loss: 0.74484 | Train Acc: 94.36 | Val Acc: 83.48\n"
     ]
    },
    {
     "name": "stderr",
     "output_type": "stream",
     "text": [
      " 30%|███       | 15/50 [05:56<13:51, 23.77s/it]"
     ]
    },
    {
     "name": "stdout",
     "output_type": "stream",
     "text": [
      "Epoch 015 | Train Loss: 0.12742 | Val Loss: 1.13770 | Train Acc: 95.86 | Val Acc: 78.26\n"
     ]
    },
    {
     "name": "stderr",
     "output_type": "stream",
     "text": [
      " 32%|███▏      | 16/50 [06:20<13:26, 23.71s/it]"
     ]
    },
    {
     "name": "stdout",
     "output_type": "stream",
     "text": [
      "Epoch 016 | Train Loss: 0.06511 | Val Loss: 0.68845 | Train Acc: 98.50 | Val Acc: 82.61\n"
     ]
    },
    {
     "name": "stderr",
     "output_type": "stream",
     "text": [
      " 34%|███▍      | 17/50 [06:44<13:02, 23.70s/it]"
     ]
    },
    {
     "name": "stdout",
     "output_type": "stream",
     "text": [
      "Epoch 017 | Train Loss: 0.11069 | Val Loss: 0.47416 | Train Acc: 96.62 | Val Acc: 84.35\n",
      "Validation loss decreased (0.49051 --> 0.47416)  Saving model to 20230608-233306_pinky.pt...\n",
      "Validation accuracy increased (84.34783 --> 84.34783)  Saving model to 20230608-233306_pinky.pt...\n"
     ]
    },
    {
     "name": "stderr",
     "output_type": "stream",
     "text": [
      " 36%|███▌      | 18/50 [07:07<12:38, 23.69s/it]"
     ]
    },
    {
     "name": "stdout",
     "output_type": "stream",
     "text": [
      "Epoch 018 | Train Loss: 0.06823 | Val Loss: 0.66739 | Train Acc: 97.37 | Val Acc: 80.00\n"
     ]
    },
    {
     "name": "stderr",
     "output_type": "stream",
     "text": [
      " 38%|███▊      | 19/50 [07:31<12:13, 23.66s/it]"
     ]
    },
    {
     "name": "stdout",
     "output_type": "stream",
     "text": [
      "Epoch 019 | Train Loss: 0.04858 | Val Loss: 0.71139 | Train Acc: 98.12 | Val Acc: 80.87\n"
     ]
    },
    {
     "name": "stderr",
     "output_type": "stream",
     "text": [
      " 40%|████      | 20/50 [07:54<11:49, 23.65s/it]"
     ]
    },
    {
     "name": "stdout",
     "output_type": "stream",
     "text": [
      "Epoch 020 | Train Loss: 0.03921 | Val Loss: 0.57149 | Train Acc: 98.12 | Val Acc: 86.96\n",
      "Validation accuracy increased (84.34783 --> 86.95652)  Saving model to 20230608-233306_pinky.pt...\n"
     ]
    },
    {
     "name": "stderr",
     "output_type": "stream",
     "text": [
      " 42%|████▏     | 21/50 [08:18<11:24, 23.61s/it]"
     ]
    },
    {
     "name": "stdout",
     "output_type": "stream",
     "text": [
      "Epoch 021 | Train Loss: 0.03243 | Val Loss: 0.60276 | Train Acc: 98.87 | Val Acc: 85.22\n"
     ]
    },
    {
     "name": "stderr",
     "output_type": "stream",
     "text": [
      " 44%|████▍     | 22/50 [08:42<11:00, 23.59s/it]"
     ]
    },
    {
     "name": "stdout",
     "output_type": "stream",
     "text": [
      "Epoch 022 | Train Loss: 0.05538 | Val Loss: 0.63193 | Train Acc: 98.87 | Val Acc: 85.22\n"
     ]
    },
    {
     "name": "stderr",
     "output_type": "stream",
     "text": [
      " 46%|████▌     | 23/50 [09:05<10:37, 23.63s/it]"
     ]
    },
    {
     "name": "stdout",
     "output_type": "stream",
     "text": [
      "Epoch 023 | Train Loss: 0.10662 | Val Loss: 0.87637 | Train Acc: 95.86 | Val Acc: 79.13\n"
     ]
    },
    {
     "name": "stderr",
     "output_type": "stream",
     "text": [
      " 48%|████▊     | 24/50 [09:29<10:17, 23.76s/it]"
     ]
    },
    {
     "name": "stdout",
     "output_type": "stream",
     "text": [
      "Epoch 024 | Train Loss: 0.12847 | Val Loss: 0.75831 | Train Acc: 95.86 | Val Acc: 83.48\n"
     ]
    },
    {
     "name": "stderr",
     "output_type": "stream",
     "text": [
      " 50%|█████     | 25/50 [09:53<09:53, 23.74s/it]"
     ]
    },
    {
     "name": "stdout",
     "output_type": "stream",
     "text": [
      "Epoch 025 | Train Loss: 0.26277 | Val Loss: 2.89245 | Train Acc: 94.36 | Val Acc: 51.30\n"
     ]
    },
    {
     "name": "stderr",
     "output_type": "stream",
     "text": [
      " 52%|█████▏    | 26/50 [10:17<09:28, 23.69s/it]"
     ]
    },
    {
     "name": "stdout",
     "output_type": "stream",
     "text": [
      "Epoch 026 | Train Loss: 0.21070 | Val Loss: 2.00947 | Train Acc: 91.73 | Val Acc: 55.65\n"
     ]
    },
    {
     "name": "stderr",
     "output_type": "stream",
     "text": [
      " 54%|█████▍    | 27/50 [10:40<09:04, 23.65s/it]"
     ]
    },
    {
     "name": "stdout",
     "output_type": "stream",
     "text": [
      "Epoch 027 | Train Loss: 0.22289 | Val Loss: 1.71375 | Train Acc: 93.23 | Val Acc: 60.00\n"
     ]
    },
    {
     "name": "stderr",
     "output_type": "stream",
     "text": [
      " 56%|█████▌    | 28/50 [11:04<08:40, 23.65s/it]"
     ]
    },
    {
     "name": "stdout",
     "output_type": "stream",
     "text": [
      "Epoch 028 | Train Loss: 0.15405 | Val Loss: 0.70688 | Train Acc: 93.98 | Val Acc: 77.39\n",
      "Epoch 029 | Train Loss: 0.08996 | Val Loss: 0.41654 | Train Acc: 96.99 | Val Acc: 87.83\n",
      "Validation loss decreased (0.47416 --> 0.41654)  Saving model to 20230608-233306_pinky.pt...\n",
      "Validation accuracy increased (86.95652 --> 87.82609)  Saving model to 20230608-233306_pinky.pt...\n"
     ]
    },
    {
     "name": "stderr",
     "output_type": "stream",
     "text": [
      " 60%|██████    | 30/50 [11:51<07:54, 23.75s/it]"
     ]
    },
    {
     "name": "stdout",
     "output_type": "stream",
     "text": [
      "Epoch 030 | Train Loss: 0.05339 | Val Loss: 0.56594 | Train Acc: 98.12 | Val Acc: 82.61\n"
     ]
    },
    {
     "name": "stderr",
     "output_type": "stream",
     "text": [
      " 62%|██████▏   | 31/50 [12:15<07:30, 23.71s/it]"
     ]
    },
    {
     "name": "stdout",
     "output_type": "stream",
     "text": [
      "Epoch 031 | Train Loss: 0.03672 | Val Loss: 0.74952 | Train Acc: 98.87 | Val Acc: 79.13\n"
     ]
    },
    {
     "name": "stderr",
     "output_type": "stream",
     "text": [
      " 64%|██████▍   | 32/50 [12:39<07:07, 23.76s/it]"
     ]
    },
    {
     "name": "stdout",
     "output_type": "stream",
     "text": [
      "Epoch 032 | Train Loss: 0.01760 | Val Loss: 0.65181 | Train Acc: 99.62 | Val Acc: 83.48\n"
     ]
    },
    {
     "name": "stderr",
     "output_type": "stream",
     "text": [
      " 66%|██████▌   | 33/50 [13:03<06:44, 23.77s/it]"
     ]
    },
    {
     "name": "stdout",
     "output_type": "stream",
     "text": [
      "Epoch 033 | Train Loss: 0.01227 | Val Loss: 0.54676 | Train Acc: 100.00 | Val Acc: 85.22\n"
     ]
    },
    {
     "name": "stderr",
     "output_type": "stream",
     "text": [
      " 68%|██████▊   | 34/50 [13:26<06:19, 23.72s/it]"
     ]
    },
    {
     "name": "stdout",
     "output_type": "stream",
     "text": [
      "Epoch 034 | Train Loss: 0.04283 | Val Loss: 0.65860 | Train Acc: 98.87 | Val Acc: 83.48\n"
     ]
    },
    {
     "name": "stderr",
     "output_type": "stream",
     "text": [
      " 70%|███████   | 35/50 [13:50<05:55, 23.67s/it]"
     ]
    },
    {
     "name": "stdout",
     "output_type": "stream",
     "text": [
      "Epoch 035 | Train Loss: 0.04942 | Val Loss: 1.37675 | Train Acc: 98.50 | Val Acc: 62.61\n"
     ]
    },
    {
     "name": "stderr",
     "output_type": "stream",
     "text": [
      " 72%|███████▏  | 36/50 [14:14<05:32, 23.76s/it]"
     ]
    },
    {
     "name": "stdout",
     "output_type": "stream",
     "text": [
      "Epoch 036 | Train Loss: 0.05747 | Val Loss: 0.65087 | Train Acc: 97.37 | Val Acc: 82.61\n"
     ]
    },
    {
     "name": "stderr",
     "output_type": "stream",
     "text": [
      " 74%|███████▍  | 37/50 [14:37<05:07, 23.69s/it]"
     ]
    },
    {
     "name": "stdout",
     "output_type": "stream",
     "text": [
      "Epoch 037 | Train Loss: 0.07519 | Val Loss: 0.52326 | Train Acc: 96.99 | Val Acc: 84.35\n"
     ]
    },
    {
     "name": "stderr",
     "output_type": "stream",
     "text": [
      " 76%|███████▌  | 38/50 [15:01<04:44, 23.68s/it]"
     ]
    },
    {
     "name": "stdout",
     "output_type": "stream",
     "text": [
      "Epoch 038 | Train Loss: 0.10315 | Val Loss: 0.64390 | Train Acc: 98.12 | Val Acc: 81.74\n"
     ]
    },
    {
     "name": "stderr",
     "output_type": "stream",
     "text": [
      " 78%|███████▊  | 39/50 [15:25<04:20, 23.69s/it]"
     ]
    },
    {
     "name": "stdout",
     "output_type": "stream",
     "text": [
      "Epoch 039 | Train Loss: 0.07115 | Val Loss: 0.46520 | Train Acc: 98.50 | Val Acc: 89.57\n",
      "Validation accuracy increased (87.82609 --> 89.56522)  Saving model to 20230608-233306_pinky.pt...\n"
     ]
    },
    {
     "name": "stderr",
     "output_type": "stream",
     "text": [
      " 80%|████████  | 40/50 [15:48<03:56, 23.68s/it]"
     ]
    },
    {
     "name": "stdout",
     "output_type": "stream",
     "text": [
      "Epoch 040 | Train Loss: 0.04304 | Val Loss: 0.46838 | Train Acc: 98.50 | Val Acc: 88.70\n"
     ]
    },
    {
     "name": "stderr",
     "output_type": "stream",
     "text": [
      " 82%|████████▏ | 41/50 [16:12<03:33, 23.77s/it]"
     ]
    },
    {
     "name": "stdout",
     "output_type": "stream",
     "text": [
      "Epoch 041 | Train Loss: 0.02231 | Val Loss: 0.64366 | Train Acc: 99.62 | Val Acc: 85.22\n"
     ]
    },
    {
     "name": "stderr",
     "output_type": "stream",
     "text": [
      " 84%|████████▍ | 42/50 [16:36<03:10, 23.79s/it]"
     ]
    },
    {
     "name": "stdout",
     "output_type": "stream",
     "text": [
      "Epoch 042 | Train Loss: 0.01392 | Val Loss: 0.68678 | Train Acc: 99.25 | Val Acc: 83.48\n"
     ]
    },
    {
     "name": "stderr",
     "output_type": "stream",
     "text": [
      " 86%|████████▌ | 43/50 [17:00<02:45, 23.70s/it]"
     ]
    },
    {
     "name": "stdout",
     "output_type": "stream",
     "text": [
      "Epoch 043 | Train Loss: 0.01281 | Val Loss: 0.57666 | Train Acc: 99.62 | Val Acc: 85.22\n"
     ]
    },
    {
     "name": "stderr",
     "output_type": "stream",
     "text": [
      " 88%|████████▊ | 44/50 [17:24<02:22, 23.77s/it]"
     ]
    },
    {
     "name": "stdout",
     "output_type": "stream",
     "text": [
      "Epoch 044 | Train Loss: 0.01510 | Val Loss: 0.51645 | Train Acc: 99.25 | Val Acc: 86.96\n"
     ]
    },
    {
     "name": "stderr",
     "output_type": "stream",
     "text": [
      " 90%|█████████ | 45/50 [17:47<01:58, 23.71s/it]"
     ]
    },
    {
     "name": "stdout",
     "output_type": "stream",
     "text": [
      "Epoch 045 | Train Loss: 0.01199 | Val Loss: 0.47345 | Train Acc: 99.62 | Val Acc: 84.35\n"
     ]
    },
    {
     "name": "stderr",
     "output_type": "stream",
     "text": [
      " 92%|█████████▏| 46/50 [18:11<01:35, 23.77s/it]"
     ]
    },
    {
     "name": "stdout",
     "output_type": "stream",
     "text": [
      "Epoch 046 | Train Loss: 0.00572 | Val Loss: 0.47600 | Train Acc: 100.00 | Val Acc: 85.22\n"
     ]
    },
    {
     "name": "stderr",
     "output_type": "stream",
     "text": [
      " 94%|█████████▍| 47/50 [18:35<01:11, 23.73s/it]"
     ]
    },
    {
     "name": "stdout",
     "output_type": "stream",
     "text": [
      "Epoch 047 | Train Loss: 0.00889 | Val Loss: 0.49659 | Train Acc: 99.25 | Val Acc: 84.35\n"
     ]
    },
    {
     "name": "stderr",
     "output_type": "stream",
     "text": [
      " 96%|█████████▌| 48/50 [18:59<00:47, 23.95s/it]"
     ]
    },
    {
     "name": "stdout",
     "output_type": "stream",
     "text": [
      "Epoch 048 | Train Loss: 0.00939 | Val Loss: 0.56794 | Train Acc: 99.25 | Val Acc: 86.09\n"
     ]
    },
    {
     "name": "stderr",
     "output_type": "stream",
     "text": [
      " 98%|█████████▊| 49/50 [19:23<00:23, 23.86s/it]"
     ]
    },
    {
     "name": "stdout",
     "output_type": "stream",
     "text": [
      "Epoch 049 | Train Loss: 0.00818 | Val Loss: 0.58589 | Train Acc: 99.62 | Val Acc: 86.96\n"
     ]
    },
    {
     "name": "stderr",
     "output_type": "stream",
     "text": [
      "100%|██████████| 50/50 [19:46<00:00, 23.74s/it]"
     ]
    },
    {
     "name": "stdout",
     "output_type": "stream",
     "text": [
      "Epoch 050 | Train Loss: 0.01136 | Val Loss: 0.67712 | Train Acc: 99.25 | Val Acc: 83.48\n"
     ]
    },
    {
     "name": "stderr",
     "output_type": "stream",
     "text": [
      "\n"
     ]
    },
    {
     "data": {
      "text/html": [
       "Waiting for W&B process to finish... <strong style=\"color:green\">(success).</strong>"
      ],
      "text/plain": [
       "<IPython.core.display.HTML object>"
      ]
     },
     "metadata": {},
     "output_type": "display_data"
    },
    {
     "data": {
      "text/html": [
       "<style>\n",
       "    table.wandb td:nth-child(1) { padding: 0 10px; text-align: left ; width: auto;} td:nth-child(2) {text-align: left ; width: 100%}\n",
       "    .wandb-row { display: flex; flex-direction: row; flex-wrap: wrap; justify-content: flex-start; width: 100% }\n",
       "    .wandb-col { display: flex; flex-direction: column; flex-basis: 100%; flex: 1; padding: 10px; }\n",
       "    </style>\n",
       "<div class=\"wandb-row\"><div class=\"wandb-col\"><h3>Run history:</h3><br/><table class=\"wandb\"><tr><td>train_acc</td><td>▁▅▆▇▇███▇▇▇▇█▇████▇▇▆▇▇▇█████▇██████████</td></tr><tr><td>train_loss</td><td>█▄▃▂▂▁▁▁▂▂▂▂▁▂▁▁▁▁▂▂▂▂▂▁▁▁▁▁▁▁▂▁▁▁▁▁▁▁▁▁</td></tr><tr><td>val_acc</td><td>▃▅▃▅▇▇▇▆▄▆▆▇▇▇▆▆▇▇▆▇▁▂▅█▆▇▇▇▇▇▆█▇▇▇▇▇▇▇▇</td></tr><tr><td>val_loss</td><td>█▂▃▁▁▁▁▁▂▁▂▂▂▁▁▂▁▁▂▂▄▃▂▁▂▁▁▁▁▁▁▁▁▂▁▁▁▁▁▁</td></tr></table><br/></div><div class=\"wandb-col\"><h3>Run summary:</h3><br/><table class=\"wandb\"><tr><td>train_acc</td><td>99.24812</td></tr><tr><td>train_loss</td><td>0.01136</td></tr><tr><td>val_acc</td><td>83.47826</td></tr><tr><td>val_loss</td><td>0.67712</td></tr></table><br/></div></div>"
      ],
      "text/plain": [
       "<IPython.core.display.HTML object>"
      ]
     },
     "metadata": {},
     "output_type": "display_data"
    },
    {
     "data": {
      "text/html": [
       " View run <strong style=\"color:#cdcd00\">visionary-lion-2</strong> at: <a href='https://wandb.ai/teamnan/resnet18_128x128_tests/runs/syidtyvh' target=\"_blank\">https://wandb.ai/teamnan/resnet18_128x128_tests/runs/syidtyvh</a><br/>Synced 5 W&B file(s), 0 media file(s), 0 artifact file(s) and 0 other file(s)"
      ],
      "text/plain": [
       "<IPython.core.display.HTML object>"
      ]
     },
     "metadata": {},
     "output_type": "display_data"
    },
    {
     "data": {
      "text/html": [
       "Find logs at: <code>./wandb/run-20230608_233308-syidtyvh/logs</code>"
      ],
      "text/plain": [
       "<IPython.core.display.HTML object>"
      ]
     },
     "metadata": {},
     "output_type": "display_data"
    },
    {
     "name": "stdout",
     "output_type": "stream",
     "text": [
      "\n",
      "best results: {'val_loss_min': 0.41654070615768435, 'val_loss_epoch': 29, 'val_acc_max': 89.56521739130434, 'val_acc_epoch': 39}\n",
      "\n",
      "alot is: {'n_epochs': 50, 'train_loss': [1.2659188912327128, 0.5575865390605497, 0.30547488004641427, 0.1614808404356017, 0.17438784622608272, 0.10398138745834953, 0.08913930880844145, 0.06321070102372564, 0.07336251167370413, 0.05419177175464487, 0.16807121105660172, 0.12153783871939308, 0.1458321081516438, 0.13596866901655844, 0.12742307199571365, 0.06510569144012336, 0.11069464148547416, 0.06822788715362549, 0.048575898730441144, 0.03920698658864301, 0.03242878018199165, 0.05537624092758598, 0.1066195676873501, 0.12847283975522322, 0.26276740633455437, 0.2106990335803283, 0.22288843966964492, 0.15405369195666976, 0.0899561515316031, 0.05338636219949651, 0.03671725291086543, 0.01759625790479656, 0.012267961818024628, 0.04282722952670621, 0.049420901119036784, 0.05746529036537653, 0.07518575225669638, 0.10315230102243281, 0.07115362477803924, 0.04304014025886256, 0.022307884529288998, 0.013920294709549166, 0.012814147313846681, 0.015099257020685906, 0.01198861828332949, 0.005715521346581609, 0.0088889921588221, 0.009393403809027452, 0.008181349505649362, 0.011358510006982413], 'val_loss': [4.104501394603563, 0.9148526627084483, 1.3699382802714473, 0.6794795476871988, 0.7279080453126326, 0.4905102483604265, 0.5254384603189386, 0.5335686494474826, 0.6432380463766015, 0.6706179432246996, 1.0640139776727429, 0.5233999786169633, 0.9426484805086385, 0.7448386809100276, 1.137701506200044, 0.6884478898152061, 0.4741562376851621, 0.6673901640850565, 0.7113872574723286, 0.5714913891709369, 0.6027559695036515, 0.6319282801254936, 0.8763698743737263, 0.7583091051682181, 2.892454607590385, 2.0094734502875284, 1.7137478621109672, 0.7068777649298958, 0.41654070615768435, 0.565943912319515, 0.7495204741540162, 0.6518115162849426, 0.5467619380225306, 0.6586024367290995, 1.3767489961955859, 0.6508694052696228, 0.5232634154350861, 0.6439035420832426, 0.46520310180342717, 0.46837996399920917, 0.6436570551084435, 0.6867780764465746, 0.5766562754693239, 0.516446710669476, 0.47344900265983914, 0.47600394176400224, 0.49658871318982994, 0.5679362172665803, 0.5858851754147073, 0.6771231630574102], 'train_acc': [62.78195488721804, 83.45864661654136, 90.6015037593985, 94.73684210526316, 93.98496240601504, 95.48872180451127, 97.74436090225564, 98.87218045112782, 97.36842105263158, 97.74436090225564, 96.2406015037594, 95.86466165413533, 93.60902255639098, 94.3609022556391, 95.86466165413533, 98.49624060150376, 96.61654135338345, 97.36842105263158, 98.1203007518797, 98.1203007518797, 98.87218045112782, 98.87218045112782, 95.86466165413533, 95.86466165413533, 94.3609022556391, 91.72932330827068, 93.23308270676692, 93.98496240601504, 96.99248120300751, 98.1203007518797, 98.87218045112782, 99.62406015037594, 100.0, 98.87218045112782, 98.49624060150376, 97.36842105263158, 96.99248120300751, 98.1203007518797, 98.49624060150376, 98.49624060150376, 99.62406015037594, 99.24812030075188, 99.62406015037594, 99.24812030075188, 99.62406015037594, 100.0, 99.24812030075188, 99.24812030075188, 99.62406015037594, 99.24812030075188], 'val_acc': [66.95652193815812, 74.78260843028193, 66.0869569197945, 77.39130454685377, 83.47826153299083, 83.47826120127802, 83.47826073688009, 83.47826120127802, 80.86956588081692, 84.3478259542714, 68.69565237294073, 81.73913076649542, 81.73913076649542, 83.47826166567594, 78.26086976424507, 82.60869598388672, 84.34782675038214, 79.99999986731488, 80.86956588081692, 86.9565216064453, 85.2173911716627, 85.2173911716627, 79.13043498163638, 83.47826013979704, 51.304347759744395, 55.65217354815939, 60.00000006634256, 77.39130421514096, 87.82608775263247, 82.60869551948879, 79.1304351143215, 83.47826073688009, 85.21739163606063, 83.4782610685929, 62.60869492240574, 82.60869551948879, 84.34782641866933, 81.73913076649542, 89.56521739130434, 88.69565250562584, 85.21739163606063, 83.47826120127802, 85.21739210045855, 86.95652253524116, 84.34782675038214, 85.21739163606063, 84.34782641866933, 86.08695638905401, 86.95652240255605, 83.47826120127802]}\n",
      "\n",
      "save path = {'local_save_path': 'storage/data/generated', 'min_loss_file': '20230608-233306_pinky_loss.pt', 'max_acc_file': '20230608-233306_pinky_acc.pt', 'final_epoch_file': '20230608-233306_pinky_final.pt'}\n"
     ]
    }
   ],
   "source": [
    "# set the hyperparameters and the model\n",
    "\n",
    "# hyperparameters\n",
    "learning_rate = 0.001\n",
    "epochs = 50\n",
    "betas = None  # (0.9, 0.999)\n",
    "momentum = 0.1\n",
    "dropout = 0.1\n",
    "total_epochs = 0  # legacy code\n",
    "optchoice = 'adam'  # 'sgd' or 'adam'\n",
    "\n",
    "# model parameters\n",
    "\n",
    "# model = CNN(dropout=dropout) # Create the model\n",
    "model.to(device) # set model to device\n",
    "\n",
    "model.train() # set model to train mode\n",
    "\n",
    "# optimizer\n",
    "import torch.optim as optim\n",
    "CrossEntropyLossCriterion = nn.CrossEntropyLoss()\n",
    "#optimizer = optim.SGD(myresnetmodel.parameters(), lr=mylearnrate, momentum=mymomentum)\n",
    "if optchoice == 'adam':\n",
    "    optimizer = optim.Adam(model.parameters(), lr=learning_rate)\n",
    "    print('optimizer = Adam')\n",
    "elif optchoice  == 'sgd':\n",
    "    optimizer = optim.SGD(model.parameters(), lr=learning_rate, momentum=momentum)\n",
    "    print('optimizer = sgd')\n",
    "\n",
    "# loss function\n",
    "criterion = nn.CrossEntropyLoss()   # Define the loss function  \n",
    " \n",
    " # set the loaders to the correct names for the training loop\n",
    "train_loader = train_d\n",
    "val_loader = val_d\n",
    "\n",
    "# set epochloss to empty list\n",
    "epoch_loss = []\n",
    "# create dictionairies for the hyperparameters and model parameters\n",
    "\n",
    "timestamp = datetime.now().strftime(\"%Y%m%d-%H%M%S\")\n",
    "userAccountID = cf.settings['userAccountID']\n",
    "saveFileName = f'{timestamp}_{userAccountID}.pt'\n",
    "\n",
    "hyperparameters = { 'saveFileName': saveFileName, 'learning_rate' : learning_rate, 'epochs' : epochs, 'momentum' : momentum, 'betas' : betas, 'dropout' : dropout}\n",
    "model_parameters = { 'model' : 'resnet18', 'optimizer' : optchoice, 'criterion' : 'CrossEntropyLoss'}  # 'model' : model, 'optimizer' : optimizer, 'criterion' : criterion\n",
    "parameters = {**hyperparameters, **model_parameters}    # merge the two dictionairies\n",
    "pp = pprint.PrettyPrinter(indent=1)  \n",
    "\n",
    "\n",
    "pp.pprint(f'parameters: {parameters}')\n",
    "# the training loop\n",
    "\n",
    "\n",
    "# start a new wandb run to track this script\n",
    "wandb.init(\n",
    "    # set the wandb project where this run will be logged\n",
    "    project=\"resnet18_128x128_tests\",\n",
    "    \n",
    "    # track hyperparameters and run metadata\n",
    "    config= parameters\n",
    ")\n",
    "\n",
    "history = train(\n",
    "    model, train_loader, val_loader, criterion, optimizer, n_epochs=epochs,\n",
    "    model_file_name=saveFileName\n",
    ")\n",
    "\n",
    "# [optional] finish the wandb run, necessary in notebooks\n",
    "wandb.finish()\n",
    "\n",
    "print()\n",
    "print(f'best results: {history[0]}')\n",
    "print()\n",
    "print(f'alot is: {history[1]}')\n",
    "print()\n",
    "print(f'save path = {history[2]}')"
   ]
  },
  {
   "cell_type": "code",
   "execution_count": 10,
   "metadata": {},
   "outputs": [
    {
     "data": {
      "image/png": "[encoded data removed]",
      "text/plain": [
       "<Figure size 1000x500 with 2 Axes>"
      ]
     },
     "metadata": {},
     "output_type": "display_data"
    }
   ],
   "source": [
    "# Create a figure with two subplots\n",
    "fig, axs = plt.subplots(1, 2, figsize=(10, 5))\n",
    "\n",
    "# Plot the training and validation loss\n",
    "axs[0].plot(history[1]['train_loss'], label='train_loss')\n",
    "axs[0].plot(history[1]['val_loss'], label='val_loss')\n",
    "axs[0].set_xlabel('Epoch')\n",
    "axs[0].set_ylabel('Loss')\n",
    "axs[0].set_title('Loss over training epochs')\n",
    "axs[0].legend()\n",
    "\n",
    "# Plot the training and validation accuracy\n",
    "axs[1].plot(history[1]['train_acc'], label='train_acc')\n",
    "axs[1].plot(history[1]['val_acc'], label='val_acc')\n",
    "axs[1].set_xlabel('Epoch')\n",
    "axs[1].set_ylabel('Accuracy')\n",
    "axs[1].set_title('Accuracy over training epochs')\n",
    "axs[1].legend()\n",
    "\n",
    "# Adjust the spacing between subplots\n",
    "plt.tight_layout()\n",
    "\n",
    "# Display the figure\n",
    "plt.show()"
   ]
  },
  {
   "cell_type": "code",
   "execution_count": 11,
   "metadata": {},
   "outputs": [
    {
     "data": {
      "text/plain": [
       "({'val_loss_min': 0.41654070615768435,\n",
       "  'val_loss_epoch': 29,\n",
       "  'val_acc_max': 89.56521739130434,\n",
       "  'val_acc_epoch': 39},\n",
       " {'n_epochs': 50,\n",
       "  'train_loss': [1.2659188912327128,\n",
       "   0.5575865390605497,\n",
       "   0.30547488004641427,\n",
       "   0.1614808404356017,\n",
       "   0.17438784622608272,\n",
       "   0.10398138745834953,\n",
       "   0.08913930880844145,\n",
       "   0.06321070102372564,\n",
       "   0.07336251167370413,\n",
       "   0.05419177175464487,\n",
       "   0.16807121105660172,\n",
       "   0.12153783871939308,\n",
       "   0.1458321081516438,\n",
       "   0.13596866901655844,\n",
       "   0.12742307199571365,\n",
       "   0.06510569144012336,\n",
       "   0.11069464148547416,\n",
       "   0.06822788715362549,\n",
       "   0.048575898730441144,\n",
       "   0.03920698658864301,\n",
       "   0.03242878018199165,\n",
       "   0.05537624092758598,\n",
       "   0.1066195676873501,\n",
       "   0.12847283975522322,\n",
       "   0.26276740633455437,\n",
       "   0.2106990335803283,\n",
       "   0.22288843966964492,\n",
       "   0.15405369195666976,\n",
       "   0.0899561515316031,\n",
       "   0.05338636219949651,\n",
       "   0.03671725291086543,\n",
       "   0.01759625790479656,\n",
       "   0.012267961818024628,\n",
       "   0.04282722952670621,\n",
       "   0.049420901119036784,\n",
       "   0.05746529036537653,\n",
       "   0.07518575225669638,\n",
       "   0.10315230102243281,\n",
       "   0.07115362477803924,\n",
       "   0.04304014025886256,\n",
       "   0.022307884529288998,\n",
       "   0.013920294709549166,\n",
       "   0.012814147313846681,\n",
       "   0.015099257020685906,\n",
       "   0.01198861828332949,\n",
       "   0.005715521346581609,\n",
       "   0.0088889921588221,\n",
       "   0.009393403809027452,\n",
       "   0.008181349505649362,\n",
       "   0.011358510006982413],\n",
       "  'val_loss': [4.104501394603563,\n",
       "   0.9148526627084483,\n",
       "   1.3699382802714473,\n",
       "   0.6794795476871988,\n",
       "   0.7279080453126326,\n",
       "   0.4905102483604265,\n",
       "   0.5254384603189386,\n",
       "   0.5335686494474826,\n",
       "   0.6432380463766015,\n",
       "   0.6706179432246996,\n",
       "   1.0640139776727429,\n",
       "   0.5233999786169633,\n",
       "   0.9426484805086385,\n",
       "   0.7448386809100276,\n",
       "   1.137701506200044,\n",
       "   0.6884478898152061,\n",
       "   0.4741562376851621,\n",
       "   0.6673901640850565,\n",
       "   0.7113872574723286,\n",
       "   0.5714913891709369,\n",
       "   0.6027559695036515,\n",
       "   0.6319282801254936,\n",
       "   0.8763698743737263,\n",
       "   0.7583091051682181,\n",
       "   2.892454607590385,\n",
       "   2.0094734502875284,\n",
       "   1.7137478621109672,\n",
       "   0.7068777649298958,\n",
       "   0.41654070615768435,\n",
       "   0.565943912319515,\n",
       "   0.7495204741540162,\n",
       "   0.6518115162849426,\n",
       "   0.5467619380225306,\n",
       "   0.6586024367290995,\n",
       "   1.3767489961955859,\n",
       "   0.6508694052696228,\n",
       "   0.5232634154350861,\n",
       "   0.6439035420832426,\n",
       "   0.46520310180342717,\n",
       "   0.46837996399920917,\n",
       "   0.6436570551084435,\n",
       "   0.6867780764465746,\n",
       "   0.5766562754693239,\n",
       "   0.516446710669476,\n",
       "   0.47344900265983914,\n",
       "   0.47600394176400224,\n",
       "   0.49658871318982994,\n",
       "   0.5679362172665803,\n",
       "   0.5858851754147073,\n",
       "   0.6771231630574102],\n",
       "  'train_acc': [62.78195488721804,\n",
       "   83.45864661654136,\n",
       "   90.6015037593985,\n",
       "   94.73684210526316,\n",
       "   93.98496240601504,\n",
       "   95.48872180451127,\n",
       "   97.74436090225564,\n",
       "   98.87218045112782,\n",
       "   97.36842105263158,\n",
       "   97.74436090225564,\n",
       "   96.2406015037594,\n",
       "   95.86466165413533,\n",
       "   93.60902255639098,\n",
       "   94.3609022556391,\n",
       "   95.86466165413533,\n",
       "   98.49624060150376,\n",
       "   96.61654135338345,\n",
       "   97.36842105263158,\n",
       "   98.1203007518797,\n",
       "   98.1203007518797,\n",
       "   98.87218045112782,\n",
       "   98.87218045112782,\n",
       "   95.86466165413533,\n",
       "   95.86466165413533,\n",
       "   94.3609022556391,\n",
       "   91.72932330827068,\n",
       "   93.23308270676692,\n",
       "   93.98496240601504,\n",
       "   96.99248120300751,\n",
       "   98.1203007518797,\n",
       "   98.87218045112782,\n",
       "   99.62406015037594,\n",
       "   100.0,\n",
       "   98.87218045112782,\n",
       "   98.49624060150376,\n",
       "   97.36842105263158,\n",
       "   96.99248120300751,\n",
       "   98.1203007518797,\n",
       "   98.49624060150376,\n",
       "   98.49624060150376,\n",
       "   99.62406015037594,\n",
       "   99.24812030075188,\n",
       "   99.62406015037594,\n",
       "   99.24812030075188,\n",
       "   99.62406015037594,\n",
       "   100.0,\n",
       "   99.24812030075188,\n",
       "   99.24812030075188,\n",
       "   99.62406015037594,\n",
       "   99.24812030075188],\n",
       "  'val_acc': [66.95652193815812,\n",
       "   74.78260843028193,\n",
       "   66.0869569197945,\n",
       "   77.39130454685377,\n",
       "   83.47826153299083,\n",
       "   83.47826120127802,\n",
       "   83.47826073688009,\n",
       "   83.47826120127802,\n",
       "   80.86956588081692,\n",
       "   84.3478259542714,\n",
       "   68.69565237294073,\n",
       "   81.73913076649542,\n",
       "   81.73913076649542,\n",
       "   83.47826166567594,\n",
       "   78.26086976424507,\n",
       "   82.60869598388672,\n",
       "   84.34782675038214,\n",
       "   79.99999986731488,\n",
       "   80.86956588081692,\n",
       "   86.9565216064453,\n",
       "   85.2173911716627,\n",
       "   85.2173911716627,\n",
       "   79.13043498163638,\n",
       "   83.47826013979704,\n",
       "   51.304347759744395,\n",
       "   55.65217354815939,\n",
       "   60.00000006634256,\n",
       "   77.39130421514096,\n",
       "   87.82608775263247,\n",
       "   82.60869551948879,\n",
       "   79.1304351143215,\n",
       "   83.47826073688009,\n",
       "   85.21739163606063,\n",
       "   83.4782610685929,\n",
       "   62.60869492240574,\n",
       "   82.60869551948879,\n",
       "   84.34782641866933,\n",
       "   81.73913076649542,\n",
       "   89.56521739130434,\n",
       "   88.69565250562584,\n",
       "   85.21739163606063,\n",
       "   83.47826120127802,\n",
       "   85.21739210045855,\n",
       "   86.95652253524116,\n",
       "   84.34782675038214,\n",
       "   85.21739163606063,\n",
       "   84.34782641866933,\n",
       "   86.08695638905401,\n",
       "   86.95652240255605,\n",
       "   83.47826120127802]},\n",
       " {'local_save_path': 'storage/data/generated',\n",
       "  'min_loss_file': '20230608-233306_pinky_loss.pt',\n",
       "  'max_acc_file': '20230608-233306_pinky_acc.pt',\n",
       "  'final_epoch_file': '20230608-233306_pinky_final.pt'})"
      ]
     },
     "execution_count": 11,
     "metadata": {},
     "output_type": "execute_result"
    }
   ],
   "source": [
    "# show the save paths from history\n",
    "history"
   ]
  },
  {
   "cell_type": "code",
   "execution_count": null,
   "metadata": {},
   "outputs": [],
   "source": [
    "# function to test the model\n",
    "def test_model(model, datasetPath):\n",
    "    model.eval()    \n",
    "\n",
    "    # Load the test dataset\n",
    "    dataset_path = datasetPath\n",
    "    transform = T.Compose([\n",
    "    T.ToTensor()\n",
    "                )\n",
    "])\n",
    "    dataset = ImageFolder(dataset_path, transform=transform)\n",
    "    test_dataloader = DataLoader(dataset, batch_size=32, shuffle=False)\n",
    "\n",
    "    labels_dict = dataset.class_to_idx\n",
    "\n",
    "    # Track the overall test accuracy and accuracy by each type of apple\n",
    "    overall_correct = 0\n",
    "    overall_total = 0\n",
    "    normal_correct = 0\n",
    "    normal_total = 0\n",
    "    abnormal_correct = 0\n",
    "    abnormal_total = 0\n",
    "\n",
    "    # Initialize the confusion matrix\n",
    "    num_classes = len(labels_dict)\n",
    "    confusion_matrix = np.zeros((num_classes, num_classes), dtype=int)\n",
    "\n",
    "    # Iterate over the test dataset\n",
    "    for images, labels in test_dataloader:\n",
    "        images = images.to(device)\n",
    "        labels = labels.to(device)\n",
    "\n",
    "        # Forward pass\n",
    "        outputs = model(images)\n",
    "\n",
    "        # Get predictions\n",
    "        _, predicted = torch.max(outputs.data, 1)\n",
    "\n",
    "        # Update accuracy counts\n",
    "        overall_correct += (predicted == labels).sum().item()\n",
    "        overall_total += labels.size(0)\n",
    "\n",
    "        # Calculate accuracy for normal apples vs. abnormal apples\n",
    "        normal_mask = labels == labels_dict['Normal_Apple']\n",
    "        abnormal_mask = ~normal_mask\n",
    "        normal_correct += (predicted[normal_mask] == labels[normal_mask]).sum().item()\n",
    "        normal_total += normal_mask.sum().item()\n",
    "        abnormal_correct += (predicted[abnormal_mask] == labels[abnormal_mask]).sum().item()\n",
    "        abnormal_total += abnormal_mask.sum().item()\n",
    "\n",
    "        # Update the confusion matrix\n",
    "        for true_label, predicted_label in zip(labels.cpu().numpy(), predicted.cpu().numpy()):\n",
    "            confusion_matrix[true_label][predicted_label] += 1\n",
    "\n",
    "    # Calculate overall accuracy\n",
    "    overall_accuracy = overall_correct / overall_total\n",
    "\n",
    "    # Calculate accuracy for normal apples and abnormal apples separately\n",
    "    normal_accuracy = normal_correct / normal_total if normal_total != 0 else 0.0\n",
    "    abnormal_accuracy = abnormal_correct / abnormal_total if abnormal_total != 0 else 0.0\n",
    "\n",
    "    # Print overall accuracy\n",
    "    print(f\"Overall accuracy: {overall_accuracy:.4f}\")\n",
    "\n",
    "    # Print accuracy for normal apples and abnormal apples separately\n",
    "    print(f\"Normal Apple accuracy: {normal_accuracy:.4f}\")\n",
    "    print(f\"Abnormal Apple accuracy: {abnormal_accuracy:.4f}\")\n",
    "\n",
    "    # Print the confusion matrix\n",
    "    print()\n",
    "    print(labels_dict)\n",
    "    print(\"Confusion Matrix:\")\n",
    "    print(confusion_matrix)"
   ]
  },
  {
   "attachments": {},
   "cell_type": "markdown",
   "metadata": {},
   "source": [
    "save the data to azure cosmos NoSQL database\n"
   ]
  },
  {
   "cell_type": "code",
   "execution_count": 12,
   "metadata": {},
   "outputs": [
    {
     "name": "stdout",
     "output_type": "stream",
     "text": [
      "storage/data/generated/20230608-233306_pinky_loss.pt\n",
      "storage/data/generated/20230608-233306_pinky_loss.pt\n"
     ]
    }
   ],
   "source": [
    "local_saved_path= list(history[2].values())[0]\n",
    "model_file_name_loss = list(history[2].values())[1]\n",
    "print(f'{list(history[2].values())[0]}/{list(history[2].values())[1]}')\n",
    "\n",
    "model_file_name_loss= f'{list(history[2].values())[0]}/{list(history[2].values())[1]}'\n",
    "print(model_file_name_loss)"
   ]
  },
  {
   "attachments": {},
   "cell_type": "markdown",
   "metadata": {},
   "source": [
    "# Azure Cosmos NoSQL db seems to refuse the size of the model file."
   ]
  },
  {
   "cell_type": "code",
   "execution_count": 13,
   "metadata": {},
   "outputs": [
    {
     "name": "stdout",
     "output_type": "stream",
     "text": [
      "../storage/data/generated/20230608-233306_pinky_loss.pt\n",
      "../storage/data/generated/20230608-233306_pinky_acc.pt\n",
      "../storage/data/generated/20230608-233306_pinky_final.pt\n"
     ]
    },
    {
     "ename": "TypeError",
     "evalue": "expected str, bytes or os.PathLike object, not dict",
     "output_type": "error",
     "traceback": [
      "\u001b[0;31m---------------------------------------------------------------------------\u001b[0m",
      "\u001b[0;31mTypeError\u001b[0m                                 Traceback (most recent call last)",
      "Cell \u001b[0;32mIn[13], line 17\u001b[0m\n\u001b[1;32m     13\u001b[0m \u001b[39mprint\u001b[39m(model_file_name_acc)\n\u001b[1;32m     14\u001b[0m \u001b[39mprint\u001b[39m(model_file_name_final)\n\u001b[0;32m---> 17\u001b[0m pulled_loss \u001b[39m=\u001b[39m cf\u001b[39m.\u001b[39;49msave_data(parameters, history, )\n\u001b[1;32m     18\u001b[0m time\u001b[39m.\u001b[39msleep(\u001b[39m2\u001b[39m)\n\u001b[1;32m     19\u001b[0m pulled_acc \u001b[39m=\u001b[39m cf\u001b[39m.\u001b[39msave_data(parameters, history)\n",
      "File \u001b[0;32m~/workspace/pink_lady/factory/modules/cosmos_functions.py:98\u001b[0m, in \u001b[0;36msave_data\u001b[0;34m(pth_data, parameters, run_result, unique_ID, settings)\u001b[0m\n\u001b[1;32m     96\u001b[0m \u001b[39mif\u001b[39;00m pth_data \u001b[39m!=\u001b[39m \u001b[39mNone\u001b[39;00m:\n\u001b[1;32m     97\u001b[0m     pth_file_path \u001b[39m=\u001b[39m pth_data\n\u001b[0;32m---> 98\u001b[0m     \u001b[39mwith\u001b[39;00m \u001b[39mopen\u001b[39;49m(pth_file_path, \u001b[39m'\u001b[39;49m\u001b[39mrb\u001b[39;49m\u001b[39m'\u001b[39;49m) \u001b[39mas\u001b[39;00m file:\n\u001b[1;32m     99\u001b[0m         pth_data \u001b[39m=\u001b[39m file\u001b[39m.\u001b[39mread()\n\u001b[1;32m    100\u001b[0m         pth_bytes \u001b[39m=\u001b[39m base64\u001b[39m.\u001b[39mb64encode(pth_data)\u001b[39m.\u001b[39mdecode(\u001b[39m'\u001b[39m\u001b[39mutf-8\u001b[39m\u001b[39m'\u001b[39m)\n",
      "\u001b[0;31mTypeError\u001b[0m: expected str, bytes or os.PathLike object, not dict"
     ]
    }
   ],
   "source": [
    "# save the model to cosmos db\n",
    "\n",
    "\n",
    "import time\n",
    "\n",
    "model_file_name_loss= f'../{list(history[2].values())[0]}/{list(history[2].values())[1]}'\n",
    "model_file_name_acc = f'../{list(history[2].values())[0]}/{list(history[2].values())[2]}'\n",
    "model_file_name_final = f'../{list(history[2].values())[0]}/{list(history[2].values())[3]}'\n",
    "# model_file_name_loss= './20230605-103225_pinky_loss.pt' \n",
    "# model_file_name_acc = './20230605-103225_pinky_acc.pt'\n",
    "# model_file_name_final = './20230605-103225_pinky_final.pt'\n",
    "print(model_file_name_loss)\n",
    "print(model_file_name_acc)\n",
    "print(model_file_name_final)\n",
    "\n",
    "\n",
    "pulled_loss = cf.save_data(parameters, history, )\n",
    "time.sleep(2)\n",
    "pulled_acc = cf.save_data(parameters, history)\n",
    "time.sleep(2)\n",
    "pulled_final = cf.save_data(parameters, history)"
   ]
  },
  {
   "attachments": {},
   "cell_type": "markdown",
   "metadata": {},
   "source": [
    "test\n"
   ]
  },
  {
   "cell_type": "code",
   "execution_count": null,
   "metadata": {},
   "outputs": [],
   "source": [
    "print(pulled_final)"
   ]
  },
  {
   "attachments": {},
   "cell_type": "markdown",
   "metadata": {},
   "source": [
    "# WIP loader loads a wrong data type."
   ]
  }
 ],
 "metadata": {
  "kernelspec": {
   "display_name": "pink_lady-bMzUwwsu",
   "language": "python",
   "name": "python3"
  },
  "language_info": {
   "codemirror_mode": {
    "name": "ipython",
    "version": 3
   },
   "file_extension": ".py",
   "mimetype": "text/x-python",
   "name": "python",
   "nbconvert_exporter": "python",
   "pygments_lexer": "ipython3",
   "version": "3.11.3"
  },
  "orig_nbformat": 4
 },
 "nbformat": 4,
 "nbformat_minor": 2
}

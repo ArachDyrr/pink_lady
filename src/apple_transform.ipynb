{
 "cells": [
  {
   "cell_type": "code",
   "execution_count": null,
   "metadata": {},
   "outputs": [],
   "source": [
    "import os\n",
    "\n",
    "from PIL import Image, ImageOps\n",
    "\n",
    "resizeshape = 128\n",
    "\n",
    "for subdir, dirs, files in os.walk('../project3/apple_disease_classification/'):\n",
    "    for file in files:\n",
    "        filepath = subdir + os.sep + file\n",
    "\n",
    "        # to-do pre-check for all image filetypes\n",
    "        if filepath.endswith(\".jpg\") or filepath.endswith(\".jpeg\"):\n",
    "            img = Image.open(filepath)\n",
    "            if img.size != (resizeshape,resizeshape):\n",
    "                # had to delete one because the jpg was not parseable somehow, blotch #17 is png ipv jpg look into it later\n",
    "                rgb_im = img.convert('RGB')\n",
    "                rgb_im_resized = rgb_im.resize(\n",
    "                    (resizeshape, resizeshape))  # lets try 128x128\n",
    "                rgb_im_resized.save(filepath)\n",
    "\n",
    "                ## Quick way to augment dataset by flipping and mirroring\n",
    "                rgb_im_flipped = ImageOps.flip(rgb_im_resized)\n",
    "                rgb_im_mirrored = ImageOps.mirror(rgb_im_resized)\n",
    "\n",
    "                # Modify the file path to include 'flipped' before the extension\n",
    "                name, extension = os.path.splitext(filepath)\n",
    "                flipped_filepath = name + '_flipped' + extension\n",
    "                mirrored_filepath = name + '_mirrored' + extension\n",
    "\n",
    "                # Save rgb_im_flipped with the new filename\n",
    "                rgb_im_flipped.save(flipped_filepath)\n",
    "                rgb_im_mirrored.save(mirrored_filepath)\n",
    "`"
   ]
  }
 ],
 "metadata": {
  "language_info": {
   "name": "python"
  },
  "orig_nbformat": 4
 },
 "nbformat": 4,
 "nbformat_minor": 2
}

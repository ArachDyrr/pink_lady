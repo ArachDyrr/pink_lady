{
 "cells": [
  {
   "cell_type": "code",
   "execution_count": 1,
   "metadata": {},
   "outputs": [],
   "source": [
    "# imports\n",
    "import torch\n",
    "from modules.myFunctions import set_device, test_model\n"
   ]
  },
  {
   "cell_type": "code",
   "execution_count": 2,
   "metadata": {},
   "outputs": [
    {
     "name": "stdout",
     "output_type": "stream",
     "text": [
      "Device is 'mps' Thus a tensor will look like this: tensor([1.], device='mps:0')\n"
     ]
    },
    {
     "name": "stderr",
     "output_type": "stream",
     "text": [
      "/Users/stephandekker/.local/share/virtualenvs/pink_lady-bMzUwwsu/lib/python3.11/site-packages/torchvision/transforms/functional.py:1603: UserWarning: The default value of the antialias parameter of all the resizing transforms (Resize(), RandomResizedCrop(), etc.) will change from None to True in v0.17, in order to be consistent across the PIL and Tensor backends. To suppress this warning, directly pass antialias=True (recommended, future default), antialias=None (current default, which means False for Tensors and True for PIL), or antialias=False (only works on Tensors - PIL will still use antialiasing). This also applies if you are using the inference transforms from the models weights: update the call to weights.transforms(antialias=True).\n",
      "  warnings.warn(\n"
     ]
    },
    {
     "name": "stdout",
     "output_type": "stream",
     "text": [
      "Overall accuracy: 0.6562\n",
      "Normal Apple accuracy: 0.5000\n",
      "Abnormal Apple accuracy: 0.7083\n",
      "\n",
      "{'Blotch_Apple': 0, 'Normal_Apple': 1, 'Rot_Apple': 2, 'Scab_Apple': 3}\n",
      "Confusion Matrix:\n",
      "[[11  0  0  0]\n",
      " [ 1  4  0  3]\n",
      " [ 3  1  2  2]\n",
      " [ 1  0  0  4]]\n",
      "From a lot of 500 in accordance quality level I,\n",
      "a batch of 32 has been randomly drawn.\n",
      "the number of rejected apples is: 24\n",
      "The AQL label is: Class_Rejected\n"
     ]
    }
   ],
   "source": [
    "\n",
    "\n",
    "# Load the test dataset\n",
    "dataset_path = \"../storage/images/apple_resized_128/Test\"\n",
    "\n",
    "# import the model state\n",
    "imported_model_state_path = \"../storage/data/generated/20230613-153713_pinky_loss.pt\"   # test to 224x224 accuracy\n",
    "\n",
    "# set the device\n",
    "device = set_device() \n",
    "\n",
    "# import the model\n",
    "model = torch.load(imported_model_state_path)\n",
    "\n",
    "\n",
    "test_model(model, dataset_path, device)"
   ]
  }
 ],
 "metadata": {
  "kernelspec": {
   "display_name": "pink_lady-bMzUwwsu",
   "language": "python",
   "name": "python3"
  },
  "language_info": {
   "codemirror_mode": {
    "name": "ipython",
    "version": 3
   },
   "file_extension": ".py",
   "mimetype": "text/x-python",
   "name": "python",
   "nbconvert_exporter": "python",
   "pygments_lexer": "ipython3",
   "version": "3.11.3"
  },
  "orig_nbformat": 4
 },
 "nbformat": 4,
 "nbformat_minor": 2
}

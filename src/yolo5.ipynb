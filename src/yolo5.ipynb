{
 "cells": [
  {
   "cell_type": "code",
   "execution_count": 14,
   "metadata": {},
   "outputs": [],
   "source": [
    "import torch\n",
    "from glob import glob\n",
    "import shutil\n",
    "import os\n"
   ]
  },
  {
   "cell_type": "code",
   "execution_count": 15,
   "metadata": {},
   "outputs": [],
   "source": [
    "img_root = r\"C:\\Users\\jiyoo\\workspace\\MakeAIWork3\\project3\\apple_disease_classification\"\n",
    "img_folders = [\n",
    "    \"Test/Rot_Apple\",\n",
    "    \"Test/Scab_Apple\",\n",
    "    \"Test/Blotch_Apple\",\n",
    "    \"Test/Normal_Apple\",\n",
    "    \"Train/Rot_Apple\",\n",
    "    \"Train/Scab_Apple\",\n",
    "    \"Train/Blotch_Apple\",\n",
    "    \"Train/Normal_Apple\"\n",
    "]\n",
    "output_folder = os.path.join(img_root, \"image_control\")\n",
    "os.makedirs(output_folder, exist_ok=True)  # Create the output folder if it doesn't exist"
   ]
  },
  {
   "cell_type": "code",
   "execution_count": 11,
   "metadata": {},
   "outputs": [
    {
     "name": "stderr",
     "output_type": "stream",
     "text": [
      "Fusing layers... \n",
      "YOLOv5s summary: 270 layers, 7235389 parameters, 0 gradients\n"
     ]
    }
   ],
   "source": [
    "sys.path.insert(0, r\"C:\\Users\\jiyoo\\workspace\\MakeAIWork3\\yolov5\\models\")\n",
    "from yolov5.models.experimental import attempt_load\n",
    "\n",
    "# Load the YOLOv5 model\n",
    "model = attempt_load(weights=r\"C:\\Users\\jiyoo\\workspace\\MakeAIWork3\\yolov5s.pt\")\n",
    "\n",
    "# Define the transformation to apply on the detected apple region\n",
    "transform = transforms.Compose([\n",
    "    transforms.ToTensor()\n",
    "])"
   ]
  },
  {
   "cell_type": "code",
   "execution_count": null,
   "metadata": {},
   "outputs": [],
   "source": []
  }
 ],
 "metadata": {
  "kernelspec": {
   "display_name": "env",
   "language": "python",
   "name": "python3"
  },
  "language_info": {
   "codemirror_mode": {
    "name": "ipython",
    "version": 3
   },
   "file_extension": ".py",
   "mimetype": "text/x-python",
   "name": "python",
   "nbconvert_exporter": "python",
   "pygments_lexer": "ipython3",
   "version": "3.10.11"
  },
  "orig_nbformat": 4
 },
 "nbformat": 4,
 "nbformat_minor": 2
}

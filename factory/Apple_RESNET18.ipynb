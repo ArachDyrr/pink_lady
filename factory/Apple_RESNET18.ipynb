{
  "cells": [
    {
      "cell_type": "code",
      "execution_count": null,
      "metadata": {
        "id": "nWsDPVEJwnLT"
      },
      "outputs": [],
      "source": [
        "# Voeg imports toe als je ze nodig hebt\n",
        "import torch.nn as nn\n",
        "from torchvision.datasets import ImageFolder\n",
        "from torch.utils.data import DataLoader, random_split\n",
        "from torchvision.transforms import ToTensor\n",
        "import torch\n",
        "import torchvision.io as tio\n",
        "import matplotlib.pyplot as plt\n",
        "\n",
        "%matplotlib inline\n"
      ]
    },
    {
      "cell_type": "code",
      "execution_count": null,
      "metadata": {
        "id": "R-FB2J_kwnLU"
      },
      "outputs": [],
      "source": [
        "mylearnrate = 0.001\n",
        "batchsize = 32\n",
        "mymomentum = 0.9\n",
        "epochs = 500\n",
        "optchoice = 'sgd'\n",
        "generator1 = torch.Generator().manual_seed(42)\n",
        "inputdata = 'resized128' # choose cropped, resized128, resized224\n"
      ]
    },
    {
      "cell_type": "code",
      "execution_count": null,
      "metadata": {
        "id": "jybPIVtUwnLU",
        "outputId": "8e9e48de-6a4d-4a81-adb4-bfd569b3149c"
      },
      "outputs": [
        {
          "name": "stdout",
          "output_type": "stream",
          "text": [
            "Using cuda device\n"
          ]
        }
      ],
      "source": [
        "device = (\n",
        "    \"cuda\"\n",
        "    if torch.cuda.is_available()\n",
        "    else \"mps\"\n",
        "    if torch.backends.mps.is_available()\n",
        "    else \"cpu\"\n",
        ")\n",
        "print(f\"Using {device} device\")\n"
      ]
    },
    {
      "cell_type": "code",
      "execution_count": null,
      "metadata": {
        "id": "-nxaOUyQwnLV",
        "outputId": "9ede2937-f54d-45f7-8863-148379217a3f"
      },
      "outputs": [
        {
          "name": "stdout",
          "output_type": "stream",
          "text": [
            "./apple_resized_128/Train\n"
          ]
        }
      ],
      "source": [
        "if inputdata == 'cropped':\n",
        "    dataset_path = \"./apple_cropped\"\n",
        "elif inputdata == 'resized128':\n",
        "    dataset_path = \"./apple_resized_128/Train\"\n",
        "elif inputdata == 'resized224':\n",
        "    dataset_path = './apple_resized_224/Train'\n",
        "print(dataset_path)"
      ]
    },
    {
      "cell_type": "code",
      "execution_count": null,
      "metadata": {
        "id": "gZzuxlOOwnLV",
        "outputId": "0fd2c50f-f5e7-4da4-c2b3-93a9de647df6"
      },
      "outputs": [
        {
          "name": "stdout",
          "output_type": "stream",
          "text": [
            "Blotch_Apple 115\n",
            "Normal_Apple 67\n",
            "Rot_Apple 114\n",
            "Scab_Apple 85\n"
          ]
        }
      ],
      "source": [
        "# get length of each folder in imagefolder dataset\n",
        "\n",
        "import os\n",
        "\n",
        "imagefolder = dataset_path\n",
        "\n",
        "for folder in os.listdir(imagefolder):\n",
        "    print(folder, len(os.listdir(os.path.join(imagefolder, folder))))\n"
      ]
    },
    {
      "cell_type": "code",
      "execution_count": null,
      "metadata": {
        "id": "nNL3JCVBwnLV"
      },
      "outputs": [],
      "source": [
        "\n",
        "#If our dataset is more similar to ImageNet dataset, we can use ImageNet mean and std. ImageNet mean and std are mean=[0.485, 0.456, 0.406], std=[0.229, 0.224, 0.225]\n",
        "\n",
        "from torchvision import transforms\n",
        "\n",
        "# https://towardsdatascience.com/data-augmentations-in-torchvision-5d56d70c372e\n",
        "transform_img_normal = transforms.Compose([\n",
        "    transforms.ToTensor(),\n",
        "    # transforms.Normalize(mean = [0.5125,0.4667,0.4110],\n",
        "    #                      std= [0.2621,0.2501,0.2453]),\n",
        "    # transforms.RandomHorizontalFlip(p=0.5),\n",
        "    # transforms.RandomVerticalFlip(p=0.5),\n",
        "    # transforms.RandomRotation(45),\n",
        "    #transforms.Grayscale(3) #expected is 3 channels for the model, r == g == b\n",
        "])\n",
        "\n",
        "dataset = ImageFolder(dataset_path, transform=transform_img_normal)\n"
      ]
    },
    {
      "cell_type": "code",
      "execution_count": null,
      "metadata": {
        "id": "_sBlE6gYwnLV",
        "outputId": "df6a865b-12a5-475f-d60e-187efac0df5f"
      },
      "outputs": [
        {
          "data": {
            "text/plain": [
              "{'Blotch_Apple': 0, 'Normal_Apple': 1, 'Rot_Apple': 2, 'Scab_Apple': 3}"
            ]
          },
          "execution_count": 128,
          "metadata": {},
          "output_type": "execute_result"
        }
      ],
      "source": [
        "dataset.class_to_idx\n"
      ]
    },
    {
      "cell_type": "code",
      "execution_count": null,
      "metadata": {
        "id": "V8a0jyzxwnLV"
      },
      "outputs": [],
      "source": [
        "# split in train and test\n",
        "train_size = int(0.8 * len(dataset))\n",
        "test_size = len(dataset) - train_size\n",
        "train_dataset, test_dataset = random_split(dataset, [train_size, test_size],generator=generator1)\n"
      ]
    },
    {
      "cell_type": "code",
      "execution_count": null,
      "metadata": {
        "id": "S9QjQkqVwnLV"
      },
      "outputs": [],
      "source": [
        "trainloader = torch.utils.data.DataLoader(\n",
        "    train_dataset, batch_size=batchsize, shuffle=True, num_workers=2)  # numworkers parallel/subprocesses\n",
        "testloader = torch.utils.data.DataLoader(\n",
        "    test_dataset, batch_size=batchsize, shuffle=False)  # no need to shuffle when evaluating\n"
      ]
    },
    {
      "cell_type": "code",
      "execution_count": null,
      "metadata": {
        "id": "tXT94PZawnLV"
      },
      "outputs": [],
      "source": [
        "dataset_path_test = \"./apple_resized/Test\"\n",
        "transform = ToTensor()\n",
        "dataset_test = ImageFolder(dataset_path, transform=transform)\n",
        "dataset_test_loader = torch.utils.data.DataLoader(\n",
        "    dataset_test, batch_size=32, shuffle=False)\n"
      ]
    },
    {
      "cell_type": "code",
      "execution_count": null,
      "metadata": {
        "id": "ur52t8R7wnLW",
        "outputId": "d5574885-9d0e-4aa4-c26a-d3d93f36774a"
      },
      "outputs": [
        {
          "name": "stderr",
          "output_type": "stream",
          "text": [
            "Using cache found in C:\\Users\\tinke/.cache\\torch\\hub\\pytorch_vision_main\n"
          ]
        },
        {
          "data": {
            "text/plain": [
              "ResNet(\n",
              "  (conv1): Conv2d(3, 64, kernel_size=(7, 7), stride=(2, 2), padding=(3, 3), bias=False)\n",
              "  (bn1): BatchNorm2d(64, eps=1e-05, momentum=0.1, affine=True, track_running_stats=True)\n",
              "  (relu): ReLU(inplace=True)\n",
              "  (maxpool): MaxPool2d(kernel_size=3, stride=2, padding=1, dilation=1, ceil_mode=False)\n",
              "  (layer1): Sequential(\n",
              "    (0): BasicBlock(\n",
              "      (conv1): Conv2d(64, 64, kernel_size=(3, 3), stride=(1, 1), padding=(1, 1), bias=False)\n",
              "      (bn1): BatchNorm2d(64, eps=1e-05, momentum=0.1, affine=True, track_running_stats=True)\n",
              "      (relu): ReLU(inplace=True)\n",
              "      (conv2): Conv2d(64, 64, kernel_size=(3, 3), stride=(1, 1), padding=(1, 1), bias=False)\n",
              "      (bn2): BatchNorm2d(64, eps=1e-05, momentum=0.1, affine=True, track_running_stats=True)\n",
              "    )\n",
              "    (1): BasicBlock(\n",
              "      (conv1): Conv2d(64, 64, kernel_size=(3, 3), stride=(1, 1), padding=(1, 1), bias=False)\n",
              "      (bn1): BatchNorm2d(64, eps=1e-05, momentum=0.1, affine=True, track_running_stats=True)\n",
              "      (relu): ReLU(inplace=True)\n",
              "      (conv2): Conv2d(64, 64, kernel_size=(3, 3), stride=(1, 1), padding=(1, 1), bias=False)\n",
              "      (bn2): BatchNorm2d(64, eps=1e-05, momentum=0.1, affine=True, track_running_stats=True)\n",
              "    )\n",
              "  )\n",
              "  (layer2): Sequential(\n",
              "    (0): BasicBlock(\n",
              "      (conv1): Conv2d(64, 128, kernel_size=(3, 3), stride=(2, 2), padding=(1, 1), bias=False)\n",
              "      (bn1): BatchNorm2d(128, eps=1e-05, momentum=0.1, affine=True, track_running_stats=True)\n",
              "      (relu): ReLU(inplace=True)\n",
              "      (conv2): Conv2d(128, 128, kernel_size=(3, 3), stride=(1, 1), padding=(1, 1), bias=False)\n",
              "      (bn2): BatchNorm2d(128, eps=1e-05, momentum=0.1, affine=True, track_running_stats=True)\n",
              "      (downsample): Sequential(\n",
              "        (0): Conv2d(64, 128, kernel_size=(1, 1), stride=(2, 2), bias=False)\n",
              "        (1): BatchNorm2d(128, eps=1e-05, momentum=0.1, affine=True, track_running_stats=True)\n",
              "      )\n",
              "    )\n",
              "    (1): BasicBlock(\n",
              "      (conv1): Conv2d(128, 128, kernel_size=(3, 3), stride=(1, 1), padding=(1, 1), bias=False)\n",
              "      (bn1): BatchNorm2d(128, eps=1e-05, momentum=0.1, affine=True, track_running_stats=True)\n",
              "      (relu): ReLU(inplace=True)\n",
              "      (conv2): Conv2d(128, 128, kernel_size=(3, 3), stride=(1, 1), padding=(1, 1), bias=False)\n",
              "      (bn2): BatchNorm2d(128, eps=1e-05, momentum=0.1, affine=True, track_running_stats=True)\n",
              "    )\n",
              "  )\n",
              "  (layer3): Sequential(\n",
              "    (0): BasicBlock(\n",
              "      (conv1): Conv2d(128, 256, kernel_size=(3, 3), stride=(2, 2), padding=(1, 1), bias=False)\n",
              "      (bn1): BatchNorm2d(256, eps=1e-05, momentum=0.1, affine=True, track_running_stats=True)\n",
              "      (relu): ReLU(inplace=True)\n",
              "      (conv2): Conv2d(256, 256, kernel_size=(3, 3), stride=(1, 1), padding=(1, 1), bias=False)\n",
              "      (bn2): BatchNorm2d(256, eps=1e-05, momentum=0.1, affine=True, track_running_stats=True)\n",
              "      (downsample): Sequential(\n",
              "        (0): Conv2d(128, 256, kernel_size=(1, 1), stride=(2, 2), bias=False)\n",
              "        (1): BatchNorm2d(256, eps=1e-05, momentum=0.1, affine=True, track_running_stats=True)\n",
              "      )\n",
              "    )\n",
              "    (1): BasicBlock(\n",
              "      (conv1): Conv2d(256, 256, kernel_size=(3, 3), stride=(1, 1), padding=(1, 1), bias=False)\n",
              "      (bn1): BatchNorm2d(256, eps=1e-05, momentum=0.1, affine=True, track_running_stats=True)\n",
              "      (relu): ReLU(inplace=True)\n",
              "      (conv2): Conv2d(256, 256, kernel_size=(3, 3), stride=(1, 1), padding=(1, 1), bias=False)\n",
              "      (bn2): BatchNorm2d(256, eps=1e-05, momentum=0.1, affine=True, track_running_stats=True)\n",
              "    )\n",
              "  )\n",
              "  (layer4): Sequential(\n",
              "    (0): BasicBlock(\n",
              "      (conv1): Conv2d(256, 512, kernel_size=(3, 3), stride=(2, 2), padding=(1, 1), bias=False)\n",
              "      (bn1): BatchNorm2d(512, eps=1e-05, momentum=0.1, affine=True, track_running_stats=True)\n",
              "      (relu): ReLU(inplace=True)\n",
              "      (conv2): Conv2d(512, 512, kernel_size=(3, 3), stride=(1, 1), padding=(1, 1), bias=False)\n",
              "      (bn2): BatchNorm2d(512, eps=1e-05, momentum=0.1, affine=True, track_running_stats=True)\n",
              "      (downsample): Sequential(\n",
              "        (0): Conv2d(256, 512, kernel_size=(1, 1), stride=(2, 2), bias=False)\n",
              "        (1): BatchNorm2d(512, eps=1e-05, momentum=0.1, affine=True, track_running_stats=True)\n",
              "      )\n",
              "    )\n",
              "    (1): BasicBlock(\n",
              "      (conv1): Conv2d(512, 512, kernel_size=(3, 3), stride=(1, 1), padding=(1, 1), bias=False)\n",
              "      (bn1): BatchNorm2d(512, eps=1e-05, momentum=0.1, affine=True, track_running_stats=True)\n",
              "      (relu): ReLU(inplace=True)\n",
              "      (conv2): Conv2d(512, 512, kernel_size=(3, 3), stride=(1, 1), padding=(1, 1), bias=False)\n",
              "      (bn2): BatchNorm2d(512, eps=1e-05, momentum=0.1, affine=True, track_running_stats=True)\n",
              "    )\n",
              "  )\n",
              "  (avgpool): AdaptiveAvgPool2d(output_size=(1, 1))\n",
              "  (fc): Linear(in_features=512, out_features=4, bias=True)\n",
              ")"
            ]
          },
          "execution_count": 132,
          "metadata": {},
          "output_type": "execute_result"
        }
      ],
      "source": [
        "resnetmodel = torch.hub.load(\n",
        "    \"pytorch/vision\", \"resnet18\", weights=\"IMAGENET1K_V1\")\n",
        "num_ftrs = resnetmodel.fc.in_features\n",
        "\n",
        "# Here the size of each output sample is set to 4\n",
        "resnetmodel.fc = nn.Linear(num_ftrs, 4)\n",
        "\n",
        "# Check if output size is correct\n",
        "resnetmodel.eval()\n"
      ]
    },
    {
      "cell_type": "code",
      "execution_count": null,
      "metadata": {
        "id": "Yk-VHP_vwnLW"
      },
      "outputs": [],
      "source": [
        "# load to CUDA\n",
        "myresnetmodel = resnetmodel.to(device)"
      ]
    },
    {
      "cell_type": "code",
      "execution_count": null,
      "metadata": {
        "id": "mJXGLDimwnLW",
        "outputId": "f7b2ecd0-7b7c-4877-86d8-a0ff3f0b9f54"
      },
      "outputs": [
        {
          "name": "stdout",
          "output_type": "stream",
          "text": [
            "optimizer = sgd\n"
          ]
        }
      ],
      "source": [
        "import torch.optim as optim\n",
        "CrossEntropyLossCriterion = nn.CrossEntropyLoss()\n",
        "#optimizer = optim.SGD(myresnetmodel.parameters(), lr=mylearnrate, momentum=mymomentum)\n",
        "if optchoice == 'adam':\n",
        "    optimizer = optim.Adam(myresnetmodel.parameters(), lr=mylearnrate)\n",
        "    print('optimizer = Adam')\n",
        "elif optchoice  == 'sgd':\n",
        "    optimizer = optim.SGD(myresnetmodel.parameters(), lr=mylearnrate, momentum=mymomentum)\n",
        "    print('optimizer = sgd')"
      ]
    },
    {
      "cell_type": "code",
      "execution_count": null,
      "metadata": {
        "id": "BlsosT47wnLW",
        "outputId": "45a6f1ec-165b-4b97-d732-fd24735a75fc"
      },
      "outputs": [
        {
          "data": {
            "text/plain": [
              "<Figure size 640x480 with 0 Axes>"
            ]
          },
          "metadata": {},
          "output_type": "display_data"
        },
        {
          "data": {
            "image/png": "[encoded data removed]",
            "text/plain": [
              "<Figure size 640x480 with 1 Axes>"
            ]
          },
          "metadata": {},
          "output_type": "display_data"
        },
        {
          "name": "stdout",
          "output_type": "stream",
          "text": [
            "Early stopping\n"
          ]
        }
      ],
      "source": [
        "# Train function\n",
        "\n",
        "import realtime_graph as graph\n",
        "import gc\n",
        "\n",
        "epochresults = []\n",
        "epoch_valloss = 0 \n",
        "graph.startplot()\n",
        "\n",
        "\n",
        "for epoch in range(epochs):\n",
        "    \n",
        "    running_loss = 0.0\n",
        "    running_valloss = 0.0\n",
        "\n",
        "    myresnetmodel.train()\n",
        "    for idx, data in enumerate(trainloader):\n",
        "        inputs, labels = data\n",
        "        # print(inputs.shape) = torch.Size([4, 3, 32, 32])\n",
        "\n",
        "        #---load data into GPU----\n",
        "        inputs = inputs.to(device)\n",
        "        labels = labels.to(device)\n",
        "        #-------------------------\n",
        "        \n",
        "        #forward pass\n",
        "        outputs = myresnetmodel.forward(inputs)\n",
        "        loss = CrossEntropyLossCriterion(outputs, labels)\n",
        "\n",
        "        optimizer.zero_grad()  # reset previous calculated loss gradients to zero\n",
        "        loss.backward() # calculate new loss gradient\n",
        "\n",
        "        optimizer.step() # update weights based on learning rate and gradients\n",
        "        running_loss += loss.item()\n",
        "\n",
        "    epoch_loss = running_loss / len(trainloader)\n",
        "\n",
        "    myresnetmodel.eval() # prep model for evaluation\n",
        "    epoch_vallos_previous = epoch_valloss\n",
        "    for idx, data in enumerate(testloader):\n",
        "        #forward pass\n",
        "        outputs = myresnetmodel.forward(inputs)\n",
        "        loss = CrossEntropyLossCriterion(outputs, labels)\n",
        "\n",
        "        optimizer.zero_grad()  # reset previous calculated loss gradients to zero\n",
        "        loss.backward() # calculate new loss gradient\n",
        "\n",
        "        # record validation loss\n",
        "        running_valloss += loss.item()\n",
        "        \n",
        "\n",
        "    epoch_valloss = running_valloss / len(testloader)\n",
        "\n",
        "\n",
        "    epochresults.append([epoch_loss, epoch_valloss])\n",
        "\n",
        "    \n",
        "    graph.realtimeplot(epochresults)\n",
        "\n",
        "    limit = 0.0001    \n",
        "    if epoch_vallos_previous-limit < epoch_valloss < epoch_vallos_previous+limit and epoch_loss<0.05:\n",
        "        print(\"Early stopping\")\n",
        "        break"
      ]
    },
    {
      "cell_type": "code",
      "execution_count": null,
      "metadata": {
        "id": "1IxlPgchwnLW",
        "outputId": "db20ba92-179d-43f2-f8b8-6e79ae205acf"
      },
      "outputs": [
        {
          "name": "stdout",
          "output_type": "stream",
          "text": [
            "Accuracy of the network on the test images: 98 %\n",
            "Confusion Matrix:\n",
            "[[115.   0.   0.   0.]\n",
            " [  0.  66.   0.   1.]\n",
            " [  0.   1. 113.   0.]\n",
            " [  2.   0.   1.  82.]]\n"
          ]
        }
      ],
      "source": [
        "from sklearn.metrics import confusion_matrix\n",
        "import numpy as np\n",
        "\n",
        "correct = 0\n",
        "total = 0\n",
        "confusion_matrix = np.zeros((4, 4))  # Initialize the confusion matrix\n",
        "\n",
        "# since we're not training, we don't need to calculate the gradients for our outputs\n",
        "with torch.no_grad():\n",
        "    for idx, data in enumerate(dataset_test_loader):\n",
        "        inputs, labels = data\n",
        "        # print(inputs.shape) = torch.Size([4, 3, 32, 32])\n",
        "\n",
        "        # ---load data into GPU----\n",
        "        inputs = inputs.to(device)\n",
        "        labels = labels.to(device)\n",
        "        # -------------------------\n",
        "\n",
        "        # calculate outputs by running images through the network\n",
        "        outputs = myresnetmodel.forward(inputs)\n",
        "        # the class with the highest energy is what we choose as prediction\n",
        "        _, predicted = torch.max(outputs.data, 1)\n",
        "        total += labels.size(0)\n",
        "        correct += (predicted == labels).sum().item()\n",
        "\n",
        "        # Update confusion matrix\n",
        "        for i in range(len(labels)):\n",
        "            confusion_matrix[labels[i]][predicted[i]] += 1\n",
        "\n",
        "print(f'Accuracy of the network on the test images: {100 * correct // total} %')\n",
        "print('Confusion Matrix:')\n",
        "print(confusion_matrix)"
      ]
    },
    {
      "cell_type": "code",
      "execution_count": null,
      "metadata": {
        "id": "2F4t3gf4wnLW"
      },
      "outputs": [],
      "source": [
        "# >>> from torchmetrics.classification import MulticlassConfusionMatrix\n",
        "# >>> target = torch.tensor([2, 1, 0, 0])\n",
        "# >>> preds = torch.tensor([\n",
        "# ...   [0.16, 0.26, 0.58],\n",
        "# ...   [0.22, 0.61, 0.17],\n",
        "# ...   [0.71, 0.09, 0.20],\n",
        "# ...   [0.05, 0.82, 0.13],\n",
        "# ... ])\n",
        "# >>> metric = MulticlassConfusionMatrix(num_classes=3)\n",
        "# >>> metric(preds, target)\n",
        "# tensor([[1, 1, 0],\n",
        "#         [0, 1, 0],\n",
        "#         [0, 0, 1]])"
      ]
    }
  ],
  "metadata": {
    "kernelspec": {
      "display_name": "Python 3",
      "language": "python",
      "name": "python3"
    },
    "language_info": {
      "codemirror_mode": {
        "name": "ipython",
        "version": 3
      },
      "file_extension": ".py",
      "mimetype": "text/x-python",
      "name": "python",
      "nbconvert_exporter": "python",
      "pygments_lexer": "ipython3",
      "version": "3.11.3"
    },
    "orig_nbformat": 4,
    "colab": {
      "provenance": []
    }
  },
  "nbformat": 4,
  "nbformat_minor": 0
}
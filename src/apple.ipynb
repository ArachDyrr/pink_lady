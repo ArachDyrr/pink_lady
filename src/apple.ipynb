{
 "cells": [
  {
   "cell_type": "code",
   "execution_count": 1,
   "metadata": {},
   "outputs": [],
   "source": [
    "import torch\n",
    "from glob import glob\n",
    "import sys"
   ]
  },
  {
   "cell_type": "code",
   "execution_count": 4,
   "metadata": {},
   "outputs": [],
   "source": [
    "img_root = r\"C:\\Users\\jiyoo\\workspace\\MakeAIWork3\\project3\\apple_disease_classification\"\n",
    "img_folders = [\n",
    "    \"Test/Rot_Apple\",\n",
    "    \"Test/Scab_Apple\",\n",
    "    \"Test/Blotch_Apple\",\n",
    "    \"Test/Normal_Apple\",\n",
    "    \"Train/Rot_Apple\",\n",
    "    \"Train/Scab_Apple\",\n",
    "    \"Train/Blotch_Apple\",\n",
    "    \"Train/Normal_Apple\"\n",
    "]"
   ]
  },
  {
   "cell_type": "code",
   "execution_count": null,
   "metadata": {},
   "outputs": [],
   "source": []
  }
 ],
 "metadata": {
  "kernelspec": {
   "display_name": "env",
   "language": "python",
   "name": "python3"
  },
  "language_info": {
   "codemirror_mode": {
    "name": "ipython",
    "version": 3
   },
   "file_extension": ".py",
   "mimetype": "text/x-python",
   "name": "python",
   "nbconvert_exporter": "python",
   "pygments_lexer": "ipython3",
   "version": "3.10.11"
  },
  "orig_nbformat": 4
 },
 "nbformat": 4,
 "nbformat_minor": 2
}
